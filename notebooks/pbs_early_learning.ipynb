{
 "cells": [
  {
   "cell_type": "markdown",
   "metadata": {},
   "source": [
    "# Uncover the factors to help measure how young children learn"
   ]
  },
  {
   "cell_type": "markdown",
   "metadata": {},
   "source": [
    "### Setting Up"
   ]
  },
  {
   "cell_type": "code",
   "execution_count": 1,
   "metadata": {},
   "outputs": [
    {
     "name": "stderr",
     "output_type": "stream",
     "text": [
      "C:\\Users\\jakec\\AppData\\Local\\Continuum\\anaconda3\\envs\\early-chieldhood-education\\lib\\site-packages\\tqdm\\std.py:651: FutureWarning: The Panel class is removed from pandas. Accessing it from the top-level namespace will also be removed in the next version\n",
      "  from pandas import Panel\n"
     ]
    }
   ],
   "source": [
    "# System management\n",
    "import os\n",
    "import gc\n",
    "\n",
    "# Numpy and pandas for data analysis and manipulation\n",
    "import numpy as np\n",
    "import pandas as pd\n",
    "\n",
    "# Json for converting string to dict\n",
    "import json\n",
    "\n",
    "# Random for random\n",
    "import random\n",
    "\n",
    "# Datetime for handling date time variables\n",
    "import datetime as dt\n",
    "\n",
    "# Matplotlib pyplot and seaborn for plotting\n",
    "import matplotlib.pyplot as plt\n",
    "import seaborn as sns\n",
    "\n",
    "# Algorithms\n",
    "from sklearn.ensemble import RandomForestClassifier as rf\n",
    "from xgboost import XGBClassifier as xgb\n",
    "from lightgbm import LGBMClassifier as lgbm\n",
    "from lightgbm import LGBMRegressor\n",
    "\n",
    "# Sklearn importing folding methods\n",
    "from sklearn.model_selection import train_test_split, KFold, StratifiedKFold, GroupKFold\n",
    "from sklearn.preprocessing import LabelEncoder\n",
    "\n",
    "# Sklearn importing evaluation metrics\n",
    "from sklearn.metrics import roc_curve, auc, roc_auc_score, log_loss, accuracy_score, confusion_matrix\n",
    "\n",
    "# For shuffling Groups\n",
    "from sklearn.utils import shuffle\n",
    "\n",
    "# Hyper paramater optimisation\n",
    "from hyperopt import hp, tpe, Trials, STATUS_OK\n",
    "from hyperopt.fmin import fmin\n",
    "\n",
    "# Weights and Biases for model control\n",
    "import wandb\n",
    "\n",
    "# tqdm for progress management\n",
    "from tqdm import tqdm\n",
    "tqdm.pandas()\n",
    "\n",
    "# Suppress warnings\n",
    "import warnings\n",
    "warnings.filterwarnings('ignore')"
   ]
  },
  {
   "cell_type": "code",
   "execution_count": 2,
   "metadata": {},
   "outputs": [],
   "source": [
    "# Setting up\n",
    "config = {\n",
    "    'method': 'LightGBM',\n",
    "    'debug': False,\n",
    "    'debug_train_size': 100,\n",
    "    'debug_test_size': 50,\n",
    "    'random_seed': 42,\n",
    "    'num_trials': 100\n",
    "}"
   ]
  },
  {
   "cell_type": "markdown",
   "metadata": {},
   "source": [
    "### Functions"
   ]
  },
  {
   "cell_type": "code",
   "execution_count": 3,
   "metadata": {},
   "outputs": [],
   "source": [
    "def ml_encoder(train, test, encode_columns, threshold=999, nan_as_category=True):\n",
    "    \"\"\"\n",
    "    One-hot and label encoder with thresholds for categorical columns\n",
    "    \"\"\"\n",
    "    # Union train and test to make sure all categories are represented\n",
    "    df = pd.concat([train, test], ignore_index=True)\n",
    "    \n",
    "    # Unchanged columns\n",
    "    keep_df = df[df.columns[~df.columns.isin(encode_columns)]]\n",
    "\n",
    "    # Number of categories\n",
    "    num_categories = df[encode_columns].describe(include='all').loc['unique']\n",
    "    \n",
    "    # Label encoding\n",
    "    label_columns = num_categories.where(num_categories >= threshold).dropna().index\n",
    "    le = LabelEncoder()\n",
    "    label_df = df[label_columns].apply(lambda col: le.fit_transform(col))\n",
    "\n",
    "    # One hot encoding\n",
    "    one_hot_columns = num_categories.where(num_categories < threshold).dropna().index\n",
    "    one_hot_df = pd.get_dummies(df[one_hot_columns], dummy_na=nan_as_category)\n",
    "    one_hot_df.columns = [f\"{col}\" for col in one_hot_df.columns]\n",
    "    \n",
    "    # Rebuild the dataframe\n",
    "    df = pd.concat([keep_df, label_df, one_hot_df], axis=1, sort=True)\n",
    "    \n",
    "    train = df.iloc[:len(train.index)].reset_index().drop(columns=['index'])\n",
    "    test = df.iloc[len(train.index):].reset_index().drop(columns=['index'])\n",
    "    \n",
    "    return train, test, le"
   ]
  },
  {
   "cell_type": "code",
   "execution_count": 4,
   "metadata": {},
   "outputs": [],
   "source": [
    "# Splitting out event_data into columns\n",
    "def json_to_columns(train, test, json_columns):\n",
    "    \n",
    "    # Union train and test to make sure all categories are represented\n",
    "    df = pd.concat([train, test], ignore_index=True)\n",
    "    \n",
    "    # Base to make the new datafram from\n",
    "    base_df = df[df.columns[~df.columns.isin(json_columns)]]\n",
    "\n",
    "    for column in json_columns:\n",
    "        json_df = pd.DataFrame(df[column].apply(json.loads).values.tolist())\n",
    "        json_df = json_df.fillna(0).astype(int)\n",
    "        json_df.columns = [f\"{column}_{new_column}\" for new_column in json_df.columns]\n",
    "        base_df = pd.concat([base_df, json_df], axis=1)\n",
    "    \n",
    "    train = base_df.iloc[:len(train.index)].reset_index().drop(columns=['index'])\n",
    "    test = base_df.iloc[len(train.index):].reset_index().drop(columns=['index'])\n",
    "    \n",
    "    return train, test"
   ]
  },
  {
   "cell_type": "code",
   "execution_count": 5,
   "metadata": {},
   "outputs": [],
   "source": [
    "def accuracy_grouping(accuracy):\n",
    "    if accuracy == 1:\n",
    "        return 3\n",
    "    elif accuracy == 0.5:\n",
    "        return 2\n",
    "    elif accuracy > 0:\n",
    "        return 1\n",
    "    elif accuracy == 0:\n",
    "        return 0"
   ]
  },
  {
   "cell_type": "markdown",
   "metadata": {},
   "source": [
    "### Imported Functions"
   ]
  },
  {
   "cell_type": "code",
   "execution_count": 6,
   "metadata": {},
   "outputs": [],
   "source": [
    "# Using Ben Hamners quadratic weighted Kappa https://github.com/benhamner/Metrics/blob/master/Python/ml_metrics/quadratic_weighted_kappa.py\n",
    "def confusion_matrix(rater_a, rater_b, min_rating=None, max_rating=None):\n",
    "    \"\"\"\n",
    "    Returns the confusion matrix between rater's ratings\n",
    "    \"\"\"\n",
    "    assert(len(rater_a) == len(rater_b))\n",
    "    if min_rating is None:\n",
    "        min_rating = min(rater_a + rater_b)\n",
    "    if max_rating is None:\n",
    "        max_rating = max(rater_a + rater_b)\n",
    "    num_ratings = int(max_rating - min_rating + 1)\n",
    "    conf_mat = [[0 for i in range(num_ratings)]\n",
    "                for j in range(num_ratings)]\n",
    "    for a, b in zip(rater_a, rater_b):\n",
    "        conf_mat[a - min_rating][b - min_rating] += 1\n",
    "    return conf_mat\n",
    "\n",
    "\n",
    "def histogram(ratings, min_rating=None, max_rating=None):\n",
    "    \"\"\"\n",
    "    Returns the counts of each type of rating that a rater made\n",
    "    \"\"\"\n",
    "    if min_rating is None:\n",
    "        min_rating = min(ratings)\n",
    "    if max_rating is None:\n",
    "        max_rating = max(ratings)\n",
    "    num_ratings = int(max_rating - min_rating + 1)\n",
    "    hist_ratings = [0 for x in range(num_ratings)]\n",
    "    for r in ratings:\n",
    "        hist_ratings[r - min_rating] += 1\n",
    "    return hist_ratings\n",
    "\n",
    "\n",
    "def quadratic_weighted_kappa(rater_a, rater_b, min_rating=None, max_rating=None):\n",
    "    \"\"\"\n",
    "    Calculates the quadratic weighted kappa\n",
    "    quadratic_weighted_kappa calculates the quadratic weighted kappa\n",
    "    value, which is a measure of inter-rater agreement between two raters\n",
    "    that provide discrete numeric ratings.  Potential values range from -1\n",
    "    (representing complete disagreement) to 1 (representing complete\n",
    "    agreement).  A kappa value of 0 is expected if all agreement is due to\n",
    "    chance.\n",
    "    quadratic_weighted_kappa(rater_a, rater_b), where rater_a and rater_b\n",
    "    each correspond to a list of integer ratings.  These lists must have the\n",
    "    same length.\n",
    "    The ratings should be integers, and it is assumed that they contain\n",
    "    the complete range of possible ratings.\n",
    "    quadratic_weighted_kappa(X, min_rating, max_rating), where min_rating\n",
    "    is the minimum possible rating, and max_rating is the maximum possible\n",
    "    rating\n",
    "    \"\"\"\n",
    "    rater_a = np.array(rater_a, dtype=int)\n",
    "    rater_b = np.array(rater_b, dtype=int)\n",
    "    assert(len(rater_a) == len(rater_b))\n",
    "    if min_rating is None:\n",
    "        min_rating = min(min(rater_a), min(rater_b))\n",
    "    if max_rating is None:\n",
    "        max_rating = max(max(rater_a), max(rater_b))\n",
    "    conf_mat = confusion_matrix(rater_a, rater_b,\n",
    "                                min_rating, max_rating)\n",
    "    num_ratings = len(conf_mat)\n",
    "    num_scored_items = float(len(rater_a))\n",
    "\n",
    "    hist_rater_a = histogram(rater_a, min_rating, max_rating)\n",
    "    hist_rater_b = histogram(rater_b, min_rating, max_rating)\n",
    "\n",
    "    numerator = 0.0\n",
    "    denominator = 0.0\n",
    "\n",
    "    for i in range(num_ratings):\n",
    "        for j in range(num_ratings):\n",
    "            expected_count = (hist_rater_a[i] * hist_rater_b[j]\n",
    "                              / num_scored_items)\n",
    "            d = pow(i - j, 2.0) / pow(num_ratings - 1, 2.0)\n",
    "            numerator += d * conf_mat[i][j] / num_scored_items\n",
    "            denominator += d * expected_count / num_scored_items\n",
    "\n",
    "    return 1.0 - numerator / denominator\n"
   ]
  },
  {
   "cell_type": "markdown",
   "metadata": {},
   "source": [
    "### Importing Data"
   ]
  },
  {
   "cell_type": "markdown",
   "metadata": {},
   "source": [
    "Can be commented out after the first run"
   ]
  },
  {
   "cell_type": "code",
   "execution_count": 7,
   "metadata": {},
   "outputs": [],
   "source": [
    "# y_train = pd.read_csv(\"../data/train_labels.csv\")\n",
    "# # Saving full training set as feather\n",
    "# y_train.reset_index().drop(columns = ['index']).to_feather(\"../data/y_train.feather\")\n",
    "# print(y_train.shape)\n",
    "# # Creating sample for debuging\n",
    "# sample = pd.Series(y_train['installation_id'].unique()).sample(config['debug_train_size'], random_state=config['random_seed'])\n",
    "# y_train_sample = y_train.where(y_train['installation_id'].isin(sample)).dropna()\n",
    "# y_train_sample.reset_index().drop(columns = ['index']).to_feather(\"../data/y_train_sample.feather\")\n",
    "# print(y_train_sample.shape)"
   ]
  },
  {
   "cell_type": "code",
   "execution_count": 8,
   "metadata": {},
   "outputs": [],
   "source": [
    "# X_train = pd.read_csv(\"../data/train.csv\")\n",
    "# # Droping ids that never had an assessment\n",
    "# assessed = y_train['installation_id']\n",
    "# X_train = X_train.where(X_train['installation_id'].isin(assessed)).dropna()\n",
    "# # Saving full training set as feather\n",
    "# X_train.reset_index().drop(columns = ['index']).to_feather(\"../data/X_train.feather\")\n",
    "# print(X_train.shape)\n",
    "# # Creating sample for config['debug']ing\n",
    "# X_train_sample = X_train.where(X_train['installation_id'].isin(sample)).dropna()\n",
    "# X_train_sample.reset_index().drop(columns = ['index']).to_feather(\"../data/X_train_sample.feather\")\n",
    "# print(X_train_sample.shape)"
   ]
  },
  {
   "cell_type": "code",
   "execution_count": 9,
   "metadata": {},
   "outputs": [],
   "source": [
    "# X_test = pd.read_csv(\"../data/test.csv\")\n",
    "# # Saving full training set as feather\n",
    "# X_test.reset_index().to_feather(\"../data/X_test.feather\")\n",
    "# print(X_test.shape)\n",
    "# # Creating test sample for config['debug']ing\n",
    "# test_sample = pd.Series(X_test['installation_id'].unique()).sample(config['debug_test_size'], random_state=config['random_seed'])\n",
    "# X_test_sample = X_test.where(X_test['installation_id'].isin(test_sample)).dropna()\n",
    "# X_test_sample.reset_index().drop(columns = ['index']).to_feather(\"../data/X_test_sample.feather\")\n",
    "# print(X_test_sample.shape)"
   ]
  },
  {
   "cell_type": "code",
   "execution_count": 10,
   "metadata": {},
   "outputs": [],
   "source": [
    "# Loading training set from feather\n",
    "if config['debug']:\n",
    "    X_train = pd.read_feather(\"../data/X_train_sample.feather\")\n",
    "else:\n",
    "    X_train = pd.read_feather(\"../data/X_train.feather\")"
   ]
  },
  {
   "cell_type": "code",
   "execution_count": 11,
   "metadata": {},
   "outputs": [],
   "source": [
    "# Loading target set from feather\n",
    "if config['debug']:\n",
    "    y_train = pd.read_feather(\"../data/y_train_sample.feather\")\n",
    "else:\n",
    "    y_train = pd.read_feather(\"../data/y_train.feather\")"
   ]
  },
  {
   "cell_type": "code",
   "execution_count": 12,
   "metadata": {},
   "outputs": [],
   "source": [
    "# Loading testing set from feather\n",
    "if config['debug']:\n",
    "    X_test = pd.read_feather(\"../data/X_test_sample.feather\")\n",
    "else:\n",
    "    X_test = pd.read_feather(\"../data/X_test.feather\")"
   ]
  },
  {
   "cell_type": "code",
   "execution_count": 13,
   "metadata": {},
   "outputs": [
    {
     "data": {
      "text/plain": [
       "73"
      ]
     },
     "execution_count": 13,
     "metadata": {},
     "output_type": "execute_result"
    }
   ],
   "source": [
    "gc.collect()"
   ]
  },
  {
   "cell_type": "markdown",
   "metadata": {},
   "source": [
    "## Feature Engineering"
   ]
  },
  {
   "cell_type": "markdown",
   "metadata": {},
   "source": [
    "##### Creating features"
   ]
  },
  {
   "cell_type": "code",
   "execution_count": 14,
   "metadata": {},
   "outputs": [],
   "source": [
    "X_train['datetime'] = [dt.replace(tzinfo=None) for dt in pd.to_datetime(X_train.timestamp)]\n",
    "X_test['datetime'] = [dt.replace(tzinfo=None) for dt in pd.to_datetime(X_test.timestamp)]"
   ]
  },
  {
   "cell_type": "code",
   "execution_count": 15,
   "metadata": {},
   "outputs": [],
   "source": [
    "# X_train['title.event_code'] = X_train[['title', 'event_code']].apply(lambda x: ''.join(str(x)), axis=1)\n",
    "# X_test['title.event_code'] = X_train[['title', 'event_code']].apply(lambda x: ''.join(str(x)), axis=1)"
   ]
  },
  {
   "cell_type": "code",
   "execution_count": 16,
   "metadata": {},
   "outputs": [],
   "source": [
    "X_train['assessed'] = (((X_train.type == 'Assessment') & (X_train.event_code == 4100)) \n",
    "                      | ((X_train.title == 'Bird Measurer (Assessment)') & (X_train.event_code == 4110)))\n",
    "X_test['assessed'] = (((X_test.type == 'Assessment') & (X_test.event_code == 4100)) \n",
    "                      | ((X_test.title == 'Bird Measurer (Assessment)') & (X_test.event_code == 4110)))"
   ]
  },
  {
   "cell_type": "markdown",
   "metadata": {},
   "source": [
    "##### Grouping into sessions"
   ]
  },
  {
   "cell_type": "code",
   "execution_count": 17,
   "metadata": {},
   "outputs": [],
   "source": [
    "# For now just pulling out basic information\n",
    "def session_information(df):\n",
    "    # should look into event_data, event_id, time over each event, time to each event, time from each event, etc.\n",
    "    session_df = pd.DataFrame([[df.installation_id.iloc[0]]], columns=['installation_id'])\n",
    "#     session_df['game_session'] = df.game_session.iloc[0]\n",
    "    session_df['type'] = df.type.iloc[0]\n",
    "    session_df['title'] = df.title.iloc[0]\n",
    "    session_df['session_title'] = df.title.iloc[0]\n",
    "    session_df['session_num_event_code'] = json.dumps(df.groupby(['event_code']).count()['installation_id'].to_dict())\n",
    "    session_df['session_num_event_id'] = json.dumps(df.groupby(['event_id']).count()['installation_id'].to_dict())\n",
    "    session_df['session_event_count'] = df.event_count.max()\n",
    "    session_df['session_start'] = df.datetime.min()\n",
    "    session_df['session_end'] = df.datetime.max()\n",
    "    session_df['session_length'] = df.game_time.max()\n",
    "    session_df['session_avg_event_time'] = session_df.session_length / session_df.session_event_count\n",
    "    session_df['session_hour'] = session_df.session_start.dt.hour.astype(str)\n",
    "    session_df['session_day'] = session_df.session_start.dt.dayofyear\n",
    "    session_df['session_weekday'] = session_df.session_start.dt.weekday.astype(str)\n",
    "    # Assessed sessions\n",
    "    session_df['assessed'] = df.assessed.any()\n",
    "    session_df['num_correct'] = df.event_data.apply(lambda x: json.loads(x).get('correct')).sum()\n",
    "    session_df['num_incorrect'] = df.event_data.apply(lambda x: json.loads(x).get('correct')).count() - session_df.num_correct\n",
    "    session_df['accuracy'] = session_df.num_correct / (session_df.num_correct + session_df.num_incorrect)\n",
    "    session_df['accuracy_grouping'] = session_df.accuracy.apply(lambda x: accuracy_grouping(x))\n",
    "    \n",
    "    return session_df"
   ]
  },
  {
   "cell_type": "code",
   "execution_count": 18,
   "metadata": {},
   "outputs": [
    {
     "name": "stderr",
     "output_type": "stream",
     "text": [
      "100%|██████████| 175467/175467 [1:00:11<00:00, 48.58it/s]\n",
      "100%|██████████| 28445/28445 [08:17<00:00, 57.19it/s]\n"
     ]
    }
   ],
   "source": [
    "# Grouping up to a session level\n",
    "X_train = X_train.groupby('game_session').progress_apply(session_information)\n",
    "X_test = X_test.groupby('game_session').progress_apply(session_information)"
   ]
  },
  {
   "cell_type": "code",
   "execution_count": 19,
   "metadata": {},
   "outputs": [],
   "source": [
    "X_train.sort_values(['session_start', 'game_session'], inplace=True)\n",
    "X_test.sort_values(['session_start', 'game_session'], inplace=True)"
   ]
  },
  {
   "cell_type": "code",
   "execution_count": 20,
   "metadata": {},
   "outputs": [],
   "source": [
    "X_train = X_train.reset_index().drop(columns='level_1')\n",
    "X_test = X_test.reset_index().drop(columns='level_1')"
   ]
  },
  {
   "cell_type": "code",
   "execution_count": 21,
   "metadata": {},
   "outputs": [],
   "source": [
    "X_train, X_test = json_to_columns(X_train, X_test, ['session_num_event_code', 'session_num_event_id'])"
   ]
  },
  {
   "cell_type": "code",
   "execution_count": 22,
   "metadata": {},
   "outputs": [],
   "source": [
    "X_train, X_test, _ = ml_encoder(X_train, X_test, encode_columns=['type', 'title'], nan_as_category=False)"
   ]
  },
  {
   "cell_type": "code",
   "execution_count": 23,
   "metadata": {},
   "outputs": [],
   "source": [
    "X_train.columns = [str(col) for col in X_train.columns]\n",
    "X_test.columns = [str(col) for col in X_train.columns]"
   ]
  },
  {
   "cell_type": "code",
   "execution_count": 24,
   "metadata": {},
   "outputs": [
    {
     "name": "stdout",
     "output_type": "stream",
     "text": [
      "Train shape: (175467, 528)\n",
      "Test shape: (28445, 528)\n"
     ]
    }
   ],
   "source": [
    "print(f\"Train shape: {X_train.shape}\")\n",
    "print(f\"Test shape: {X_test.shape}\")"
   ]
  },
  {
   "cell_type": "code",
   "execution_count": 25,
   "metadata": {},
   "outputs": [],
   "source": [
    "# Saving to feather for fast loading from checkpoint\n",
    "if config['debug']:\n",
    "    X_train.to_feather(\"../data/X_train_sessions_sample.feather\")\n",
    "    X_test.to_feather(\"../data/X_test_sessions_sample.feather\")\n",
    "else:\n",
    "    X_train.to_feather(\"../data/X_train_sessions.feather\")\n",
    "    X_test.to_feather(\"../data/X_test_sessions.feather\")"
   ]
  },
  {
   "cell_type": "code",
   "execution_count": 26,
   "metadata": {},
   "outputs": [
    {
     "data": {
      "text/plain": [
       "22"
      ]
     },
     "execution_count": 26,
     "metadata": {},
     "output_type": "execute_result"
    }
   ],
   "source": [
    "# Saving to feather for fast loading from checkpoint\n",
    "if config['debug']:\n",
    "    X_train = pd.read_feather(\"../data/X_train_sessions_sample.feather\")\n",
    "    X_test = pd.read_feather(\"../data/X_test_sessions_sample.feather\")\n",
    "else:\n",
    "    X_train = pd.read_feather(\"../data/X_train_sessions.feather\")\n",
    "    X_test = pd.read_feather(\"../data/X_test_sessions.feather\")\n",
    "gc.collect()"
   ]
  },
  {
   "cell_type": "markdown",
   "metadata": {},
   "source": [
    "##### Grouping into assessment events"
   ]
  },
  {
   "cell_type": "code",
   "execution_count": 27,
   "metadata": {},
   "outputs": [],
   "source": [
    "def get_rolling_amount(grp, freq):\n",
    "    return grp.rolling(freq, on='session_start').session_event_count.count()"
   ]
  },
  {
   "cell_type": "code",
   "execution_count": 28,
   "metadata": {},
   "outputs": [],
   "source": [
    "def installation_information(df, test_set=False):\n",
    "    # Columns to sum count over\n",
    "    cumulative_columns = [col for col in df.columns if ('event_code_' in col or \n",
    "                                                        'event_id_' in col or \n",
    "                                                        'title_' in col or \n",
    "                                                        'type_' in col or \n",
    "                                                        col in ('session_event_count', 'session_length', 'num_correct', \n",
    "                                                                'num_incorrect', 'accuracy', 'accuracy_grouping', 'assessed'))]\n",
    "\n",
    "    cumulative_df = df[cumulative_columns + ['installation_id']].groupby('installation_id').cumsum()\n",
    "    cumulative_df.columns = [f\"cumulative_{col}\" for col in cumulative_df.columns]\n",
    "    \n",
    "    # Removing counts from the assessed session (they're truncated in the test set)\n",
    "    for col in cumulative_columns:\n",
    "        cumulative_df[f\"cumulative_{col}\"] = cumulative_df[f\"cumulative_{col}\"] - df[col]\n",
    "    \n",
    "    cumulative_df['num_sessions'] = df.groupby('installation_id').game_session.cumcount()\n",
    "        \n",
    "    # Ratios\n",
    "    cumulative_df['average_event_time'] = cumulative_df.cumulative_session_length / cumulative_df.num_sessions\n",
    "    cumulative_df['average_event_count'] = cumulative_df.cumulative_session_event_count / cumulative_df.num_sessions\n",
    "    cumulative_df['average_num_correct'] = cumulative_df.cumulative_num_correct / cumulative_df.cumulative_assessed\n",
    "    cumulative_df['average_accuracy'] = cumulative_df.cumulative_accuracy / cumulative_df.cumulative_assessed\n",
    "    cumulative_df['total_accuracy'] = cumulative_df.cumulative_num_correct / (cumulative_df.cumulative_num_correct + cumulative_df.cumulative_num_incorrect)\n",
    "    cumulative_df['average_accuracy_grouping'] = cumulative_df.cumulative_accuracy_grouping / cumulative_df.cumulative_assessed\n",
    "    \n",
    "    # Dabbling with temporal features\n",
    "    # Time since last session\n",
    "    cumulative_df['time_last_session'] = (df.groupby('installation_id').session_start.shift(1) - df.session_start).astype(np.int64)\n",
    "    # Number of sessions in past period\n",
    "    cumulative_df['num_sessions_past_month'] = df.groupby('installation_id', as_index=False, group_keys=False).apply(get_rolling_amount, '30D')\n",
    "    cumulative_df['num_sessions_past_week'] = df.groupby('installation_id', as_index=False, group_keys=False).apply(get_rolling_amount, '7D')\n",
    "    cumulative_df['num_sessionspast_day'] = df.groupby('installation_id', as_index=False, group_keys=False).apply(get_rolling_amount, '1D')\n",
    "    cumulative_df['num_sessionspast_hour'] = df.groupby('installation_id', as_index=False, group_keys=False).apply(get_rolling_amount, '1H')\n",
    "    \n",
    "    drop_columns = [col for col in df.columns if ('event_code_' in col or 'event_id_' in col)]\n",
    "    df = df.drop(columns = drop_columns)\n",
    "    \n",
    "    # Build the aggregated dataframe\n",
    "    df = pd.concat([df, cumulative_df], axis=1, sort=True)\n",
    "    \n",
    "    if test_set:\n",
    "        df = df.loc[df.groupby('installation_id').session_start.idxmax()]\n",
    "    else:\n",
    "        df = df[df.assessed]\n",
    "    \n",
    "    return df"
   ]
  },
  {
   "cell_type": "code",
   "execution_count": 29,
   "metadata": {},
   "outputs": [],
   "source": [
    "X_train = installation_information(X_train)\n",
    "X_test = installation_information(X_test, test_set=True)"
   ]
  },
  {
   "cell_type": "markdown",
   "metadata": {},
   "source": [
    "### Basic Data Prep"
   ]
  },
  {
   "cell_type": "code",
   "execution_count": 30,
   "metadata": {},
   "outputs": [],
   "source": [
    "# Removing test events that are not part of the kaggle compitition\n",
    "X_test = X_test.loc[X_test.groupby('installation_id').session_start.idxmax()]"
   ]
  },
  {
   "cell_type": "code",
   "execution_count": 31,
   "metadata": {},
   "outputs": [],
   "source": [
    "# Encoding\n",
    "X_train, X_test, le = ml_encoder(X_train, X_test, encode_columns=['session_title', 'session_hour', 'session_weekday'], nan_as_category=False)"
   ]
  },
  {
   "cell_type": "code",
   "execution_count": 32,
   "metadata": {},
   "outputs": [],
   "source": [
    "# Quick way to allign index\n",
    "y_train = X_train.accuracy_grouping.astype(int)"
   ]
  },
  {
   "cell_type": "code",
   "execution_count": 33,
   "metadata": {},
   "outputs": [],
   "source": [
    "# Drop columns thatwon't be helpful or that we wont have in the test set\n",
    "drop_columns = ['session_start', 'session_end', 'accuracy_grouping', 'assessed', 'num_correct', 'num_incorrect', 'accuracy', 'game_session'\n",
    "                , 'session_avg_event_time', 'session_event_count', 'session_length']\n",
    "X_train.drop(columns = drop_columns, inplace=True)\n",
    "X_test.drop(columns = drop_columns, inplace=True)"
   ]
  },
  {
   "cell_type": "code",
   "execution_count": 34,
   "metadata": {},
   "outputs": [
    {
     "name": "stdout",
     "output_type": "stream",
     "text": [
      "train shape: (17692, 618)\n",
      "train target: 17692\n",
      "test shape: (1000, 618)\n"
     ]
    }
   ],
   "source": [
    "print(\"train shape:\", (len(X_train.index), len(X_train.columns)))\n",
    "print(\"train target:\", (len(y_train.index)))\n",
    "print(\"test shape:\", (len(X_test.index), len(X_test.columns)))"
   ]
  },
  {
   "cell_type": "markdown",
   "metadata": {},
   "source": [
    "## Creating a baseline fit with basic data to prep the model"
   ]
  },
  {
   "cell_type": "code",
   "execution_count": 35,
   "metadata": {},
   "outputs": [],
   "source": [
    "# # Initializing lgbm paramaters\n",
    "# params = {\n",
    "#     'num_leaves': config['num_leaves'],\n",
    "#     'max_depth': config['max_depth'],\n",
    "#     'learning_rate': config['learning_rate'],\n",
    "#     'n_estimators': config['n_estimators'],\n",
    "#     'metric': config['metric'],\n",
    "#     'verbose': config['verbose'],\n",
    "#     \"subsample\": config['subsample'],\n",
    "#     \"colsample_bytree\": config['colsample_bytree'],\n",
    "#     \"random_state\": config['random_seed'],\n",
    "#     'min_child_samples': config['min_child_samples']\n",
    "# }"
   ]
  },
  {
   "cell_type": "code",
   "execution_count": 36,
   "metadata": {},
   "outputs": [],
   "source": [
    "param_space = {\n",
    "    'boosting_type': hp.choice('boosting_type', ['gbdt', 'dart']),\n",
    "    'num_folds': 5,\n",
    "    'num_leaves': hp.quniform('num_leaves', 28, 45, 1),\n",
    "    'max_depth': hp.quniform('max_depth', 5, 20, 1),\n",
    "    'learning_rate': hp.loguniform('learning_rate', np.log(0.001), np.log(0.2)),\n",
    "    'num_boosting_round': hp.loguniform('num_boosting_round', np.log(10), np.log(10000)),\n",
    "    'metric': 'cappa', # hp.choice('metric', ['cappa', 'rmse']),\n",
    "    'verbose': -1,\n",
    "    'subsample': hp.loguniform('subsample', np.log(0.5), np.log(1)),\n",
    "    'colsample_bytree': hp.loguniform('colsample_bytree', np.log(0.5), np.log(1)),\n",
    "    'random_state': 42,\n",
    "    'min_child_samples': hp.quniform('min_child_samples', 5, 20, 1)\n",
    "}"
   ]
  },
  {
   "cell_type": "code",
   "execution_count": 37,
   "metadata": {},
   "outputs": [],
   "source": [
    "# Setting up a sweep config for wandb sweeps (hyper paramater tuning)\n",
    "# sweep_config = {\n",
    "#     'method': 'bayes', #grid, random\n",
    "#     'metric': {\n",
    "#       'name': 'cappa',\n",
    "#       'goal': 'maximize'   \n",
    "#     },\n",
    "#     'parameters': {\n",
    "#         'num_folds': [10, 11],\n",
    "#         'num_leaves': [32],\n",
    "#         'max_depth': [10],\n",
    "#         'learning_rate': [0.001],\n",
    "#         'num_boosting_round': 2000,\n",
    "#         'metric': ['cappa', 'rmse'],\n",
    "#         'verbose': [-1],\n",
    "#         'subsample': [0.97],\n",
    "#         'colsample_bytree': [0.95],\n",
    "#         'random_state': [42],\n",
    "#         'min_child_samples': [11]\n",
    "#     }\n",
    "# }\n",
    "# sweep_id = wandb.sweep(sweep_config, entity=\"sweep\")"
   ]
  },
  {
   "cell_type": "code",
   "execution_count": 40,
   "metadata": {},
   "outputs": [],
   "source": [
    "def fit_lgbm(params, X_train_=X_train, X_test_=X_test, y_train_=y_train):\n",
    "    wandb.init()\n",
    "    params = {\n",
    "        'boosting_type': params['boosting_type'],\n",
    "        'num_folds': int(params['num_folds']),\n",
    "        'num_leaves': int(params['num_leaves']),\n",
    "        'max_depth': int(params['max_depth']),\n",
    "        'learning_rate': params['learning_rate'],\n",
    "        'num_boosting_round': int(params['num_boosting_round']),\n",
    "        'metric': params['metric'],\n",
    "        'verbose': params['verbose'],\n",
    "        \"subsample\": params['subsample'],\n",
    "        \"colsample_bytree\": params['colsample_bytree'],\n",
    "        \"random_state\": int(params['random_state']),\n",
    "        'min_child_samples': int(params['min_child_samples'])\n",
    "    }\n",
    "    \n",
    "    # Get folds - this should be updated to grouped k fold\n",
    "    num_folds = int(params['num_folds'])\n",
    "    installation_ids = np.array(sorted(X_train_['installation_id']))\n",
    "    \n",
    "    # Setting up folds grouped by installation_id\n",
    "    folds = []\n",
    "    GroupKfolds = GroupKFold(n_splits=num_folds)\n",
    "    for train, valid in GroupKfolds.split(X=X_train_, groups=X_train_.installation_id):\n",
    "        folds.append([train, valid])\n",
    "        \n",
    "    # Dropping installation_id\n",
    "    X_train_ = X_train_.drop(columns=['installation_id'])\n",
    "    X_test_ = X_test_.drop(columns=['installation_id'])\n",
    "\n",
    "    \n",
    "    # Initializing Variables\n",
    "    prd_train = pd.Series(np.zeros(y_train_.shape[0]))\n",
    "    prd_test = np.zeros(X_test_.shape[0])\n",
    "    imp = pd.DataFrame()\n",
    "    MSE = 0\n",
    "    avg_kappa = 0\n",
    "\n",
    "    for n_fld, (trn_idx, vld_idx) in enumerate(folds):\n",
    "        #trn_idx = idx_tab.iloc[trn_num].index\n",
    "        #vld_idx = idx_tab.iloc[vld_num].index\n",
    "        X_train__, y_train__ = X_train_.iloc[trn_idx], y_train_.iloc[trn_idx]\n",
    "        X_valid, y_valid = X_train_.iloc[vld_idx], y_train_.loc[vld_idx]\n",
    "\n",
    "        lgb = LGBMRegressor(**params)\n",
    "\n",
    "        # Fit the model\n",
    "        lgb.fit(X_train__, y_train__)\n",
    "\n",
    "        # applying the model to the validation data\n",
    "        prd_valid = lgb.predict(X_valid)\n",
    "        # Calculating and outputting the RMSE\n",
    "        y_valid = np.array(y_valid.astype(int))\n",
    "        prd_valid = np.array(np.round_(np.floor(prd_valid), decimals=0).astype(int))\n",
    "        fld_MSE = (np.square(y_valid - prd_valid)).mean()\n",
    "        fld_QWK = quadratic_weighted_kappa(y_valid, prd_valid)\n",
    "        wandb.log({'fold_RMSE': fld_MSE, 'fold_kappa': fld_QWK}, step=n_fld + 1)\n",
    "        # Summing mean squared errors\n",
    "        MSE += fld_MSE/num_folds\n",
    "\n",
    "        # Applying predictions to the train set weighted by the MSE\n",
    "        prd = lgb.predict(X_valid)\n",
    "        prd = np.array(np.round_(prd, decimals=0).astype(int))\n",
    "        prd_train.iloc[vld_idx] = prd\n",
    "\n",
    "        # Applying predictions to the test set weighted by the MSE\n",
    "        prd = lgb.predict(X_test_)\n",
    "        prd_test += prd/num_folds\n",
    "\n",
    "        # Calculating the fold importance\n",
    "        imp_df = pd.DataFrame()\n",
    "        imp_df['fts'] = X_train__.columns\n",
    "        imp_df['imp'] = lgb.booster_.feature_importance(importance_type='gain')\n",
    "\n",
    "        # Summing the fold importances\n",
    "        imp_df['fld'] = n_fld+1\n",
    "        imp = pd.concat([imp, imp_df], axis=0, sort=False)\n",
    "        gc.collect()\n",
    "        \n",
    "    Importances = imp[[\"fts\", \"imp\"]].groupby(\"fts\").mean().sort_values(by=\"imp\", ascending=False)[:60]\n",
    "\n",
    "    wandb.log({\"Importances\": wandb.Table(data=Importances.reset_index().values.tolist(), columns=['Fetures', 'Importances'])})\n",
    "    wandb.log(config)\n",
    "    wandb.log(params)\n",
    "    wandb.log({'RMSE': np.sqrt(MSE), 'kappa': quadratic_weighted_kappa(y_train_, prd_train)})\n",
    "    \n",
    "    return {'loss': -quadratic_weighted_kappa(y_train_, prd_train), 'status': STATUS_OK, 'other_stuff': {'Importance': Importances.to_dict(), 'Best_Prediction': prd_test}}"
   ]
  },
  {
   "cell_type": "code",
   "execution_count": null,
   "metadata": {},
   "outputs": [
    {
     "name": "stdout",
     "output_type": "stream",
     "text": [
      "  0%|          | 0/100 [00:00<?, ?it/s, best loss: ?]"
     ]
    },
    {
     "data": {
      "text/html": [
       "\n",
       "                Logging results to <a href=\"https://wandb.com\" target=\"_blank\">Weights & Biases</a> <a href=\"https://docs.wandb.com/integrations/jupyter.html\" target=\"_blank\">(Documentation)</a>.<br/>\n",
       "                Project page: <a href=\"https://app.wandb.ai/jake_cherrie/pbs-early-learning\" target=\"_blank\">https://app.wandb.ai/jake_cherrie/pbs-early-learning</a><br/>\n",
       "                Run page: <a href=\"https://app.wandb.ai/jake_cherrie/pbs-early-learning/runs/w3bxr1ts\" target=\"_blank\">https://app.wandb.ai/jake_cherrie/pbs-early-learning/runs/w3bxr1ts</a><br/>\n",
       "            "
      ],
      "text/plain": [
       "<IPython.core.display.HTML object>"
      ]
     },
     "metadata": {},
     "output_type": "display_data"
    },
    {
     "name": "stdout",
     "output_type": "stream",
     "text": [
      "  1%|          | 1/100 [00:24<40:16, 24.41s/it, best loss: -0.0010850729110524204]"
     ]
    },
    {
     "data": {
      "text/html": [
       "\n",
       "                Logging results to <a href=\"https://wandb.com\" target=\"_blank\">Weights & Biases</a> <a href=\"https://docs.wandb.com/integrations/jupyter.html\" target=\"_blank\">(Documentation)</a>.<br/>\n",
       "                Project page: <a href=\"https://app.wandb.ai/jake_cherrie/pbs-early-learning\" target=\"_blank\">https://app.wandb.ai/jake_cherrie/pbs-early-learning</a><br/>\n",
       "                Run page: <a href=\"https://app.wandb.ai/jake_cherrie/pbs-early-learning/runs/i81ahevu\" target=\"_blank\">https://app.wandb.ai/jake_cherrie/pbs-early-learning/runs/i81ahevu</a><br/>\n",
       "            "
      ],
      "text/plain": [
       "<IPython.core.display.HTML object>"
      ]
     },
     "metadata": {},
     "output_type": "display_data"
    },
    {
     "name": "stdout",
     "output_type": "stream",
     "text": [
      "  2%|▏         | 2/100 [00:40<35:56, 22.01s/it, best loss: -0.448867770595068]    "
     ]
    },
    {
     "data": {
      "text/html": [
       "\n",
       "                Logging results to <a href=\"https://wandb.com\" target=\"_blank\">Weights & Biases</a> <a href=\"https://docs.wandb.com/integrations/jupyter.html\" target=\"_blank\">(Documentation)</a>.<br/>\n",
       "                Project page: <a href=\"https://app.wandb.ai/jake_cherrie/pbs-early-learning\" target=\"_blank\">https://app.wandb.ai/jake_cherrie/pbs-early-learning</a><br/>\n",
       "                Run page: <a href=\"https://app.wandb.ai/jake_cherrie/pbs-early-learning/runs/f27ttpqg\" target=\"_blank\">https://app.wandb.ai/jake_cherrie/pbs-early-learning/runs/f27ttpqg</a><br/>\n",
       "            "
      ],
      "text/plain": [
       "<IPython.core.display.HTML object>"
      ]
     },
     "metadata": {},
     "output_type": "display_data"
    },
    {
     "name": "stdout",
     "output_type": "stream",
     "text": [
      "  3%|▎         | 3/100 [01:18<43:18, 26.79s/it, best loss: -0.448867770595068]"
     ]
    },
    {
     "data": {
      "text/html": [
       "\n",
       "                Logging results to <a href=\"https://wandb.com\" target=\"_blank\">Weights & Biases</a> <a href=\"https://docs.wandb.com/integrations/jupyter.html\" target=\"_blank\">(Documentation)</a>.<br/>\n",
       "                Project page: <a href=\"https://app.wandb.ai/jake_cherrie/pbs-early-learning\" target=\"_blank\">https://app.wandb.ai/jake_cherrie/pbs-early-learning</a><br/>\n",
       "                Run page: <a href=\"https://app.wandb.ai/jake_cherrie/pbs-early-learning/runs/qyfupifc\" target=\"_blank\">https://app.wandb.ai/jake_cherrie/pbs-early-learning/runs/qyfupifc</a><br/>\n",
       "            "
      ],
      "text/plain": [
       "<IPython.core.display.HTML object>"
      ]
     },
     "metadata": {},
     "output_type": "display_data"
    },
    {
     "name": "stdout",
     "output_type": "stream",
     "text": [
      "  4%|▍         | 4/100 [01:45<43:02, 26.90s/it, best loss: -0.448867770595068]"
     ]
    },
    {
     "data": {
      "text/html": [
       "\n",
       "                Logging results to <a href=\"https://wandb.com\" target=\"_blank\">Weights & Biases</a> <a href=\"https://docs.wandb.com/integrations/jupyter.html\" target=\"_blank\">(Documentation)</a>.<br/>\n",
       "                Project page: <a href=\"https://app.wandb.ai/jake_cherrie/pbs-early-learning\" target=\"_blank\">https://app.wandb.ai/jake_cherrie/pbs-early-learning</a><br/>\n",
       "                Run page: <a href=\"https://app.wandb.ai/jake_cherrie/pbs-early-learning/runs/a0ug26nq\" target=\"_blank\">https://app.wandb.ai/jake_cherrie/pbs-early-learning/runs/a0ug26nq</a><br/>\n",
       "            "
      ],
      "text/plain": [
       "<IPython.core.display.HTML object>"
      ]
     },
     "metadata": {},
     "output_type": "display_data"
    },
    {
     "name": "stdout",
     "output_type": "stream",
     "text": [
      "  5%|▌         | 5/100 [02:08<40:39, 25.68s/it, best loss: -0.448867770595068]"
     ]
    },
    {
     "data": {
      "text/html": [
       "\n",
       "                Logging results to <a href=\"https://wandb.com\" target=\"_blank\">Weights & Biases</a> <a href=\"https://docs.wandb.com/integrations/jupyter.html\" target=\"_blank\">(Documentation)</a>.<br/>\n",
       "                Project page: <a href=\"https://app.wandb.ai/jake_cherrie/pbs-early-learning\" target=\"_blank\">https://app.wandb.ai/jake_cherrie/pbs-early-learning</a><br/>\n",
       "                Run page: <a href=\"https://app.wandb.ai/jake_cherrie/pbs-early-learning/runs/djwucp4u\" target=\"_blank\">https://app.wandb.ai/jake_cherrie/pbs-early-learning/runs/djwucp4u</a><br/>\n",
       "            "
      ],
      "text/plain": [
       "<IPython.core.display.HTML object>"
      ]
     },
     "metadata": {},
     "output_type": "display_data"
    },
    {
     "name": "stdout",
     "output_type": "stream",
     "text": [
      "  6%|▌         | 6/100 [02:36<41:05, 26.22s/it, best loss: -0.448867770595068]"
     ]
    },
    {
     "data": {
      "text/html": [
       "\n",
       "                Logging results to <a href=\"https://wandb.com\" target=\"_blank\">Weights & Biases</a> <a href=\"https://docs.wandb.com/integrations/jupyter.html\" target=\"_blank\">(Documentation)</a>.<br/>\n",
       "                Project page: <a href=\"https://app.wandb.ai/jake_cherrie/pbs-early-learning\" target=\"_blank\">https://app.wandb.ai/jake_cherrie/pbs-early-learning</a><br/>\n",
       "                Run page: <a href=\"https://app.wandb.ai/jake_cherrie/pbs-early-learning/runs/lndvt1o8\" target=\"_blank\">https://app.wandb.ai/jake_cherrie/pbs-early-learning/runs/lndvt1o8</a><br/>\n",
       "            "
      ],
      "text/plain": [
       "<IPython.core.display.HTML object>"
      ]
     },
     "metadata": {},
     "output_type": "display_data"
    },
    {
     "name": "stdout",
     "output_type": "stream",
     "text": [
      "  7%|▋         | 7/100 [02:57<38:18, 24.71s/it, best loss: -0.448867770595068]"
     ]
    },
    {
     "data": {
      "text/html": [
       "\n",
       "                Logging results to <a href=\"https://wandb.com\" target=\"_blank\">Weights & Biases</a> <a href=\"https://docs.wandb.com/integrations/jupyter.html\" target=\"_blank\">(Documentation)</a>.<br/>\n",
       "                Project page: <a href=\"https://app.wandb.ai/jake_cherrie/pbs-early-learning\" target=\"_blank\">https://app.wandb.ai/jake_cherrie/pbs-early-learning</a><br/>\n",
       "                Run page: <a href=\"https://app.wandb.ai/jake_cherrie/pbs-early-learning/runs/z9i4pcej\" target=\"_blank\">https://app.wandb.ai/jake_cherrie/pbs-early-learning/runs/z9i4pcej</a><br/>\n",
       "            "
      ],
      "text/plain": [
       "<IPython.core.display.HTML object>"
      ]
     },
     "metadata": {},
     "output_type": "display_data"
    },
    {
     "name": "stdout",
     "output_type": "stream",
     "text": [
      "  8%|▊         | 8/100 [03:23<38:25, 25.06s/it, best loss: -0.448867770595068]"
     ]
    },
    {
     "data": {
      "text/html": [
       "\n",
       "                Logging results to <a href=\"https://wandb.com\" target=\"_blank\">Weights & Biases</a> <a href=\"https://docs.wandb.com/integrations/jupyter.html\" target=\"_blank\">(Documentation)</a>.<br/>\n",
       "                Project page: <a href=\"https://app.wandb.ai/jake_cherrie/pbs-early-learning\" target=\"_blank\">https://app.wandb.ai/jake_cherrie/pbs-early-learning</a><br/>\n",
       "                Run page: <a href=\"https://app.wandb.ai/jake_cherrie/pbs-early-learning/runs/xa34hlzv\" target=\"_blank\">https://app.wandb.ai/jake_cherrie/pbs-early-learning/runs/xa34hlzv</a><br/>\n",
       "            "
      ],
      "text/plain": [
       "<IPython.core.display.HTML object>"
      ]
     },
     "metadata": {},
     "output_type": "display_data"
    },
    {
     "name": "stdout",
     "output_type": "stream",
     "text": [
      "  9%|▉         | 9/100 [03:43<36:01, 23.75s/it, best loss: -0.448867770595068]"
     ]
    },
    {
     "data": {
      "text/html": [
       "\n",
       "                Logging results to <a href=\"https://wandb.com\" target=\"_blank\">Weights & Biases</a> <a href=\"https://docs.wandb.com/integrations/jupyter.html\" target=\"_blank\">(Documentation)</a>.<br/>\n",
       "                Project page: <a href=\"https://app.wandb.ai/jake_cherrie/pbs-early-learning\" target=\"_blank\">https://app.wandb.ai/jake_cherrie/pbs-early-learning</a><br/>\n",
       "                Run page: <a href=\"https://app.wandb.ai/jake_cherrie/pbs-early-learning/runs/uzcpvt4w\" target=\"_blank\">https://app.wandb.ai/jake_cherrie/pbs-early-learning/runs/uzcpvt4w</a><br/>\n",
       "            "
      ],
      "text/plain": [
       "<IPython.core.display.HTML object>"
      ]
     },
     "metadata": {},
     "output_type": "display_data"
    },
    {
     "name": "stdout",
     "output_type": "stream",
     "text": [
      " 10%|█         | 10/100 [04:11<37:24, 24.94s/it, best loss: -0.448867770595068]"
     ]
    },
    {
     "data": {
      "text/html": [
       "\n",
       "                Logging results to <a href=\"https://wandb.com\" target=\"_blank\">Weights & Biases</a> <a href=\"https://docs.wandb.com/integrations/jupyter.html\" target=\"_blank\">(Documentation)</a>.<br/>\n",
       "                Project page: <a href=\"https://app.wandb.ai/jake_cherrie/pbs-early-learning\" target=\"_blank\">https://app.wandb.ai/jake_cherrie/pbs-early-learning</a><br/>\n",
       "                Run page: <a href=\"https://app.wandb.ai/jake_cherrie/pbs-early-learning/runs/8xt0bwsn\" target=\"_blank\">https://app.wandb.ai/jake_cherrie/pbs-early-learning/runs/8xt0bwsn</a><br/>\n",
       "            "
      ],
      "text/plain": [
       "<IPython.core.display.HTML object>"
      ]
     },
     "metadata": {},
     "output_type": "display_data"
    },
    {
     "name": "stdout",
     "output_type": "stream",
     "text": [
      " 11%|█         | 11/100 [04:33<35:23, 23.86s/it, best loss: -0.448867770595068]"
     ]
    },
    {
     "data": {
      "text/html": [
       "\n",
       "                Logging results to <a href=\"https://wandb.com\" target=\"_blank\">Weights & Biases</a> <a href=\"https://docs.wandb.com/integrations/jupyter.html\" target=\"_blank\">(Documentation)</a>.<br/>\n",
       "                Project page: <a href=\"https://app.wandb.ai/jake_cherrie/pbs-early-learning\" target=\"_blank\">https://app.wandb.ai/jake_cherrie/pbs-early-learning</a><br/>\n",
       "                Run page: <a href=\"https://app.wandb.ai/jake_cherrie/pbs-early-learning/runs/dnx1yqox\" target=\"_blank\">https://app.wandb.ai/jake_cherrie/pbs-early-learning/runs/dnx1yqox</a><br/>\n",
       "            "
      ],
      "text/plain": [
       "<IPython.core.display.HTML object>"
      ]
     },
     "metadata": {},
     "output_type": "display_data"
    },
    {
     "name": "stdout",
     "output_type": "stream",
     "text": [
      " 12%|█▏        | 12/100 [04:52<32:53, 22.42s/it, best loss: -0.448867770595068]"
     ]
    },
    {
     "data": {
      "text/html": [
       "\n",
       "                Logging results to <a href=\"https://wandb.com\" target=\"_blank\">Weights & Biases</a> <a href=\"https://docs.wandb.com/integrations/jupyter.html\" target=\"_blank\">(Documentation)</a>.<br/>\n",
       "                Project page: <a href=\"https://app.wandb.ai/jake_cherrie/pbs-early-learning\" target=\"_blank\">https://app.wandb.ai/jake_cherrie/pbs-early-learning</a><br/>\n",
       "                Run page: <a href=\"https://app.wandb.ai/jake_cherrie/pbs-early-learning/runs/h1nht78k\" target=\"_blank\">https://app.wandb.ai/jake_cherrie/pbs-early-learning/runs/h1nht78k</a><br/>\n",
       "            "
      ],
      "text/plain": [
       "<IPython.core.display.HTML object>"
      ]
     },
     "metadata": {},
     "output_type": "display_data"
    },
    {
     "name": "stdout",
     "output_type": "stream",
     "text": [
      " 13%|█▎        | 13/100 [05:13<31:52, 21.98s/it, best loss: -0.448867770595068]"
     ]
    },
    {
     "data": {
      "text/html": [
       "\n",
       "                Logging results to <a href=\"https://wandb.com\" target=\"_blank\">Weights & Biases</a> <a href=\"https://docs.wandb.com/integrations/jupyter.html\" target=\"_blank\">(Documentation)</a>.<br/>\n",
       "                Project page: <a href=\"https://app.wandb.ai/jake_cherrie/pbs-early-learning\" target=\"_blank\">https://app.wandb.ai/jake_cherrie/pbs-early-learning</a><br/>\n",
       "                Run page: <a href=\"https://app.wandb.ai/jake_cherrie/pbs-early-learning/runs/lf83tkqx\" target=\"_blank\">https://app.wandb.ai/jake_cherrie/pbs-early-learning/runs/lf83tkqx</a><br/>\n",
       "            "
      ],
      "text/plain": [
       "<IPython.core.display.HTML object>"
      ]
     },
     "metadata": {},
     "output_type": "display_data"
    },
    {
     "name": "stdout",
     "output_type": "stream",
     "text": [
      " 14%|█▍        | 14/100 [05:38<33:07, 23.11s/it, best loss: -0.448867770595068]"
     ]
    },
    {
     "data": {
      "text/html": [
       "\n",
       "                Logging results to <a href=\"https://wandb.com\" target=\"_blank\">Weights & Biases</a> <a href=\"https://docs.wandb.com/integrations/jupyter.html\" target=\"_blank\">(Documentation)</a>.<br/>\n",
       "                Project page: <a href=\"https://app.wandb.ai/jake_cherrie/pbs-early-learning\" target=\"_blank\">https://app.wandb.ai/jake_cherrie/pbs-early-learning</a><br/>\n",
       "                Run page: <a href=\"https://app.wandb.ai/jake_cherrie/pbs-early-learning/runs/fjr2tl9c\" target=\"_blank\">https://app.wandb.ai/jake_cherrie/pbs-early-learning/runs/fjr2tl9c</a><br/>\n",
       "            "
      ],
      "text/plain": [
       "<IPython.core.display.HTML object>"
      ]
     },
     "metadata": {},
     "output_type": "display_data"
    },
    {
     "name": "stdout",
     "output_type": "stream",
     "text": [
      " 15%|█▌        | 15/100 [05:59<31:52, 22.49s/it, best loss: -0.448867770595068]"
     ]
    },
    {
     "data": {
      "text/html": [
       "\n",
       "                Logging results to <a href=\"https://wandb.com\" target=\"_blank\">Weights & Biases</a> <a href=\"https://docs.wandb.com/integrations/jupyter.html\" target=\"_blank\">(Documentation)</a>.<br/>\n",
       "                Project page: <a href=\"https://app.wandb.ai/jake_cherrie/pbs-early-learning\" target=\"_blank\">https://app.wandb.ai/jake_cherrie/pbs-early-learning</a><br/>\n",
       "                Run page: <a href=\"https://app.wandb.ai/jake_cherrie/pbs-early-learning/runs/iu7xnm6r\" target=\"_blank\">https://app.wandb.ai/jake_cherrie/pbs-early-learning/runs/iu7xnm6r</a><br/>\n",
       "            "
      ],
      "text/plain": [
       "<IPython.core.display.HTML object>"
      ]
     },
     "metadata": {},
     "output_type": "display_data"
    },
    {
     "name": "stdout",
     "output_type": "stream",
     "text": [
      " 16%|█▌        | 16/100 [06:24<32:23, 23.14s/it, best loss: -0.448867770595068]"
     ]
    },
    {
     "data": {
      "text/html": [
       "\n",
       "                Logging results to <a href=\"https://wandb.com\" target=\"_blank\">Weights & Biases</a> <a href=\"https://docs.wandb.com/integrations/jupyter.html\" target=\"_blank\">(Documentation)</a>.<br/>\n",
       "                Project page: <a href=\"https://app.wandb.ai/jake_cherrie/pbs-early-learning\" target=\"_blank\">https://app.wandb.ai/jake_cherrie/pbs-early-learning</a><br/>\n",
       "                Run page: <a href=\"https://app.wandb.ai/jake_cherrie/pbs-early-learning/runs/5rqxefmz\" target=\"_blank\">https://app.wandb.ai/jake_cherrie/pbs-early-learning/runs/5rqxefmz</a><br/>\n",
       "            "
      ],
      "text/plain": [
       "<IPython.core.display.HTML object>"
      ]
     },
     "metadata": {},
     "output_type": "display_data"
    },
    {
     "name": "stdout",
     "output_type": "stream",
     "text": [
      " 17%|█▋        | 17/100 [06:46<31:26, 22.73s/it, best loss: -0.4695420281399699]"
     ]
    },
    {
     "data": {
      "text/html": [
       "\n",
       "                Logging results to <a href=\"https://wandb.com\" target=\"_blank\">Weights & Biases</a> <a href=\"https://docs.wandb.com/integrations/jupyter.html\" target=\"_blank\">(Documentation)</a>.<br/>\n",
       "                Project page: <a href=\"https://app.wandb.ai/jake_cherrie/pbs-early-learning\" target=\"_blank\">https://app.wandb.ai/jake_cherrie/pbs-early-learning</a><br/>\n",
       "                Run page: <a href=\"https://app.wandb.ai/jake_cherrie/pbs-early-learning/runs/syai4jfv\" target=\"_blank\">https://app.wandb.ai/jake_cherrie/pbs-early-learning/runs/syai4jfv</a><br/>\n",
       "            "
      ],
      "text/plain": [
       "<IPython.core.display.HTML object>"
      ]
     },
     "metadata": {},
     "output_type": "display_data"
    },
    {
     "name": "stdout",
     "output_type": "stream",
     "text": [
      " 18%|█▊        | 18/100 [07:13<32:55, 24.09s/it, best loss: -0.4695420281399699]"
     ]
    },
    {
     "data": {
      "text/html": [
       "\n",
       "                Logging results to <a href=\"https://wandb.com\" target=\"_blank\">Weights & Biases</a> <a href=\"https://docs.wandb.com/integrations/jupyter.html\" target=\"_blank\">(Documentation)</a>.<br/>\n",
       "                Project page: <a href=\"https://app.wandb.ai/jake_cherrie/pbs-early-learning\" target=\"_blank\">https://app.wandb.ai/jake_cherrie/pbs-early-learning</a><br/>\n",
       "                Run page: <a href=\"https://app.wandb.ai/jake_cherrie/pbs-early-learning/runs/bc9ca4ya\" target=\"_blank\">https://app.wandb.ai/jake_cherrie/pbs-early-learning/runs/bc9ca4ya</a><br/>\n",
       "            "
      ],
      "text/plain": [
       "<IPython.core.display.HTML object>"
      ]
     },
     "metadata": {},
     "output_type": "display_data"
    },
    {
     "name": "stdout",
     "output_type": "stream",
     "text": [
      " 19%|█▉        | 19/100 [07:44<35:12, 26.08s/it, best loss: -0.4695420281399699]"
     ]
    },
    {
     "data": {
      "text/html": [
       "\n",
       "                Logging results to <a href=\"https://wandb.com\" target=\"_blank\">Weights & Biases</a> <a href=\"https://docs.wandb.com/integrations/jupyter.html\" target=\"_blank\">(Documentation)</a>.<br/>\n",
       "                Project page: <a href=\"https://app.wandb.ai/jake_cherrie/pbs-early-learning\" target=\"_blank\">https://app.wandb.ai/jake_cherrie/pbs-early-learning</a><br/>\n",
       "                Run page: <a href=\"https://app.wandb.ai/jake_cherrie/pbs-early-learning/runs/zmodfoe3\" target=\"_blank\">https://app.wandb.ai/jake_cherrie/pbs-early-learning/runs/zmodfoe3</a><br/>\n",
       "            "
      ],
      "text/plain": [
       "<IPython.core.display.HTML object>"
      ]
     },
     "metadata": {},
     "output_type": "display_data"
    },
    {
     "name": "stdout",
     "output_type": "stream",
     "text": [
      " 20%|██        | 20/100 [08:05<33:01, 24.76s/it, best loss: -0.4695420281399699]"
     ]
    },
    {
     "data": {
      "text/html": [
       "\n",
       "                Logging results to <a href=\"https://wandb.com\" target=\"_blank\">Weights & Biases</a> <a href=\"https://docs.wandb.com/integrations/jupyter.html\" target=\"_blank\">(Documentation)</a>.<br/>\n",
       "                Project page: <a href=\"https://app.wandb.ai/jake_cherrie/pbs-early-learning\" target=\"_blank\">https://app.wandb.ai/jake_cherrie/pbs-early-learning</a><br/>\n",
       "                Run page: <a href=\"https://app.wandb.ai/jake_cherrie/pbs-early-learning/runs/i3r1kj90\" target=\"_blank\">https://app.wandb.ai/jake_cherrie/pbs-early-learning/runs/i3r1kj90</a><br/>\n",
       "            "
      ],
      "text/plain": [
       "<IPython.core.display.HTML object>"
      ]
     },
     "metadata": {},
     "output_type": "display_data"
    },
    {
     "name": "stdout",
     "output_type": "stream",
     "text": [
      " 21%|██        | 21/100 [08:24<30:04, 22.84s/it, best loss: -0.4725557657155909]"
     ]
    },
    {
     "data": {
      "text/html": [
       "\n",
       "                Logging results to <a href=\"https://wandb.com\" target=\"_blank\">Weights & Biases</a> <a href=\"https://docs.wandb.com/integrations/jupyter.html\" target=\"_blank\">(Documentation)</a>.<br/>\n",
       "                Project page: <a href=\"https://app.wandb.ai/jake_cherrie/pbs-early-learning\" target=\"_blank\">https://app.wandb.ai/jake_cherrie/pbs-early-learning</a><br/>\n",
       "                Run page: <a href=\"https://app.wandb.ai/jake_cherrie/pbs-early-learning/runs/ez91mkt0\" target=\"_blank\">https://app.wandb.ai/jake_cherrie/pbs-early-learning/runs/ez91mkt0</a><br/>\n",
       "            "
      ],
      "text/plain": [
       "<IPython.core.display.HTML object>"
      ]
     },
     "metadata": {},
     "output_type": "display_data"
    },
    {
     "name": "stdout",
     "output_type": "stream",
     "text": [
      " 22%|██▏       | 22/100 [08:46<29:15, 22.51s/it, best loss: -0.4733486442946313]"
     ]
    },
    {
     "data": {
      "text/html": [
       "\n",
       "                Logging results to <a href=\"https://wandb.com\" target=\"_blank\">Weights & Biases</a> <a href=\"https://docs.wandb.com/integrations/jupyter.html\" target=\"_blank\">(Documentation)</a>.<br/>\n",
       "                Project page: <a href=\"https://app.wandb.ai/jake_cherrie/pbs-early-learning\" target=\"_blank\">https://app.wandb.ai/jake_cherrie/pbs-early-learning</a><br/>\n",
       "                Run page: <a href=\"https://app.wandb.ai/jake_cherrie/pbs-early-learning/runs/q75kfjk1\" target=\"_blank\">https://app.wandb.ai/jake_cherrie/pbs-early-learning/runs/q75kfjk1</a><br/>\n",
       "            "
      ],
      "text/plain": [
       "<IPython.core.display.HTML object>"
      ]
     },
     "metadata": {},
     "output_type": "display_data"
    },
    {
     "name": "stdout",
     "output_type": "stream",
     "text": [
      " 23%|██▎       | 23/100 [09:04<27:26, 21.38s/it, best loss: -0.4733486442946313]"
     ]
    },
    {
     "data": {
      "text/html": [
       "\n",
       "                Logging results to <a href=\"https://wandb.com\" target=\"_blank\">Weights & Biases</a> <a href=\"https://docs.wandb.com/integrations/jupyter.html\" target=\"_blank\">(Documentation)</a>.<br/>\n",
       "                Project page: <a href=\"https://app.wandb.ai/jake_cherrie/pbs-early-learning\" target=\"_blank\">https://app.wandb.ai/jake_cherrie/pbs-early-learning</a><br/>\n",
       "                Run page: <a href=\"https://app.wandb.ai/jake_cherrie/pbs-early-learning/runs/sqbvkx4x\" target=\"_blank\">https://app.wandb.ai/jake_cherrie/pbs-early-learning/runs/sqbvkx4x</a><br/>\n",
       "            "
      ],
      "text/plain": [
       "<IPython.core.display.HTML object>"
      ]
     },
     "metadata": {},
     "output_type": "display_data"
    },
    {
     "name": "stdout",
     "output_type": "stream",
     "text": [
      " 24%|██▍       | 24/100 [09:26<27:03, 21.36s/it, best loss: -0.4733486442946313]"
     ]
    },
    {
     "data": {
      "text/html": [
       "\n",
       "                Logging results to <a href=\"https://wandb.com\" target=\"_blank\">Weights & Biases</a> <a href=\"https://docs.wandb.com/integrations/jupyter.html\" target=\"_blank\">(Documentation)</a>.<br/>\n",
       "                Project page: <a href=\"https://app.wandb.ai/jake_cherrie/pbs-early-learning\" target=\"_blank\">https://app.wandb.ai/jake_cherrie/pbs-early-learning</a><br/>\n",
       "                Run page: <a href=\"https://app.wandb.ai/jake_cherrie/pbs-early-learning/runs/nly18lm1\" target=\"_blank\">https://app.wandb.ai/jake_cherrie/pbs-early-learning/runs/nly18lm1</a><br/>\n",
       "            "
      ],
      "text/plain": [
       "<IPython.core.display.HTML object>"
      ]
     },
     "metadata": {},
     "output_type": "display_data"
    },
    {
     "name": "stdout",
     "output_type": "stream",
     "text": [
      " 25%|██▌       | 25/100 [09:50<27:45, 22.21s/it, best loss: -0.4733486442946313]"
     ]
    },
    {
     "data": {
      "text/html": [
       "\n",
       "                Logging results to <a href=\"https://wandb.com\" target=\"_blank\">Weights & Biases</a> <a href=\"https://docs.wandb.com/integrations/jupyter.html\" target=\"_blank\">(Documentation)</a>.<br/>\n",
       "                Project page: <a href=\"https://app.wandb.ai/jake_cherrie/pbs-early-learning\" target=\"_blank\">https://app.wandb.ai/jake_cherrie/pbs-early-learning</a><br/>\n",
       "                Run page: <a href=\"https://app.wandb.ai/jake_cherrie/pbs-early-learning/runs/i10sl8m6\" target=\"_blank\">https://app.wandb.ai/jake_cherrie/pbs-early-learning/runs/i10sl8m6</a><br/>\n",
       "            "
      ],
      "text/plain": [
       "<IPython.core.display.HTML object>"
      ]
     },
     "metadata": {},
     "output_type": "display_data"
    },
    {
     "name": "stdout",
     "output_type": "stream",
     "text": [
      " 26%|██▌       | 26/100 [10:14<28:09, 22.83s/it, best loss: -0.4733985340562775]"
     ]
    },
    {
     "data": {
      "text/html": [
       "\n",
       "                Logging results to <a href=\"https://wandb.com\" target=\"_blank\">Weights & Biases</a> <a href=\"https://docs.wandb.com/integrations/jupyter.html\" target=\"_blank\">(Documentation)</a>.<br/>\n",
       "                Project page: <a href=\"https://app.wandb.ai/jake_cherrie/pbs-early-learning\" target=\"_blank\">https://app.wandb.ai/jake_cherrie/pbs-early-learning</a><br/>\n",
       "                Run page: <a href=\"https://app.wandb.ai/jake_cherrie/pbs-early-learning/runs/l0s0w0m8\" target=\"_blank\">https://app.wandb.ai/jake_cherrie/pbs-early-learning/runs/l0s0w0m8</a><br/>\n",
       "            "
      ],
      "text/plain": [
       "<IPython.core.display.HTML object>"
      ]
     },
     "metadata": {},
     "output_type": "display_data"
    },
    {
     "name": "stdout",
     "output_type": "stream",
     "text": [
      " 27%|██▋       | 27/100 [10:40<28:57, 23.80s/it, best loss: -0.4733985340562775]"
     ]
    },
    {
     "data": {
      "text/html": [
       "\n",
       "                Logging results to <a href=\"https://wandb.com\" target=\"_blank\">Weights & Biases</a> <a href=\"https://docs.wandb.com/integrations/jupyter.html\" target=\"_blank\">(Documentation)</a>.<br/>\n",
       "                Project page: <a href=\"https://app.wandb.ai/jake_cherrie/pbs-early-learning\" target=\"_blank\">https://app.wandb.ai/jake_cherrie/pbs-early-learning</a><br/>\n",
       "                Run page: <a href=\"https://app.wandb.ai/jake_cherrie/pbs-early-learning/runs/dh8xmjuf\" target=\"_blank\">https://app.wandb.ai/jake_cherrie/pbs-early-learning/runs/dh8xmjuf</a><br/>\n",
       "            "
      ],
      "text/plain": [
       "<IPython.core.display.HTML object>"
      ]
     },
     "metadata": {},
     "output_type": "display_data"
    },
    {
     "name": "stdout",
     "output_type": "stream",
     "text": [
      " 28%|██▊       | 28/100 [10:58<26:31, 22.10s/it, best loss: -0.4733985340562775]"
     ]
    },
    {
     "data": {
      "text/html": [
       "\n",
       "                Logging results to <a href=\"https://wandb.com\" target=\"_blank\">Weights & Biases</a> <a href=\"https://docs.wandb.com/integrations/jupyter.html\" target=\"_blank\">(Documentation)</a>.<br/>\n",
       "                Project page: <a href=\"https://app.wandb.ai/jake_cherrie/pbs-early-learning\" target=\"_blank\">https://app.wandb.ai/jake_cherrie/pbs-early-learning</a><br/>\n",
       "                Run page: <a href=\"https://app.wandb.ai/jake_cherrie/pbs-early-learning/runs/p4ftuk4n\" target=\"_blank\">https://app.wandb.ai/jake_cherrie/pbs-early-learning/runs/p4ftuk4n</a><br/>\n",
       "            "
      ],
      "text/plain": [
       "<IPython.core.display.HTML object>"
      ]
     },
     "metadata": {},
     "output_type": "display_data"
    },
    {
     "name": "stdout",
     "output_type": "stream",
     "text": [
      " 29%|██▉       | 29/100 [11:23<27:01, 22.84s/it, best loss: -0.4733985340562775]"
     ]
    },
    {
     "data": {
      "text/html": [
       "\n",
       "                Logging results to <a href=\"https://wandb.com\" target=\"_blank\">Weights & Biases</a> <a href=\"https://docs.wandb.com/integrations/jupyter.html\" target=\"_blank\">(Documentation)</a>.<br/>\n",
       "                Project page: <a href=\"https://app.wandb.ai/jake_cherrie/pbs-early-learning\" target=\"_blank\">https://app.wandb.ai/jake_cherrie/pbs-early-learning</a><br/>\n",
       "                Run page: <a href=\"https://app.wandb.ai/jake_cherrie/pbs-early-learning/runs/zltsvdgc\" target=\"_blank\">https://app.wandb.ai/jake_cherrie/pbs-early-learning/runs/zltsvdgc</a><br/>\n",
       "            "
      ],
      "text/plain": [
       "<IPython.core.display.HTML object>"
      ]
     },
     "metadata": {},
     "output_type": "display_data"
    },
    {
     "name": "stdout",
     "output_type": "stream",
     "text": [
      " 30%|███       | 30/100 [11:48<27:22, 23.47s/it, best loss: -0.4733985340562775]"
     ]
    },
    {
     "data": {
      "text/html": [
       "\n",
       "                Logging results to <a href=\"https://wandb.com\" target=\"_blank\">Weights & Biases</a> <a href=\"https://docs.wandb.com/integrations/jupyter.html\" target=\"_blank\">(Documentation)</a>.<br/>\n",
       "                Project page: <a href=\"https://app.wandb.ai/jake_cherrie/pbs-early-learning\" target=\"_blank\">https://app.wandb.ai/jake_cherrie/pbs-early-learning</a><br/>\n",
       "                Run page: <a href=\"https://app.wandb.ai/jake_cherrie/pbs-early-learning/runs/k9cqcx9y\" target=\"_blank\">https://app.wandb.ai/jake_cherrie/pbs-early-learning/runs/k9cqcx9y</a><br/>\n",
       "            "
      ],
      "text/plain": [
       "<IPython.core.display.HTML object>"
      ]
     },
     "metadata": {},
     "output_type": "display_data"
    },
    {
     "name": "stdout",
     "output_type": "stream",
     "text": [
      " 31%|███       | 31/100 [12:18<29:09, 25.35s/it, best loss: -0.4733985340562775]"
     ]
    },
    {
     "data": {
      "text/html": [
       "\n",
       "                Logging results to <a href=\"https://wandb.com\" target=\"_blank\">Weights & Biases</a> <a href=\"https://docs.wandb.com/integrations/jupyter.html\" target=\"_blank\">(Documentation)</a>.<br/>\n",
       "                Project page: <a href=\"https://app.wandb.ai/jake_cherrie/pbs-early-learning\" target=\"_blank\">https://app.wandb.ai/jake_cherrie/pbs-early-learning</a><br/>\n",
       "                Run page: <a href=\"https://app.wandb.ai/jake_cherrie/pbs-early-learning/runs/u3ibf7rd\" target=\"_blank\">https://app.wandb.ai/jake_cherrie/pbs-early-learning/runs/u3ibf7rd</a><br/>\n",
       "            "
      ],
      "text/plain": [
       "<IPython.core.display.HTML object>"
      ]
     },
     "metadata": {},
     "output_type": "display_data"
    },
    {
     "name": "stdout",
     "output_type": "stream",
     "text": [
      " 32%|███▏      | 32/100 [12:40<27:51, 24.58s/it, best loss: -0.4733985340562775]"
     ]
    },
    {
     "data": {
      "text/html": [
       "\n",
       "                Logging results to <a href=\"https://wandb.com\" target=\"_blank\">Weights & Biases</a> <a href=\"https://docs.wandb.com/integrations/jupyter.html\" target=\"_blank\">(Documentation)</a>.<br/>\n",
       "                Project page: <a href=\"https://app.wandb.ai/jake_cherrie/pbs-early-learning\" target=\"_blank\">https://app.wandb.ai/jake_cherrie/pbs-early-learning</a><br/>\n",
       "                Run page: <a href=\"https://app.wandb.ai/jake_cherrie/pbs-early-learning/runs/4uwl5epu\" target=\"_blank\">https://app.wandb.ai/jake_cherrie/pbs-early-learning/runs/4uwl5epu</a><br/>\n",
       "            "
      ],
      "text/plain": [
       "<IPython.core.display.HTML object>"
      ]
     },
     "metadata": {},
     "output_type": "display_data"
    },
    {
     "name": "stdout",
     "output_type": "stream",
     "text": [
      " 33%|███▎      | 33/100 [13:08<28:28, 25.49s/it, best loss: -0.4733985340562775]"
     ]
    },
    {
     "data": {
      "text/html": [
       "\n",
       "                Logging results to <a href=\"https://wandb.com\" target=\"_blank\">Weights & Biases</a> <a href=\"https://docs.wandb.com/integrations/jupyter.html\" target=\"_blank\">(Documentation)</a>.<br/>\n",
       "                Project page: <a href=\"https://app.wandb.ai/jake_cherrie/pbs-early-learning\" target=\"_blank\">https://app.wandb.ai/jake_cherrie/pbs-early-learning</a><br/>\n",
       "                Run page: <a href=\"https://app.wandb.ai/jake_cherrie/pbs-early-learning/runs/jzrt1dsf\" target=\"_blank\">https://app.wandb.ai/jake_cherrie/pbs-early-learning/runs/jzrt1dsf</a><br/>\n",
       "            "
      ],
      "text/plain": [
       "<IPython.core.display.HTML object>"
      ]
     },
     "metadata": {},
     "output_type": "display_data"
    },
    {
     "name": "stdout",
     "output_type": "stream",
     "text": [
      " 34%|███▍      | 34/100 [13:36<28:46, 26.16s/it, best loss: -0.4733985340562775]"
     ]
    },
    {
     "data": {
      "text/html": [
       "\n",
       "                Logging results to <a href=\"https://wandb.com\" target=\"_blank\">Weights & Biases</a> <a href=\"https://docs.wandb.com/integrations/jupyter.html\" target=\"_blank\">(Documentation)</a>.<br/>\n",
       "                Project page: <a href=\"https://app.wandb.ai/jake_cherrie/pbs-early-learning\" target=\"_blank\">https://app.wandb.ai/jake_cherrie/pbs-early-learning</a><br/>\n",
       "                Run page: <a href=\"https://app.wandb.ai/jake_cherrie/pbs-early-learning/runs/iu4bk64g\" target=\"_blank\">https://app.wandb.ai/jake_cherrie/pbs-early-learning/runs/iu4bk64g</a><br/>\n",
       "            "
      ],
      "text/plain": [
       "<IPython.core.display.HTML object>"
      ]
     },
     "metadata": {},
     "output_type": "display_data"
    },
    {
     "name": "stdout",
     "output_type": "stream",
     "text": [
      " 35%|███▌      | 35/100 [13:57<26:55, 24.85s/it, best loss: -0.4733985340562775]"
     ]
    },
    {
     "data": {
      "text/html": [
       "\n",
       "                Logging results to <a href=\"https://wandb.com\" target=\"_blank\">Weights & Biases</a> <a href=\"https://docs.wandb.com/integrations/jupyter.html\" target=\"_blank\">(Documentation)</a>.<br/>\n",
       "                Project page: <a href=\"https://app.wandb.ai/jake_cherrie/pbs-early-learning\" target=\"_blank\">https://app.wandb.ai/jake_cherrie/pbs-early-learning</a><br/>\n",
       "                Run page: <a href=\"https://app.wandb.ai/jake_cherrie/pbs-early-learning/runs/3j192rih\" target=\"_blank\">https://app.wandb.ai/jake_cherrie/pbs-early-learning/runs/3j192rih</a><br/>\n",
       "            "
      ],
      "text/plain": [
       "<IPython.core.display.HTML object>"
      ]
     },
     "metadata": {},
     "output_type": "display_data"
    },
    {
     "name": "stdout",
     "output_type": "stream",
     "text": [
      " 36%|███▌      | 36/100 [14:30<29:05, 27.27s/it, best loss: -0.4733985340562775]"
     ]
    },
    {
     "data": {
      "text/html": [
       "\n",
       "                Logging results to <a href=\"https://wandb.com\" target=\"_blank\">Weights & Biases</a> <a href=\"https://docs.wandb.com/integrations/jupyter.html\" target=\"_blank\">(Documentation)</a>.<br/>\n",
       "                Project page: <a href=\"https://app.wandb.ai/jake_cherrie/pbs-early-learning\" target=\"_blank\">https://app.wandb.ai/jake_cherrie/pbs-early-learning</a><br/>\n",
       "                Run page: <a href=\"https://app.wandb.ai/jake_cherrie/pbs-early-learning/runs/g4z95ubg\" target=\"_blank\">https://app.wandb.ai/jake_cherrie/pbs-early-learning/runs/g4z95ubg</a><br/>\n",
       "            "
      ],
      "text/plain": [
       "<IPython.core.display.HTML object>"
      ]
     },
     "metadata": {},
     "output_type": "display_data"
    },
    {
     "name": "stdout",
     "output_type": "stream",
     "text": [
      " 37%|███▋      | 37/100 [15:02<29:54, 28.48s/it, best loss: -0.4733985340562775]"
     ]
    },
    {
     "data": {
      "text/html": [
       "\n",
       "                Logging results to <a href=\"https://wandb.com\" target=\"_blank\">Weights & Biases</a> <a href=\"https://docs.wandb.com/integrations/jupyter.html\" target=\"_blank\">(Documentation)</a>.<br/>\n",
       "                Project page: <a href=\"https://app.wandb.ai/jake_cherrie/pbs-early-learning\" target=\"_blank\">https://app.wandb.ai/jake_cherrie/pbs-early-learning</a><br/>\n",
       "                Run page: <a href=\"https://app.wandb.ai/jake_cherrie/pbs-early-learning/runs/4ehy520o\" target=\"_blank\">https://app.wandb.ai/jake_cherrie/pbs-early-learning/runs/4ehy520o</a><br/>\n",
       "            "
      ],
      "text/plain": [
       "<IPython.core.display.HTML object>"
      ]
     },
     "metadata": {},
     "output_type": "display_data"
    },
    {
     "name": "stdout",
     "output_type": "stream",
     "text": [
      " 38%|███▊      | 38/100 [15:26<28:03, 27.15s/it, best loss: -0.4733985340562775]"
     ]
    },
    {
     "data": {
      "text/html": [
       "\n",
       "                Logging results to <a href=\"https://wandb.com\" target=\"_blank\">Weights & Biases</a> <a href=\"https://docs.wandb.com/integrations/jupyter.html\" target=\"_blank\">(Documentation)</a>.<br/>\n",
       "                Project page: <a href=\"https://app.wandb.ai/jake_cherrie/pbs-early-learning\" target=\"_blank\">https://app.wandb.ai/jake_cherrie/pbs-early-learning</a><br/>\n",
       "                Run page: <a href=\"https://app.wandb.ai/jake_cherrie/pbs-early-learning/runs/ied9sz42\" target=\"_blank\">https://app.wandb.ai/jake_cherrie/pbs-early-learning/runs/ied9sz42</a><br/>\n",
       "            "
      ],
      "text/plain": [
       "<IPython.core.display.HTML object>"
      ]
     },
     "metadata": {},
     "output_type": "display_data"
    },
    {
     "name": "stdout",
     "output_type": "stream",
     "text": [
      " 39%|███▉      | 39/100 [15:49<26:30, 26.08s/it, best loss: -0.4733985340562775]"
     ]
    },
    {
     "data": {
      "text/html": [
       "\n",
       "                Logging results to <a href=\"https://wandb.com\" target=\"_blank\">Weights & Biases</a> <a href=\"https://docs.wandb.com/integrations/jupyter.html\" target=\"_blank\">(Documentation)</a>.<br/>\n",
       "                Project page: <a href=\"https://app.wandb.ai/jake_cherrie/pbs-early-learning\" target=\"_blank\">https://app.wandb.ai/jake_cherrie/pbs-early-learning</a><br/>\n",
       "                Run page: <a href=\"https://app.wandb.ai/jake_cherrie/pbs-early-learning/runs/3z2pu5ne\" target=\"_blank\">https://app.wandb.ai/jake_cherrie/pbs-early-learning/runs/3z2pu5ne</a><br/>\n",
       "            "
      ],
      "text/plain": [
       "<IPython.core.display.HTML object>"
      ]
     },
     "metadata": {},
     "output_type": "display_data"
    },
    {
     "name": "stdout",
     "output_type": "stream",
     "text": [
      " 40%|████      | 40/100 [16:28<30:00, 30.01s/it, best loss: -0.4733985340562775]"
     ]
    },
    {
     "data": {
      "text/html": [
       "\n",
       "                Logging results to <a href=\"https://wandb.com\" target=\"_blank\">Weights & Biases</a> <a href=\"https://docs.wandb.com/integrations/jupyter.html\" target=\"_blank\">(Documentation)</a>.<br/>\n",
       "                Project page: <a href=\"https://app.wandb.ai/jake_cherrie/pbs-early-learning\" target=\"_blank\">https://app.wandb.ai/jake_cherrie/pbs-early-learning</a><br/>\n",
       "                Run page: <a href=\"https://app.wandb.ai/jake_cherrie/pbs-early-learning/runs/ixonz02t\" target=\"_blank\">https://app.wandb.ai/jake_cherrie/pbs-early-learning/runs/ixonz02t</a><br/>\n",
       "            "
      ],
      "text/plain": [
       "<IPython.core.display.HTML object>"
      ]
     },
     "metadata": {},
     "output_type": "display_data"
    },
    {
     "name": "stdout",
     "output_type": "stream",
     "text": [
      " 41%|████      | 41/100 [16:59<29:47, 30.29s/it, best loss: -0.4733985340562775]"
     ]
    },
    {
     "data": {
      "text/html": [
       "\n",
       "                Logging results to <a href=\"https://wandb.com\" target=\"_blank\">Weights & Biases</a> <a href=\"https://docs.wandb.com/integrations/jupyter.html\" target=\"_blank\">(Documentation)</a>.<br/>\n",
       "                Project page: <a href=\"https://app.wandb.ai/jake_cherrie/pbs-early-learning\" target=\"_blank\">https://app.wandb.ai/jake_cherrie/pbs-early-learning</a><br/>\n",
       "                Run page: <a href=\"https://app.wandb.ai/jake_cherrie/pbs-early-learning/runs/z199yr9e\" target=\"_blank\">https://app.wandb.ai/jake_cherrie/pbs-early-learning/runs/z199yr9e</a><br/>\n",
       "            "
      ],
      "text/plain": [
       "<IPython.core.display.HTML object>"
      ]
     },
     "metadata": {},
     "output_type": "display_data"
    },
    {
     "name": "stdout",
     "output_type": "stream",
     "text": [
      " 42%|████▏     | 42/100 [17:33<30:11, 31.23s/it, best loss: -0.4733985340562775]"
     ]
    },
    {
     "data": {
      "text/html": [
       "\n",
       "                Logging results to <a href=\"https://wandb.com\" target=\"_blank\">Weights & Biases</a> <a href=\"https://docs.wandb.com/integrations/jupyter.html\" target=\"_blank\">(Documentation)</a>.<br/>\n",
       "                Project page: <a href=\"https://app.wandb.ai/jake_cherrie/pbs-early-learning\" target=\"_blank\">https://app.wandb.ai/jake_cherrie/pbs-early-learning</a><br/>\n",
       "                Run page: <a href=\"https://app.wandb.ai/jake_cherrie/pbs-early-learning/runs/j10h5t0x\" target=\"_blank\">https://app.wandb.ai/jake_cherrie/pbs-early-learning/runs/j10h5t0x</a><br/>\n",
       "            "
      ],
      "text/plain": [
       "<IPython.core.display.HTML object>"
      ]
     },
     "metadata": {},
     "output_type": "display_data"
    },
    {
     "name": "stdout",
     "output_type": "stream",
     "text": [
      " 43%|████▎     | 43/100 [18:02<29:02, 30.57s/it, best loss: -0.4733985340562775]"
     ]
    },
    {
     "data": {
      "text/html": [
       "\n",
       "                Logging results to <a href=\"https://wandb.com\" target=\"_blank\">Weights & Biases</a> <a href=\"https://docs.wandb.com/integrations/jupyter.html\" target=\"_blank\">(Documentation)</a>.<br/>\n",
       "                Project page: <a href=\"https://app.wandb.ai/jake_cherrie/pbs-early-learning\" target=\"_blank\">https://app.wandb.ai/jake_cherrie/pbs-early-learning</a><br/>\n",
       "                Run page: <a href=\"https://app.wandb.ai/jake_cherrie/pbs-early-learning/runs/aqiqx2s6\" target=\"_blank\">https://app.wandb.ai/jake_cherrie/pbs-early-learning/runs/aqiqx2s6</a><br/>\n",
       "            "
      ],
      "text/plain": [
       "<IPython.core.display.HTML object>"
      ]
     },
     "metadata": {},
     "output_type": "display_data"
    },
    {
     "name": "stdout",
     "output_type": "stream",
     "text": [
      " 44%|████▍     | 44/100 [18:24<26:07, 28.00s/it, best loss: -0.4733985340562775]"
     ]
    },
    {
     "data": {
      "text/html": [
       "\n",
       "                Logging results to <a href=\"https://wandb.com\" target=\"_blank\">Weights & Biases</a> <a href=\"https://docs.wandb.com/integrations/jupyter.html\" target=\"_blank\">(Documentation)</a>.<br/>\n",
       "                Project page: <a href=\"https://app.wandb.ai/jake_cherrie/pbs-early-learning\" target=\"_blank\">https://app.wandb.ai/jake_cherrie/pbs-early-learning</a><br/>\n",
       "                Run page: <a href=\"https://app.wandb.ai/jake_cherrie/pbs-early-learning/runs/u0ng2a8o\" target=\"_blank\">https://app.wandb.ai/jake_cherrie/pbs-early-learning/runs/u0ng2a8o</a><br/>\n",
       "            "
      ],
      "text/plain": [
       "<IPython.core.display.HTML object>"
      ]
     },
     "metadata": {},
     "output_type": "display_data"
    },
    {
     "name": "stdout",
     "output_type": "stream",
     "text": [
      " 45%|████▌     | 45/100 [18:50<25:16, 27.58s/it, best loss: -0.4733985340562775]"
     ]
    },
    {
     "data": {
      "text/html": [
       "\n",
       "                Logging results to <a href=\"https://wandb.com\" target=\"_blank\">Weights & Biases</a> <a href=\"https://docs.wandb.com/integrations/jupyter.html\" target=\"_blank\">(Documentation)</a>.<br/>\n",
       "                Project page: <a href=\"https://app.wandb.ai/jake_cherrie/pbs-early-learning\" target=\"_blank\">https://app.wandb.ai/jake_cherrie/pbs-early-learning</a><br/>\n",
       "                Run page: <a href=\"https://app.wandb.ai/jake_cherrie/pbs-early-learning/runs/kyyoiy3d\" target=\"_blank\">https://app.wandb.ai/jake_cherrie/pbs-early-learning/runs/kyyoiy3d</a><br/>\n",
       "            "
      ],
      "text/plain": [
       "<IPython.core.display.HTML object>"
      ]
     },
     "metadata": {},
     "output_type": "display_data"
    },
    {
     "name": "stdout",
     "output_type": "stream",
     "text": [
      " 46%|████▌     | 46/100 [19:18<24:50, 27.61s/it, best loss: -0.4733985340562775]"
     ]
    },
    {
     "data": {
      "text/html": [
       "\n",
       "                Logging results to <a href=\"https://wandb.com\" target=\"_blank\">Weights & Biases</a> <a href=\"https://docs.wandb.com/integrations/jupyter.html\" target=\"_blank\">(Documentation)</a>.<br/>\n",
       "                Project page: <a href=\"https://app.wandb.ai/jake_cherrie/pbs-early-learning\" target=\"_blank\">https://app.wandb.ai/jake_cherrie/pbs-early-learning</a><br/>\n",
       "                Run page: <a href=\"https://app.wandb.ai/jake_cherrie/pbs-early-learning/runs/auckan7s\" target=\"_blank\">https://app.wandb.ai/jake_cherrie/pbs-early-learning/runs/auckan7s</a><br/>\n",
       "            "
      ],
      "text/plain": [
       "<IPython.core.display.HTML object>"
      ]
     },
     "metadata": {},
     "output_type": "display_data"
    },
    {
     "name": "stdout",
     "output_type": "stream",
     "text": [
      " 47%|████▋     | 47/100 [19:41<23:15, 26.34s/it, best loss: -0.4733985340562775]"
     ]
    },
    {
     "data": {
      "text/html": [
       "\n",
       "                Logging results to <a href=\"https://wandb.com\" target=\"_blank\">Weights & Biases</a> <a href=\"https://docs.wandb.com/integrations/jupyter.html\" target=\"_blank\">(Documentation)</a>.<br/>\n",
       "                Project page: <a href=\"https://app.wandb.ai/jake_cherrie/pbs-early-learning\" target=\"_blank\">https://app.wandb.ai/jake_cherrie/pbs-early-learning</a><br/>\n",
       "                Run page: <a href=\"https://app.wandb.ai/jake_cherrie/pbs-early-learning/runs/aoqg2xmo\" target=\"_blank\">https://app.wandb.ai/jake_cherrie/pbs-early-learning/runs/aoqg2xmo</a><br/>\n",
       "            "
      ],
      "text/plain": [
       "<IPython.core.display.HTML object>"
      ]
     },
     "metadata": {},
     "output_type": "display_data"
    },
    {
     "name": "stdout",
     "output_type": "stream",
     "text": [
      " 48%|████▊     | 48/100 [20:19<25:46, 29.73s/it, best loss: -0.4733985340562775]"
     ]
    },
    {
     "data": {
      "text/html": [
       "\n",
       "                Logging results to <a href=\"https://wandb.com\" target=\"_blank\">Weights & Biases</a> <a href=\"https://docs.wandb.com/integrations/jupyter.html\" target=\"_blank\">(Documentation)</a>.<br/>\n",
       "                Project page: <a href=\"https://app.wandb.ai/jake_cherrie/pbs-early-learning\" target=\"_blank\">https://app.wandb.ai/jake_cherrie/pbs-early-learning</a><br/>\n",
       "                Run page: <a href=\"https://app.wandb.ai/jake_cherrie/pbs-early-learning/runs/j9wrqwfw\" target=\"_blank\">https://app.wandb.ai/jake_cherrie/pbs-early-learning/runs/j9wrqwfw</a><br/>\n",
       "            "
      ],
      "text/plain": [
       "<IPython.core.display.HTML object>"
      ]
     },
     "metadata": {},
     "output_type": "display_data"
    },
    {
     "name": "stdout",
     "output_type": "stream",
     "text": [
      " 49%|████▉     | 49/100 [20:50<25:32, 30.06s/it, best loss: -0.4733985340562775]"
     ]
    },
    {
     "data": {
      "text/html": [
       "\n",
       "                Logging results to <a href=\"https://wandb.com\" target=\"_blank\">Weights & Biases</a> <a href=\"https://docs.wandb.com/integrations/jupyter.html\" target=\"_blank\">(Documentation)</a>.<br/>\n",
       "                Project page: <a href=\"https://app.wandb.ai/jake_cherrie/pbs-early-learning\" target=\"_blank\">https://app.wandb.ai/jake_cherrie/pbs-early-learning</a><br/>\n",
       "                Run page: <a href=\"https://app.wandb.ai/jake_cherrie/pbs-early-learning/runs/67sh18lj\" target=\"_blank\">https://app.wandb.ai/jake_cherrie/pbs-early-learning/runs/67sh18lj</a><br/>\n",
       "            "
      ],
      "text/plain": [
       "<IPython.core.display.HTML object>"
      ]
     },
     "metadata": {},
     "output_type": "display_data"
    },
    {
     "name": "stdout",
     "output_type": "stream",
     "text": [
      " 50%|█████     | 50/100 [21:13<23:22, 28.05s/it, best loss: -0.4749870649592124]"
     ]
    },
    {
     "data": {
      "text/html": [
       "\n",
       "                Logging results to <a href=\"https://wandb.com\" target=\"_blank\">Weights & Biases</a> <a href=\"https://docs.wandb.com/integrations/jupyter.html\" target=\"_blank\">(Documentation)</a>.<br/>\n",
       "                Project page: <a href=\"https://app.wandb.ai/jake_cherrie/pbs-early-learning\" target=\"_blank\">https://app.wandb.ai/jake_cherrie/pbs-early-learning</a><br/>\n",
       "                Run page: <a href=\"https://app.wandb.ai/jake_cherrie/pbs-early-learning/runs/h2s6v2l9\" target=\"_blank\">https://app.wandb.ai/jake_cherrie/pbs-early-learning/runs/h2s6v2l9</a><br/>\n",
       "            "
      ],
      "text/plain": [
       "<IPython.core.display.HTML object>"
      ]
     },
     "metadata": {},
     "output_type": "display_data"
    },
    {
     "name": "stdout",
     "output_type": "stream",
     "text": [
      " 51%|█████     | 51/100 [21:47<24:13, 29.66s/it, best loss: -0.4749870649592124]"
     ]
    },
    {
     "data": {
      "text/html": [
       "\n",
       "                Logging results to <a href=\"https://wandb.com\" target=\"_blank\">Weights & Biases</a> <a href=\"https://docs.wandb.com/integrations/jupyter.html\" target=\"_blank\">(Documentation)</a>.<br/>\n",
       "                Project page: <a href=\"https://app.wandb.ai/jake_cherrie/pbs-early-learning\" target=\"_blank\">https://app.wandb.ai/jake_cherrie/pbs-early-learning</a><br/>\n",
       "                Run page: <a href=\"https://app.wandb.ai/jake_cherrie/pbs-early-learning/runs/nc6dmb3p\" target=\"_blank\">https://app.wandb.ai/jake_cherrie/pbs-early-learning/runs/nc6dmb3p</a><br/>\n",
       "            "
      ],
      "text/plain": [
       "<IPython.core.display.HTML object>"
      ]
     },
     "metadata": {},
     "output_type": "display_data"
    },
    {
     "name": "stdout",
     "output_type": "stream",
     "text": [
      " 52%|█████▏    | 52/100 [22:09<22:02, 27.55s/it, best loss: -0.4749870649592124]"
     ]
    },
    {
     "data": {
      "text/html": [
       "\n",
       "                Logging results to <a href=\"https://wandb.com\" target=\"_blank\">Weights & Biases</a> <a href=\"https://docs.wandb.com/integrations/jupyter.html\" target=\"_blank\">(Documentation)</a>.<br/>\n",
       "                Project page: <a href=\"https://app.wandb.ai/jake_cherrie/pbs-early-learning\" target=\"_blank\">https://app.wandb.ai/jake_cherrie/pbs-early-learning</a><br/>\n",
       "                Run page: <a href=\"https://app.wandb.ai/jake_cherrie/pbs-early-learning/runs/pby1tsmt\" target=\"_blank\">https://app.wandb.ai/jake_cherrie/pbs-early-learning/runs/pby1tsmt</a><br/>\n",
       "            "
      ],
      "text/plain": [
       "<IPython.core.display.HTML object>"
      ]
     },
     "metadata": {},
     "output_type": "display_data"
    },
    {
     "name": "stdout",
     "output_type": "stream",
     "text": [
      " 53%|█████▎    | 53/100 [22:36<21:26, 27.37s/it, best loss: -0.4749870649592124]"
     ]
    },
    {
     "data": {
      "text/html": [
       "\n",
       "                Logging results to <a href=\"https://wandb.com\" target=\"_blank\">Weights & Biases</a> <a href=\"https://docs.wandb.com/integrations/jupyter.html\" target=\"_blank\">(Documentation)</a>.<br/>\n",
       "                Project page: <a href=\"https://app.wandb.ai/jake_cherrie/pbs-early-learning\" target=\"_blank\">https://app.wandb.ai/jake_cherrie/pbs-early-learning</a><br/>\n",
       "                Run page: <a href=\"https://app.wandb.ai/jake_cherrie/pbs-early-learning/runs/4wty2eop\" target=\"_blank\">https://app.wandb.ai/jake_cherrie/pbs-early-learning/runs/4wty2eop</a><br/>\n",
       "            "
      ],
      "text/plain": [
       "<IPython.core.display.HTML object>"
      ]
     },
     "metadata": {},
     "output_type": "display_data"
    },
    {
     "name": "stdout",
     "output_type": "stream",
     "text": [
      " 54%|█████▍    | 54/100 [23:10<22:29, 29.34s/it, best loss: -0.4749870649592124]"
     ]
    },
    {
     "data": {
      "text/html": [
       "\n",
       "                Logging results to <a href=\"https://wandb.com\" target=\"_blank\">Weights & Biases</a> <a href=\"https://docs.wandb.com/integrations/jupyter.html\" target=\"_blank\">(Documentation)</a>.<br/>\n",
       "                Project page: <a href=\"https://app.wandb.ai/jake_cherrie/pbs-early-learning\" target=\"_blank\">https://app.wandb.ai/jake_cherrie/pbs-early-learning</a><br/>\n",
       "                Run page: <a href=\"https://app.wandb.ai/jake_cherrie/pbs-early-learning/runs/46gtfmku\" target=\"_blank\">https://app.wandb.ai/jake_cherrie/pbs-early-learning/runs/46gtfmku</a><br/>\n",
       "            "
      ],
      "text/plain": [
       "<IPython.core.display.HTML object>"
      ]
     },
     "metadata": {},
     "output_type": "display_data"
    },
    {
     "name": "stdout",
     "output_type": "stream",
     "text": [
      " 55%|█████▌    | 55/100 [23:34<20:42, 27.61s/it, best loss: -0.4749870649592124]"
     ]
    },
    {
     "data": {
      "text/html": [
       "\n",
       "                Logging results to <a href=\"https://wandb.com\" target=\"_blank\">Weights & Biases</a> <a href=\"https://docs.wandb.com/integrations/jupyter.html\" target=\"_blank\">(Documentation)</a>.<br/>\n",
       "                Project page: <a href=\"https://app.wandb.ai/jake_cherrie/pbs-early-learning\" target=\"_blank\">https://app.wandb.ai/jake_cherrie/pbs-early-learning</a><br/>\n",
       "                Run page: <a href=\"https://app.wandb.ai/jake_cherrie/pbs-early-learning/runs/6xyqkt0f\" target=\"_blank\">https://app.wandb.ai/jake_cherrie/pbs-early-learning/runs/6xyqkt0f</a><br/>\n",
       "            "
      ],
      "text/plain": [
       "<IPython.core.display.HTML object>"
      ]
     },
     "metadata": {},
     "output_type": "display_data"
    },
    {
     "name": "stdout",
     "output_type": "stream",
     "text": [
      " 56%|█████▌    | 56/100 [24:01<20:02, 27.33s/it, best loss: -0.4749870649592124]"
     ]
    },
    {
     "data": {
      "text/html": [
       "\n",
       "                Logging results to <a href=\"https://wandb.com\" target=\"_blank\">Weights & Biases</a> <a href=\"https://docs.wandb.com/integrations/jupyter.html\" target=\"_blank\">(Documentation)</a>.<br/>\n",
       "                Project page: <a href=\"https://app.wandb.ai/jake_cherrie/pbs-early-learning\" target=\"_blank\">https://app.wandb.ai/jake_cherrie/pbs-early-learning</a><br/>\n",
       "                Run page: <a href=\"https://app.wandb.ai/jake_cherrie/pbs-early-learning/runs/ymkq962t\" target=\"_blank\">https://app.wandb.ai/jake_cherrie/pbs-early-learning/runs/ymkq962t</a><br/>\n",
       "            "
      ],
      "text/plain": [
       "<IPython.core.display.HTML object>"
      ]
     },
     "metadata": {},
     "output_type": "display_data"
    },
    {
     "name": "stdout",
     "output_type": "stream",
     "text": [
      " 57%|█████▋    | 57/100 [24:29<19:44, 27.54s/it, best loss: -0.4749870649592124]"
     ]
    },
    {
     "data": {
      "text/html": [
       "\n",
       "                Logging results to <a href=\"https://wandb.com\" target=\"_blank\">Weights & Biases</a> <a href=\"https://docs.wandb.com/integrations/jupyter.html\" target=\"_blank\">(Documentation)</a>.<br/>\n",
       "                Project page: <a href=\"https://app.wandb.ai/jake_cherrie/pbs-early-learning\" target=\"_blank\">https://app.wandb.ai/jake_cherrie/pbs-early-learning</a><br/>\n",
       "                Run page: <a href=\"https://app.wandb.ai/jake_cherrie/pbs-early-learning/runs/bc4jl1in\" target=\"_blank\">https://app.wandb.ai/jake_cherrie/pbs-early-learning/runs/bc4jl1in</a><br/>\n",
       "            "
      ],
      "text/plain": [
       "<IPython.core.display.HTML object>"
      ]
     },
     "metadata": {},
     "output_type": "display_data"
    },
    {
     "name": "stdout",
     "output_type": "stream",
     "text": [
      " 58%|█████▊    | 58/100 [24:54<18:56, 27.06s/it, best loss: -0.4749870649592124]"
     ]
    },
    {
     "data": {
      "text/html": [
       "\n",
       "                Logging results to <a href=\"https://wandb.com\" target=\"_blank\">Weights & Biases</a> <a href=\"https://docs.wandb.com/integrations/jupyter.html\" target=\"_blank\">(Documentation)</a>.<br/>\n",
       "                Project page: <a href=\"https://app.wandb.ai/jake_cherrie/pbs-early-learning\" target=\"_blank\">https://app.wandb.ai/jake_cherrie/pbs-early-learning</a><br/>\n",
       "                Run page: <a href=\"https://app.wandb.ai/jake_cherrie/pbs-early-learning/runs/79oowmkm\" target=\"_blank\">https://app.wandb.ai/jake_cherrie/pbs-early-learning/runs/79oowmkm</a><br/>\n",
       "            "
      ],
      "text/plain": [
       "<IPython.core.display.HTML object>"
      ]
     },
     "metadata": {},
     "output_type": "display_data"
    },
    {
     "name": "stdout",
     "output_type": "stream",
     "text": [
      " 59%|█████▉    | 59/100 [25:24<19:02, 27.87s/it, best loss: -0.4749870649592124]"
     ]
    },
    {
     "data": {
      "text/html": [
       "\n",
       "                Logging results to <a href=\"https://wandb.com\" target=\"_blank\">Weights & Biases</a> <a href=\"https://docs.wandb.com/integrations/jupyter.html\" target=\"_blank\">(Documentation)</a>.<br/>\n",
       "                Project page: <a href=\"https://app.wandb.ai/jake_cherrie/pbs-early-learning\" target=\"_blank\">https://app.wandb.ai/jake_cherrie/pbs-early-learning</a><br/>\n",
       "                Run page: <a href=\"https://app.wandb.ai/jake_cherrie/pbs-early-learning/runs/dfp9hgmu\" target=\"_blank\">https://app.wandb.ai/jake_cherrie/pbs-early-learning/runs/dfp9hgmu</a><br/>\n",
       "            "
      ],
      "text/plain": [
       "<IPython.core.display.HTML object>"
      ]
     },
     "metadata": {},
     "output_type": "display_data"
    },
    {
     "name": "stdout",
     "output_type": "stream",
     "text": [
      " 60%|██████    | 60/100 [25:48<17:47, 26.69s/it, best loss: -0.4749870649592124]"
     ]
    },
    {
     "data": {
      "text/html": [
       "\n",
       "                Logging results to <a href=\"https://wandb.com\" target=\"_blank\">Weights & Biases</a> <a href=\"https://docs.wandb.com/integrations/jupyter.html\" target=\"_blank\">(Documentation)</a>.<br/>\n",
       "                Project page: <a href=\"https://app.wandb.ai/jake_cherrie/pbs-early-learning\" target=\"_blank\">https://app.wandb.ai/jake_cherrie/pbs-early-learning</a><br/>\n",
       "                Run page: <a href=\"https://app.wandb.ai/jake_cherrie/pbs-early-learning/runs/fs6sa7cr\" target=\"_blank\">https://app.wandb.ai/jake_cherrie/pbs-early-learning/runs/fs6sa7cr</a><br/>\n",
       "            "
      ],
      "text/plain": [
       "<IPython.core.display.HTML object>"
      ]
     },
     "metadata": {},
     "output_type": "display_data"
    },
    {
     "name": "stdout",
     "output_type": "stream",
     "text": [
      " 61%|██████    | 61/100 [26:17<17:45, 27.33s/it, best loss: -0.4749870649592124]"
     ]
    },
    {
     "data": {
      "text/html": [
       "\n",
       "                Logging results to <a href=\"https://wandb.com\" target=\"_blank\">Weights & Biases</a> <a href=\"https://docs.wandb.com/integrations/jupyter.html\" target=\"_blank\">(Documentation)</a>.<br/>\n",
       "                Project page: <a href=\"https://app.wandb.ai/jake_cherrie/pbs-early-learning\" target=\"_blank\">https://app.wandb.ai/jake_cherrie/pbs-early-learning</a><br/>\n",
       "                Run page: <a href=\"https://app.wandb.ai/jake_cherrie/pbs-early-learning/runs/rkurrxq7\" target=\"_blank\">https://app.wandb.ai/jake_cherrie/pbs-early-learning/runs/rkurrxq7</a><br/>\n",
       "            "
      ],
      "text/plain": [
       "<IPython.core.display.HTML object>"
      ]
     },
     "metadata": {},
     "output_type": "display_data"
    },
    {
     "name": "stdout",
     "output_type": "stream",
     "text": [
      " 62%|██████▏   | 62/100 [26:56<19:34, 30.90s/it, best loss: -0.4749870649592124]"
     ]
    },
    {
     "data": {
      "text/html": [
       "\n",
       "                Logging results to <a href=\"https://wandb.com\" target=\"_blank\">Weights & Biases</a> <a href=\"https://docs.wandb.com/integrations/jupyter.html\" target=\"_blank\">(Documentation)</a>.<br/>\n",
       "                Project page: <a href=\"https://app.wandb.ai/jake_cherrie/pbs-early-learning\" target=\"_blank\">https://app.wandb.ai/jake_cherrie/pbs-early-learning</a><br/>\n",
       "                Run page: <a href=\"https://app.wandb.ai/jake_cherrie/pbs-early-learning/runs/22sslwst\" target=\"_blank\">https://app.wandb.ai/jake_cherrie/pbs-early-learning/runs/22sslwst</a><br/>\n",
       "            "
      ],
      "text/plain": [
       "<IPython.core.display.HTML object>"
      ]
     },
     "metadata": {},
     "output_type": "display_data"
    },
    {
     "name": "stdout",
     "output_type": "stream",
     "text": [
      " 63%|██████▎   | 63/100 [27:33<20:12, 32.76s/it, best loss: -0.4749870649592124]"
     ]
    },
    {
     "data": {
      "text/html": [
       "\n",
       "                Logging results to <a href=\"https://wandb.com\" target=\"_blank\">Weights & Biases</a> <a href=\"https://docs.wandb.com/integrations/jupyter.html\" target=\"_blank\">(Documentation)</a>.<br/>\n",
       "                Project page: <a href=\"https://app.wandb.ai/jake_cherrie/pbs-early-learning\" target=\"_blank\">https://app.wandb.ai/jake_cherrie/pbs-early-learning</a><br/>\n",
       "                Run page: <a href=\"https://app.wandb.ai/jake_cherrie/pbs-early-learning/runs/11d164wh\" target=\"_blank\">https://app.wandb.ai/jake_cherrie/pbs-early-learning/runs/11d164wh</a><br/>\n",
       "            "
      ],
      "text/plain": [
       "<IPython.core.display.HTML object>"
      ]
     },
     "metadata": {},
     "output_type": "display_data"
    },
    {
     "name": "stdout",
     "output_type": "stream",
     "text": [
      " 64%|██████▍   | 64/100 [28:11<20:34, 34.30s/it, best loss: -0.4749870649592124]"
     ]
    },
    {
     "data": {
      "text/html": [
       "\n",
       "                Logging results to <a href=\"https://wandb.com\" target=\"_blank\">Weights & Biases</a> <a href=\"https://docs.wandb.com/integrations/jupyter.html\" target=\"_blank\">(Documentation)</a>.<br/>\n",
       "                Project page: <a href=\"https://app.wandb.ai/jake_cherrie/pbs-early-learning\" target=\"_blank\">https://app.wandb.ai/jake_cherrie/pbs-early-learning</a><br/>\n",
       "                Run page: <a href=\"https://app.wandb.ai/jake_cherrie/pbs-early-learning/runs/q3jw29y5\" target=\"_blank\">https://app.wandb.ai/jake_cherrie/pbs-early-learning/runs/q3jw29y5</a><br/>\n",
       "            "
      ],
      "text/plain": [
       "<IPython.core.display.HTML object>"
      ]
     },
     "metadata": {},
     "output_type": "display_data"
    },
    {
     "name": "stdout",
     "output_type": "stream",
     "text": [
      " 65%|██████▌   | 65/100 [28:38<18:37, 31.92s/it, best loss: -0.4749870649592124]"
     ]
    },
    {
     "data": {
      "text/html": [
       "\n",
       "                Logging results to <a href=\"https://wandb.com\" target=\"_blank\">Weights & Biases</a> <a href=\"https://docs.wandb.com/integrations/jupyter.html\" target=\"_blank\">(Documentation)</a>.<br/>\n",
       "                Project page: <a href=\"https://app.wandb.ai/jake_cherrie/pbs-early-learning\" target=\"_blank\">https://app.wandb.ai/jake_cherrie/pbs-early-learning</a><br/>\n",
       "                Run page: <a href=\"https://app.wandb.ai/jake_cherrie/pbs-early-learning/runs/fe1jijzi\" target=\"_blank\">https://app.wandb.ai/jake_cherrie/pbs-early-learning/runs/fe1jijzi</a><br/>\n",
       "            "
      ],
      "text/plain": [
       "<IPython.core.display.HTML object>"
      ]
     },
     "metadata": {},
     "output_type": "display_data"
    },
    {
     "name": "stdout",
     "output_type": "stream",
     "text": [
      " 66%|██████▌   | 66/100 [29:07<17:36, 31.08s/it, best loss: -0.4749870649592124]"
     ]
    },
    {
     "data": {
      "text/html": [
       "\n",
       "                Logging results to <a href=\"https://wandb.com\" target=\"_blank\">Weights & Biases</a> <a href=\"https://docs.wandb.com/integrations/jupyter.html\" target=\"_blank\">(Documentation)</a>.<br/>\n",
       "                Project page: <a href=\"https://app.wandb.ai/jake_cherrie/pbs-early-learning\" target=\"_blank\">https://app.wandb.ai/jake_cherrie/pbs-early-learning</a><br/>\n",
       "                Run page: <a href=\"https://app.wandb.ai/jake_cherrie/pbs-early-learning/runs/b5xpzibi\" target=\"_blank\">https://app.wandb.ai/jake_cherrie/pbs-early-learning/runs/b5xpzibi</a><br/>\n",
       "            "
      ],
      "text/plain": [
       "<IPython.core.display.HTML object>"
      ]
     },
     "metadata": {},
     "output_type": "display_data"
    },
    {
     "name": "stdout",
     "output_type": "stream",
     "text": [
      " 67%|██████▋   | 67/100 [29:33<16:19, 29.69s/it, best loss: -0.47615638210317635]"
     ]
    },
    {
     "data": {
      "text/html": [
       "\n",
       "                Logging results to <a href=\"https://wandb.com\" target=\"_blank\">Weights & Biases</a> <a href=\"https://docs.wandb.com/integrations/jupyter.html\" target=\"_blank\">(Documentation)</a>.<br/>\n",
       "                Project page: <a href=\"https://app.wandb.ai/jake_cherrie/pbs-early-learning\" target=\"_blank\">https://app.wandb.ai/jake_cherrie/pbs-early-learning</a><br/>\n",
       "                Run page: <a href=\"https://app.wandb.ai/jake_cherrie/pbs-early-learning/runs/ey4zu5qy\" target=\"_blank\">https://app.wandb.ai/jake_cherrie/pbs-early-learning/runs/ey4zu5qy</a><br/>\n",
       "            "
      ],
      "text/plain": [
       "<IPython.core.display.HTML object>"
      ]
     },
     "metadata": {},
     "output_type": "display_data"
    },
    {
     "name": "stdout",
     "output_type": "stream",
     "text": [
      " 68%|██████▊   | 68/100 [30:00<15:26, 28.96s/it, best loss: -0.47615638210317635]"
     ]
    },
    {
     "data": {
      "text/html": [
       "\n",
       "                Logging results to <a href=\"https://wandb.com\" target=\"_blank\">Weights & Biases</a> <a href=\"https://docs.wandb.com/integrations/jupyter.html\" target=\"_blank\">(Documentation)</a>.<br/>\n",
       "                Project page: <a href=\"https://app.wandb.ai/jake_cherrie/pbs-early-learning\" target=\"_blank\">https://app.wandb.ai/jake_cherrie/pbs-early-learning</a><br/>\n",
       "                Run page: <a href=\"https://app.wandb.ai/jake_cherrie/pbs-early-learning/runs/g1dzmbbt\" target=\"_blank\">https://app.wandb.ai/jake_cherrie/pbs-early-learning/runs/g1dzmbbt</a><br/>\n",
       "            "
      ],
      "text/plain": [
       "<IPython.core.display.HTML object>"
      ]
     },
     "metadata": {},
     "output_type": "display_data"
    },
    {
     "name": "stdout",
     "output_type": "stream",
     "text": [
      " 69%|██████▉   | 69/100 [30:30<15:05, 29.21s/it, best loss: -0.47615638210317635]"
     ]
    },
    {
     "data": {
      "text/html": [
       "\n",
       "                Logging results to <a href=\"https://wandb.com\" target=\"_blank\">Weights & Biases</a> <a href=\"https://docs.wandb.com/integrations/jupyter.html\" target=\"_blank\">(Documentation)</a>.<br/>\n",
       "                Project page: <a href=\"https://app.wandb.ai/jake_cherrie/pbs-early-learning\" target=\"_blank\">https://app.wandb.ai/jake_cherrie/pbs-early-learning</a><br/>\n",
       "                Run page: <a href=\"https://app.wandb.ai/jake_cherrie/pbs-early-learning/runs/jpy08vkf\" target=\"_blank\">https://app.wandb.ai/jake_cherrie/pbs-early-learning/runs/jpy08vkf</a><br/>\n",
       "            "
      ],
      "text/plain": [
       "<IPython.core.display.HTML object>"
      ]
     },
     "metadata": {},
     "output_type": "display_data"
    }
   ],
   "source": [
    "# Hyperparameter optimisation\n",
    "# wandb.agent(sweep_id, function=train)\n",
    "trials = Trials()\n",
    "best = fmin(fn=fit_lgbm, space=param_space, algo=tpe.suggest, max_evals=config['num_trials'], trials=trials, verbose=1)"
   ]
  },
  {
   "cell_type": "code",
   "execution_count": null,
   "metadata": {},
   "outputs": [],
   "source": [
    "# fit_lgbm(params, X_train_=X_train, X_test_=X_test, y_train_=y_train.accuracy_group)"
   ]
  },
  {
   "cell_type": "code",
   "execution_count": null,
   "metadata": {},
   "outputs": [],
   "source": [
    "best_kappa = 0\n",
    "best_trial = None\n",
    "for trial in trials.results:\n",
    "    if best_kappa < -trial['loss']:\n",
    "        best_trial = trial"
   ]
  },
  {
   "cell_type": "code",
   "execution_count": null,
   "metadata": {},
   "outputs": [],
   "source": [
    "Importances = pd.DataFrame(list(best_trial['other_stuff']['Importance']['imp'].items()), columns=['Feature', 'Importance'])"
   ]
  },
  {
   "cell_type": "code",
   "execution_count": null,
   "metadata": {},
   "outputs": [],
   "source": [
    "# Ploting feature importances\n",
    "Importances['Log Importance'] = np.log1p(Importances['Importance'])\n",
    "plt.figure(figsize=(8, 12))\n",
    "sns.barplot(x=\"Log Importance\", y=\"Feature\", data=Importances.sort_values(by=\"Importance\", ascending=False))\n",
    "plt.title('Features (avg over folds)')"
   ]
  },
  {
   "cell_type": "code",
   "execution_count": null,
   "metadata": {},
   "outputs": [],
   "source": []
  }
 ],
 "metadata": {
  "kernelspec": {
   "display_name": "Python 3",
   "language": "python",
   "name": "python3"
  },
  "language_info": {
   "codemirror_mode": {
    "name": "ipython",
    "version": 3
   },
   "file_extension": ".py",
   "mimetype": "text/x-python",
   "name": "python",
   "nbconvert_exporter": "python",
   "pygments_lexer": "ipython3",
   "version": "3.7.5"
  }
 },
 "nbformat": 4,
 "nbformat_minor": 4
}
