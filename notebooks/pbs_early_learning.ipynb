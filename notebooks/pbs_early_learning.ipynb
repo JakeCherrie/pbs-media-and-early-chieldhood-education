{
 "cells": [
  {
   "cell_type": "markdown",
   "metadata": {},
   "source": [
    "# Uncover the factors to help measure how young children learn"
   ]
  },
  {
   "cell_type": "markdown",
   "metadata": {},
   "source": [
    "### Setting Up"
   ]
  },
  {
   "cell_type": "code",
   "execution_count": 3,
   "metadata": {},
   "outputs": [
    {
     "name": "stderr",
     "output_type": "stream",
     "text": [
      "C:\\Users\\jakec\\AppData\\Local\\Continuum\\anaconda3\\envs\\early-chieldhood-education\\lib\\site-packages\\tqdm\\std.py:651: FutureWarning: The Panel class is removed from pandas. Accessing it from the top-level namespace will also be removed in the next version\n",
      "  from pandas import Panel\n"
     ]
    }
   ],
   "source": [
    "# System management\n",
    "import os\n",
    "import gc\n",
    "\n",
    "# Numpy and pandas for data analysis and manipulation\n",
    "import numpy as np\n",
    "import pandas as pd\n",
    "\n",
    "# Json for converting string to dict\n",
    "import json\n",
    "\n",
    "# Random for random\n",
    "import random\n",
    "\n",
    "# Datetime for handling date time variables\n",
    "import datetime as dt\n",
    "\n",
    "# Matplotlib pyplot and seaborn for plotting\n",
    "import matplotlib.pyplot as plt\n",
    "import seaborn as sns\n",
    "\n",
    "# Algorithms\n",
    "from sklearn.ensemble import RandomForestClassifier as rf\n",
    "from xgboost import XGBClassifier as xgb\n",
    "from lightgbm import LGBMClassifier as lgbm\n",
    "from lightgbm import LGBMRegressor\n",
    "\n",
    "# Sklearn importing folding methods\n",
    "from sklearn.model_selection import train_test_split, KFold, StratifiedKFold, GroupKFold\n",
    "from sklearn.preprocessing import LabelEncoder\n",
    "\n",
    "# Sklearn importing evaluation metrics\n",
    "from sklearn.metrics import roc_curve, auc, roc_auc_score, log_loss, accuracy_score, confusion_matrix\n",
    "\n",
    "# For shuffling Groups\n",
    "from sklearn.utils import shuffle\n",
    "\n",
    "# Hyper paramater optimisation\n",
    "from hyperopt import hp, tpe, Trials, STATUS_OK\n",
    "from hyperopt.fmin import fmin\n",
    "\n",
    "# Weights and Biases for model control\n",
    "import wandb\n",
    "\n",
    "# tqdm for progress management\n",
    "from tqdm import tqdm\n",
    "tqdm.pandas()\n",
    "\n",
    "# Suppress warnings\n",
    "import warnings\n",
    "warnings.filterwarnings('ignore')"
   ]
  },
  {
   "cell_type": "code",
   "execution_count": 4,
   "metadata": {},
   "outputs": [],
   "source": [
    "# Setting up\n",
    "config = {\n",
    "    'method': 'LightGBM',\n",
    "    'debug': False,\n",
    "    'debug_train_size': 100,\n",
    "    'debug_test_size': 50,\n",
    "    'random_seed': 42,\n",
    "    'num_trials': 10\n",
    "}"
   ]
  },
  {
   "cell_type": "markdown",
   "metadata": {},
   "source": [
    "### Functions"
   ]
  },
  {
   "cell_type": "code",
   "execution_count": 5,
   "metadata": {},
   "outputs": [],
   "source": [
    "def ml_encoder(train, test, encode_columns, threshold=999, nan_as_category=True):\n",
    "    \"\"\"\n",
    "    One-hot and label encoder with thresholds for categorical columns\n",
    "    \"\"\"\n",
    "    # Union train and test to make sure all categories are represented\n",
    "    df = pd.concat([train, test], ignore_index=True)\n",
    "    \n",
    "    # Unchanged columns\n",
    "    keep_df = df[df.columns[~df.columns.isin(encode_columns)]]\n",
    "\n",
    "    # Number of categories\n",
    "    num_categories = df[encode_columns].describe(include='all').loc['unique']\n",
    "    \n",
    "    # Label encoding\n",
    "    label_columns = num_categories.where(num_categories >= threshold).dropna().index\n",
    "    le = LabelEncoder()\n",
    "    label_df = df[label_columns].apply(lambda col: le.fit_transform(col))\n",
    "\n",
    "    # One hot encoding\n",
    "    one_hot_columns = num_categories.where(num_categories < threshold).dropna().index\n",
    "    one_hot_df = pd.get_dummies(df[one_hot_columns], dummy_na=nan_as_category)\n",
    "    one_hot_df.columns = [f\"{col}\" for col in one_hot_df.columns]\n",
    "    \n",
    "    # Rebuild the dataframe\n",
    "    df = pd.concat([keep_df, label_df, one_hot_df], axis=1, sort=True)\n",
    "    \n",
    "    train = df.iloc[:len(train.index)].reset_index().drop(columns=['index'])\n",
    "    test = df.iloc[len(train.index):].reset_index().drop(columns=['index'])\n",
    "    \n",
    "    return train, test, le"
   ]
  },
  {
   "cell_type": "code",
   "execution_count": 6,
   "metadata": {},
   "outputs": [],
   "source": [
    "def json_to_columns(train, test, json_columns):\n",
    "    \"\"\"\n",
    "    Splits out json columns\n",
    "    \"\"\"\n",
    "    # Union train and test to make sure all categories are represented\n",
    "    df = pd.concat([train, test], ignore_index=True)\n",
    "    \n",
    "    # Base to make the new datafram from\n",
    "    base_df = df[df.columns[~df.columns.isin(json_columns)]]\n",
    "\n",
    "    for column in json_columns:\n",
    "        json_df = pd.DataFrame(df[column].apply(json.loads).values.tolist())\n",
    "        json_df = json_df.fillna(0).astype(int)\n",
    "        json_df.columns = [f\"{column}_{new_column}\" for new_column in json_df.columns]\n",
    "        base_df = pd.concat([base_df, json_df], axis=1)\n",
    "    \n",
    "    train = base_df.iloc[:len(train.index)].reset_index().drop(columns=['index'])\n",
    "    test = base_df.iloc[len(train.index):].reset_index().drop(columns=['index'])\n",
    "    \n",
    "    return train, test"
   ]
  },
  {
   "cell_type": "code",
   "execution_count": 7,
   "metadata": {},
   "outputs": [],
   "source": [
    "def accuracy_grouping(accuracy):\n",
    "    if accuracy == 1:\n",
    "        return 3\n",
    "    elif accuracy == 0.5:\n",
    "        return 2\n",
    "    elif accuracy > 0:\n",
    "        return 1\n",
    "    elif accuracy == 0:\n",
    "        return 0"
   ]
  },
  {
   "cell_type": "markdown",
   "metadata": {},
   "source": [
    "### Imported Functions"
   ]
  },
  {
   "cell_type": "code",
   "execution_count": 8,
   "metadata": {},
   "outputs": [],
   "source": [
    "# Using Ben Hamners quadratic weighted Kappa https://github.com/benhamner/Metrics/blob/master/Python/ml_metrics/quadratic_weighted_kappa.py\n",
    "def confusion_matrix(rater_a, rater_b, min_rating=None, max_rating=None):\n",
    "    \"\"\"\n",
    "    Returns the confusion matrix between rater's ratings\n",
    "    \"\"\"\n",
    "    assert(len(rater_a) == len(rater_b))\n",
    "    if min_rating is None:\n",
    "        min_rating = min(rater_a + rater_b)\n",
    "    if max_rating is None:\n",
    "        max_rating = max(rater_a + rater_b)\n",
    "    num_ratings = int(max_rating - min_rating + 1)\n",
    "    conf_mat = [[0 for i in range(num_ratings)]\n",
    "                for j in range(num_ratings)]\n",
    "    for a, b in zip(rater_a, rater_b):\n",
    "        conf_mat[a - min_rating][b - min_rating] += 1\n",
    "    return conf_mat\n",
    "\n",
    "\n",
    "def histogram(ratings, min_rating=None, max_rating=None):\n",
    "    \"\"\"\n",
    "    Returns the counts of each type of rating that a rater made\n",
    "    \"\"\"\n",
    "    if min_rating is None:\n",
    "        min_rating = min(ratings)\n",
    "    if max_rating is None:\n",
    "        max_rating = max(ratings)\n",
    "    num_ratings = int(max_rating - min_rating + 1)\n",
    "    hist_ratings = [0 for x in range(num_ratings)]\n",
    "    for r in ratings:\n",
    "        hist_ratings[r - min_rating] += 1\n",
    "    return hist_ratings\n",
    "\n",
    "\n",
    "def quadratic_weighted_kappa(rater_a, rater_b, min_rating=None, max_rating=None):\n",
    "    \"\"\"\n",
    "    Calculates the quadratic weighted kappa\n",
    "    quadratic_weighted_kappa calculates the quadratic weighted kappa\n",
    "    value, which is a measure of inter-rater agreement between two raters\n",
    "    that provide discrete numeric ratings.  Potential values range from -1\n",
    "    (representing complete disagreement) to 1 (representing complete\n",
    "    agreement).  A kappa value of 0 is expected if all agreement is due to\n",
    "    chance.\n",
    "    quadratic_weighted_kappa(rater_a, rater_b), where rater_a and rater_b\n",
    "    each correspond to a list of integer ratings.  These lists must have the\n",
    "    same length.\n",
    "    The ratings should be integers, and it is assumed that they contain\n",
    "    the complete range of possible ratings.\n",
    "    quadratic_weighted_kappa(X, min_rating, max_rating), where min_rating\n",
    "    is the minimum possible rating, and max_rating is the maximum possible\n",
    "    rating\n",
    "    \"\"\"\n",
    "    rater_a = np.array(rater_a, dtype=int)\n",
    "    rater_b = np.array(rater_b, dtype=int)\n",
    "    assert(len(rater_a) == len(rater_b))\n",
    "    if min_rating is None:\n",
    "        min_rating = min(min(rater_a), min(rater_b))\n",
    "    if max_rating is None:\n",
    "        max_rating = max(max(rater_a), max(rater_b))\n",
    "    conf_mat = confusion_matrix(rater_a, rater_b,\n",
    "                                min_rating, max_rating)\n",
    "    num_ratings = len(conf_mat)\n",
    "    num_scored_items = float(len(rater_a))\n",
    "\n",
    "    hist_rater_a = histogram(rater_a, min_rating, max_rating)\n",
    "    hist_rater_b = histogram(rater_b, min_rating, max_rating)\n",
    "\n",
    "    numerator = 0.0\n",
    "    denominator = 0.0\n",
    "\n",
    "    for i in range(num_ratings):\n",
    "        for j in range(num_ratings):\n",
    "            expected_count = (hist_rater_a[i] * hist_rater_b[j]\n",
    "                              / num_scored_items)\n",
    "            d = pow(i - j, 2.0) / pow(num_ratings - 1, 2.0)\n",
    "            numerator += d * conf_mat[i][j] / num_scored_items\n",
    "            denominator += d * expected_count / num_scored_items\n",
    "\n",
    "    return 1.0 - numerator / denominator"
   ]
  },
  {
   "cell_type": "markdown",
   "metadata": {},
   "source": [
    "### Importing Data"
   ]
  },
  {
   "cell_type": "markdown",
   "metadata": {},
   "source": [
    "Can be commented out after the first run"
   ]
  },
  {
   "cell_type": "code",
   "execution_count": 9,
   "metadata": {},
   "outputs": [],
   "source": [
    "# y_train = pd.read_csv(\"../data/train_labels.csv\")\n",
    "# # Saving full training set as feather\n",
    "# y_train.reset_index().drop(columns = ['index']).to_feather(\"../data/y_train.feather\")\n",
    "# print(y_train.shape)\n",
    "# # Creating sample for debuging\n",
    "# sample = pd.Series(y_train['installation_id'].unique()).sample(config['debug_train_size'], random_state=config['random_seed'])\n",
    "# y_train_sample = y_train.where(y_train['installation_id'].isin(sample)).dropna()\n",
    "# y_train_sample.reset_index().drop(columns = ['index']).to_feather(\"../data/y_train_sample.feather\")\n",
    "# print(y_train_sample.shape)"
   ]
  },
  {
   "cell_type": "code",
   "execution_count": 8,
   "metadata": {},
   "outputs": [],
   "source": [
    "# X_train = pd.read_csv(\"../data/train.csv\")\n",
    "# # Droping ids that never had an assessment\n",
    "# assessed = y_train['installation_id']\n",
    "# X_train = X_train.where(X_train['installation_id'].isin(assessed)).dropna()\n",
    "# # Saving full training set as feather\n",
    "# X_train.reset_index().drop(columns = ['index']).to_feather(\"../data/X_train.feather\")\n",
    "# print(X_train.shape)\n",
    "# # Creating sample for config['debug']ing\n",
    "# X_train_sample = X_train.where(X_train['installation_id'].isin(sample)).dropna()\n",
    "# X_train_sample.reset_index().drop(columns = ['index']).to_feather(\"../data/X_train_sample.feather\")\n",
    "# print(X_train_sample.shape)"
   ]
  },
  {
   "cell_type": "code",
   "execution_count": 9,
   "metadata": {},
   "outputs": [],
   "source": [
    "# X_test = pd.read_csv(\"../data/test.csv\")\n",
    "# # Saving full training set as feather\n",
    "# X_test.reset_index().to_feather(\"../data/X_test.feather\")\n",
    "# print(X_test.shape)\n",
    "# # Creating test sample for config['debug']ing\n",
    "# test_sample = pd.Series(X_test['installation_id'].unique()).sample(config['debug_test_size'], random_state=config['random_seed'])\n",
    "# X_test_sample = X_test.where(X_test['installation_id'].isin(test_sample)).dropna()\n",
    "# X_test_sample.reset_index().drop(columns = ['index']).to_feather(\"../data/X_test_sample.feather\")\n",
    "# print(X_test_sample.shape)"
   ]
  },
  {
   "cell_type": "code",
   "execution_count": 10,
   "metadata": {},
   "outputs": [],
   "source": [
    "# Loading training set from feather\n",
    "if config['debug']:\n",
    "    X_train = pd.read_feather(\"../data/X_train_sample.feather\")\n",
    "else:\n",
    "    X_train = pd.read_feather(\"../data/X_train.feather\")"
   ]
  },
  {
   "cell_type": "code",
   "execution_count": 11,
   "metadata": {},
   "outputs": [],
   "source": [
    "# Loading target set from feather\n",
    "if config['debug']:\n",
    "    y_train = pd.read_feather(\"../data/y_train_sample.feather\")\n",
    "else:\n",
    "    y_train = pd.read_feather(\"../data/y_train.feather\")"
   ]
  },
  {
   "cell_type": "code",
   "execution_count": 12,
   "metadata": {},
   "outputs": [],
   "source": [
    "# Loading testing set from feather\n",
    "if config['debug']:\n",
    "    X_test = pd.read_feather(\"../data/X_test_sample.feather\")\n",
    "else:\n",
    "    X_test = pd.read_feather(\"../data/X_test.feather\")"
   ]
  },
  {
   "cell_type": "code",
   "execution_count": 13,
   "metadata": {},
   "outputs": [
    {
     "data": {
      "text/plain": [
       "73"
      ]
     },
     "execution_count": 13,
     "metadata": {},
     "output_type": "execute_result"
    }
   ],
   "source": [
    "gc.collect()"
   ]
  },
  {
   "cell_type": "markdown",
   "metadata": {},
   "source": [
    "## Feature Engineering"
   ]
  },
  {
   "cell_type": "markdown",
   "metadata": {},
   "source": [
    "##### Creating features"
   ]
  },
  {
   "cell_type": "code",
   "execution_count": 14,
   "metadata": {},
   "outputs": [],
   "source": [
    "X_train['datetime'] = [dt.replace(tzinfo=None) for dt in pd.to_datetime(X_train.timestamp)]\n",
    "X_test['datetime'] = [dt.replace(tzinfo=None) for dt in pd.to_datetime(X_test.timestamp)]"
   ]
  },
  {
   "cell_type": "code",
   "execution_count": 15,
   "metadata": {},
   "outputs": [],
   "source": [
    "# X_train['title.event_code'] = X_train[['title', 'event_code']].apply(lambda x: ''.join(str(x)), axis=1)\n",
    "# X_test['title.event_code'] = X_train[['title', 'event_code']].apply(lambda x: ''.join(str(x)), axis=1)"
   ]
  },
  {
   "cell_type": "code",
   "execution_count": 16,
   "metadata": {},
   "outputs": [],
   "source": [
    "X_train['assessed'] = (((X_train.type == 'Assessment') & (X_train.event_code == 4100)) \n",
    "                      | ((X_train.title == 'Bird Measurer (Assessment)') & (X_train.event_code == 4110)))\n",
    "X_test['assessed'] = (((X_test.type == 'Assessment') & (X_test.event_code == 4100)) \n",
    "                      | ((X_test.title == 'Bird Measurer (Assessment)') & (X_test.event_code == 4110)))"
   ]
  },
  {
   "cell_type": "markdown",
   "metadata": {},
   "source": [
    "##### Grouping into sessions"
   ]
  },
  {
   "cell_type": "code",
   "execution_count": 17,
   "metadata": {},
   "outputs": [],
   "source": [
    "# For now just pulling out basic information\n",
    "def session_information(df):\n",
    "    # should look into event_data, event_id, time over each event, time to each event, time from each event, etc.\n",
    "    session_df = pd.DataFrame([[df.installation_id.iloc[0]]], columns=['installation_id'])\n",
    "#     session_df['game_session'] = df.game_session.iloc[0]\n",
    "    session_df['type'] = df.type.iloc[0]\n",
    "    session_df['title'] = df.title.iloc[0]\n",
    "    session_df['session_title'] = df.title.iloc[0]\n",
    "    session_df['session_num_event_code'] = json.dumps(df.groupby(['event_code']).count()['installation_id'].to_dict())\n",
    "    session_df['session_num_event_id'] = json.dumps(df.groupby(['event_id']).count()['installation_id'].to_dict())\n",
    "    session_df['session_event_count'] = df.event_count.max()\n",
    "    session_df['session_start'] = df.datetime.min()\n",
    "    session_df['session_end'] = df.datetime.max()\n",
    "    session_df['session_length'] = df.game_time.max()\n",
    "    session_df['session_avg_event_time'] = session_df.session_length / session_df.session_event_count\n",
    "    session_df['session_hour'] = session_df.session_start.dt.hour.astype(str)\n",
    "    session_df['session_day'] = session_df.session_start.dt.dayofyear\n",
    "    session_df['session_weekday'] = session_df.session_start.dt.weekday.astype(str)\n",
    "    # Assessed sessions\n",
    "    session_df['assessed'] = df.assessed.any()\n",
    "    session_df['num_correct'] = df.event_data.apply(lambda x: json.loads(x).get('correct')).sum()\n",
    "    session_df['num_incorrect'] = df.event_data.apply(lambda x: json.loads(x).get('correct')).count() - session_df.num_correct\n",
    "    session_df['accuracy'] = session_df.num_correct / (session_df.num_correct + session_df.num_incorrect)\n",
    "    session_df['accuracy_grouping'] = session_df.accuracy.apply(lambda x: accuracy_grouping(x))\n",
    "    \n",
    "    return session_df"
   ]
  },
  {
   "cell_type": "code",
   "execution_count": 18,
   "metadata": {},
   "outputs": [
    {
     "name": "stderr",
     "output_type": "stream",
     "text": [
      "100%|██████████| 175467/175467 [1:00:11<00:00, 48.58it/s]\n",
      "100%|██████████| 28445/28445 [08:17<00:00, 57.19it/s]\n"
     ]
    }
   ],
   "source": [
    "# Grouping up to a session level\n",
    "X_train = X_train.groupby('game_session').progress_apply(session_information)\n",
    "X_test = X_test.groupby('game_session').progress_apply(session_information)"
   ]
  },
  {
   "cell_type": "code",
   "execution_count": 19,
   "metadata": {},
   "outputs": [],
   "source": [
    "X_train.sort_values(['session_start', 'game_session'], inplace=True)\n",
    "X_test.sort_values(['session_start', 'game_session'], inplace=True)"
   ]
  },
  {
   "cell_type": "code",
   "execution_count": 20,
   "metadata": {},
   "outputs": [],
   "source": [
    "X_train = X_train.reset_index().drop(columns='level_1')\n",
    "X_test = X_test.reset_index().drop(columns='level_1')"
   ]
  },
  {
   "cell_type": "code",
   "execution_count": 21,
   "metadata": {},
   "outputs": [],
   "source": [
    "X_train, X_test = json_to_columns(X_train, X_test, ['session_num_event_code', 'session_num_event_id'])"
   ]
  },
  {
   "cell_type": "code",
   "execution_count": 22,
   "metadata": {},
   "outputs": [],
   "source": [
    "X_train, X_test, _ = ml_encoder(X_train, X_test, encode_columns=['type', 'title'], nan_as_category=False)"
   ]
  },
  {
   "cell_type": "code",
   "execution_count": 23,
   "metadata": {},
   "outputs": [],
   "source": [
    "X_train.columns = [str(col) for col in X_train.columns]\n",
    "X_test.columns = [str(col) for col in X_train.columns]"
   ]
  },
  {
   "cell_type": "code",
   "execution_count": 24,
   "metadata": {},
   "outputs": [
    {
     "name": "stdout",
     "output_type": "stream",
     "text": [
      "Train shape: (175467, 528)\n",
      "Test shape: (28445, 528)\n"
     ]
    }
   ],
   "source": [
    "print(f\"Train shape: {X_train.shape}\")\n",
    "print(f\"Test shape: {X_test.shape}\")"
   ]
  },
  {
   "cell_type": "code",
   "execution_count": 25,
   "metadata": {},
   "outputs": [],
   "source": [
    "# Saving to feather for fast loading from checkpoint\n",
    "if config['debug']:\n",
    "    X_train.to_feather(\"../data/X_train_sessions_sample.feather\")\n",
    "    X_test.to_feather(\"../data/X_test_sessions_sample.feather\")\n",
    "else:\n",
    "    X_train.to_feather(\"../data/X_train_sessions.feather\")\n",
    "    X_test.to_feather(\"../data/X_test_sessions.feather\")"
   ]
  },
  {
   "cell_type": "code",
   "execution_count": 10,
   "metadata": {},
   "outputs": [
    {
     "data": {
      "text/plain": [
       "7"
      ]
     },
     "execution_count": 10,
     "metadata": {},
     "output_type": "execute_result"
    }
   ],
   "source": [
    "# Saving to feather for fast loading from checkpoint\n",
    "if config['debug']:\n",
    "    X_train = pd.read_feather(\"../data/X_train_sessions_sample.feather\")\n",
    "    X_test = pd.read_feather(\"../data/X_test_sessions_sample.feather\")\n",
    "else:\n",
    "    X_train = pd.read_feather(\"../data/X_train_sessions.feather\")\n",
    "    X_test = pd.read_feather(\"../data/X_test_sessions.feather\")\n",
    "gc.collect()"
   ]
  },
  {
   "cell_type": "markdown",
   "metadata": {},
   "source": [
    "##### Grouping into assessment events"
   ]
  },
  {
   "cell_type": "code",
   "execution_count": 11,
   "metadata": {},
   "outputs": [],
   "source": [
    "def get_rolling_amount(grp, freq):\n",
    "    return grp.rolling(freq, on='session_start').session_event_count.count()"
   ]
  },
  {
   "cell_type": "code",
   "execution_count": 12,
   "metadata": {},
   "outputs": [],
   "source": [
    "def installation_information(df, test_set=False):\n",
    "    # Columns to sum count over\n",
    "    cumulative_columns = [col for col in df.columns if ('event_code_' in col or \n",
    "                                                        'event_id_' in col or \n",
    "                                                        'title_' in col or \n",
    "                                                        'type_' in col or \n",
    "                                                        col in ('session_event_count', 'session_length', 'num_correct', \n",
    "                                                                'num_incorrect', 'accuracy', 'accuracy_grouping', 'assessed'))]\n",
    "\n",
    "    cumulative_df = df[cumulative_columns + ['installation_id']].groupby('installation_id').cumsum()\n",
    "    cumulative_df.columns = [f\"cumulative_{col}\" for col in cumulative_df.columns]\n",
    "    \n",
    "    # Removing counts from the assessed session (they're truncated in the test set)\n",
    "    for col in cumulative_columns:\n",
    "        cumulative_df[f\"cumulative_{col}\"] = cumulative_df[f\"cumulative_{col}\"] - df[col]\n",
    "    \n",
    "    # Getting count of sessions\n",
    "    cumulative_df['num_sessions'] = df.groupby('installation_id').game_session.cumcount()\n",
    "        \n",
    "    # Ratios\n",
    "    cumulative_df['average_event_time'] = cumulative_df.cumulative_session_length / cumulative_df.num_sessions\n",
    "    cumulative_df['average_event_count'] = cumulative_df.cumulative_session_event_count / cumulative_df.num_sessions\n",
    "    cumulative_df['average_num_correct'] = cumulative_df.cumulative_num_correct / cumulative_df.cumulative_assessed\n",
    "    cumulative_df['average_accuracy'] = cumulative_df.cumulative_accuracy / cumulative_df.cumulative_assessed\n",
    "    cumulative_df['total_accuracy'] = cumulative_df.cumulative_num_correct / (cumulative_df.cumulative_num_correct + cumulative_df.cumulative_num_incorrect)\n",
    "    cumulative_df['average_accuracy_grouping'] = cumulative_df.cumulative_accuracy_grouping / cumulative_df.cumulative_assessed\n",
    "    \n",
    "    # Dabbling with temporal features\n",
    "    # Time since last session\n",
    "    cumulative_df['time_last_session'] = (df.groupby('installation_id').session_start.shift(1) - df.session_start).astype(np.int64)\n",
    "    # Number of sessions in past period\n",
    "    cumulative_df['num_sessions_past_month'] = df.groupby('installation_id', as_index=False, group_keys=False).apply(get_rolling_amount, '30D')\n",
    "    cumulative_df['num_sessions_past_week'] = df.groupby('installation_id', as_index=False, group_keys=False).apply(get_rolling_amount, '7D')\n",
    "    cumulative_df['num_sessionspast_day'] = df.groupby('installation_id', as_index=False, group_keys=False).apply(get_rolling_amount, '1D')\n",
    "    cumulative_df['num_sessionspast_hour'] = df.groupby('installation_id', as_index=False, group_keys=False).apply(get_rolling_amount, '1H')\n",
    "    \n",
    "    drop_columns = [col for col in df.columns if ('event_code_' in col or 'event_id_' in col)]\n",
    "    df = df.drop(columns = drop_columns)\n",
    "    \n",
    "    # Build the aggregated dataframe\n",
    "    df = pd.concat([df, cumulative_df], axis=1, sort=True)\n",
    "    \n",
    "    if test_set:\n",
    "        df = df.loc[df.groupby('installation_id').session_start.idxmax()]\n",
    "    else:\n",
    "        df = df[df.assessed]\n",
    "    \n",
    "    return df"
   ]
  },
  {
   "cell_type": "code",
   "execution_count": 13,
   "metadata": {},
   "outputs": [],
   "source": [
    "X_train = installation_information(X_train)\n",
    "X_test = installation_information(X_test, test_set=True)"
   ]
  },
  {
   "cell_type": "markdown",
   "metadata": {},
   "source": [
    "##### Additional Data Prep"
   ]
  },
  {
   "cell_type": "code",
   "execution_count": 14,
   "metadata": {},
   "outputs": [],
   "source": [
    "# Removing test events that are not part of the kaggle compitition\n",
    "X_test = X_test.loc[X_test.groupby('installation_id').session_start.idxmax()]"
   ]
  },
  {
   "cell_type": "code",
   "execution_count": 15,
   "metadata": {},
   "outputs": [],
   "source": [
    "# Encoding\n",
    "X_train, X_test, le = ml_encoder(X_train, X_test, encode_columns=['session_title', 'session_hour', 'session_weekday'], nan_as_category=False)"
   ]
  },
  {
   "cell_type": "code",
   "execution_count": 16,
   "metadata": {},
   "outputs": [],
   "source": [
    "# Quick way to allign index\n",
    "y_train = X_train.accuracy_grouping.astype(int)"
   ]
  },
  {
   "cell_type": "code",
   "execution_count": 17,
   "metadata": {},
   "outputs": [],
   "source": [
    "# Drop columns thatwon't be helpful or that we wont have in the test set\n",
    "drop_columns = ['session_start', 'session_end', 'accuracy_grouping', 'assessed', 'num_correct', 'num_incorrect', 'accuracy', 'game_session'\n",
    "                , 'session_avg_event_time', 'session_event_count', 'session_length']\n",
    "X_train.drop(columns = drop_columns, inplace=True)\n",
    "X_test.drop(columns = drop_columns, inplace=True)"
   ]
  },
  {
   "cell_type": "code",
   "execution_count": 18,
   "metadata": {},
   "outputs": [
    {
     "name": "stdout",
     "output_type": "stream",
     "text": [
      "train shape: (17692, 618)\n",
      "train target: 17692\n",
      "test shape: (1000, 618)\n"
     ]
    }
   ],
   "source": [
    "print(\"train shape:\", (len(X_train.index), len(X_train.columns)))\n",
    "print(\"train target:\", (len(y_train.index)))\n",
    "print(\"test shape:\", (len(X_test.index), len(X_test.columns)))"
   ]
  },
  {
   "cell_type": "markdown",
   "metadata": {},
   "source": [
    "## Creating a baseline fit with basic data to prep the model"
   ]
  },
  {
   "cell_type": "code",
   "execution_count": 19,
   "metadata": {},
   "outputs": [],
   "source": [
    "# Setting up a sweep config for wandb sweeps (hyper paramater tuning)\n",
    "# sweep_config = {\n",
    "#     'method': 'bayes', #grid, random\n",
    "#     'metric': {\n",
    "#       'name': 'cappa',\n",
    "#       'goal': 'maximize'   \n",
    "#     },\n",
    "#     'parameters': {\n",
    "#         'num_folds': [10, 11],\n",
    "#         'num_leaves': [32],\n",
    "#         'max_depth': [10],\n",
    "#         'learning_rate': [0.001],\n",
    "#         'num_boosting_round': 2000,\n",
    "#         'metric': ['cappa', 'rmse'],\n",
    "#         'verbose': [-1],\n",
    "#         'subsample': [0.97],\n",
    "#         'colsample_bytree': [0.95],\n",
    "#         'random_state': [42],\n",
    "#         'min_child_samples': [11]\n",
    "#     }\n",
    "# }\n",
    "# sweep_id = wandb.sweep(sweep_config, entity=\"sweep\")"
   ]
  },
  {
   "cell_type": "code",
   "execution_count": 20,
   "metadata": {},
   "outputs": [],
   "source": [
    "def fit_lgbm(params, X_train_=X_train, X_test_=X_test, y_train_=y_train):\n",
    "    wandb.init()\n",
    "    params = {\n",
    "        'boosting_type': params['boosting_type'],\n",
    "        'num_folds': int(params['num_folds']),\n",
    "        'num_leaves': int(params['num_leaves']),\n",
    "        'max_depth': int(params['max_depth']),\n",
    "        'learning_rate': params['learning_rate'],\n",
    "        'num_boosting_round': int(params['num_boosting_round']),\n",
    "        'metric': params['metric'],\n",
    "        'verbose': params['verbose'],\n",
    "        \"subsample\": params['subsample'],\n",
    "        \"colsample_bytree\": params['colsample_bytree'],\n",
    "        \"random_state\": int(params['random_state']),\n",
    "        'min_child_samples': int(params['min_child_samples'])\n",
    "    }\n",
    "    \n",
    "    # Get folds - this should be updated to grouped k fold\n",
    "    num_folds = int(params['num_folds'])\n",
    "    installation_ids = np.array(sorted(X_train_['installation_id']))\n",
    "    \n",
    "    # Setting up folds grouped by installation_id\n",
    "    folds = []\n",
    "    GroupKfolds = GroupKFold(n_splits=num_folds)\n",
    "    for train, valid in GroupKfolds.split(X=X_train_, groups=X_train_.installation_id):\n",
    "        folds.append([train, valid])\n",
    "        \n",
    "    # Dropping installation_id\n",
    "    X_train_ = X_train_.drop(columns=['installation_id'])\n",
    "    X_test_ = X_test_.drop(columns=['installation_id'])\n",
    "\n",
    "    \n",
    "    # Initializing Variables\n",
    "    prd_train = pd.Series(np.zeros(y_train_.shape[0]))\n",
    "    prd_test = np.zeros(X_test_.shape[0])\n",
    "    imp = pd.DataFrame()\n",
    "    MSE = 0\n",
    "    avg_kappa = 0\n",
    "\n",
    "    for n_fld, (trn_idx, vld_idx) in enumerate(folds):\n",
    "        #trn_idx = idx_tab.iloc[trn_num].index\n",
    "        #vld_idx = idx_tab.iloc[vld_num].index\n",
    "        X_train__, y_train__ = X_train_.iloc[trn_idx], y_train_.iloc[trn_idx]\n",
    "        X_valid, y_valid = X_train_.iloc[vld_idx], y_train_.loc[vld_idx]\n",
    "\n",
    "        lgb = LGBMRegressor(**params)\n",
    "\n",
    "        # Fit the model\n",
    "        lgb.fit(X_train__, y_train__)\n",
    "\n",
    "        # applying the model to the validation data\n",
    "        prd_valid = lgb.predict(X_valid)\n",
    "        # Calculating and outputting the RMSE\n",
    "        y_valid = np.array(y_valid.astype(int))\n",
    "        prd_valid = np.array(np.round_(np.floor(prd_valid), decimals=0).astype(int))\n",
    "        fld_MSE = (np.square(y_valid - prd_valid)).mean()\n",
    "        fld_QWK = quadratic_weighted_kappa(y_valid, prd_valid)\n",
    "        wandb.log({'fold_RMSE': fld_MSE, 'fold_kappa': fld_QWK}, step=n_fld + 1)\n",
    "        # Summing mean squared errors\n",
    "        MSE += fld_MSE/num_folds\n",
    "\n",
    "        # Applying predictions to the train set weighted by the MSE\n",
    "        prd = lgb.predict(X_valid)\n",
    "        prd = np.array(np.round_(prd, decimals=0).astype(int))\n",
    "        prd_train.iloc[vld_idx] = prd\n",
    "\n",
    "        # Applying predictions to the test set weighted by the MSE\n",
    "        prd = lgb.predict(X_test_)\n",
    "        prd_test += prd/num_folds\n",
    "\n",
    "        # Calculating the fold importance\n",
    "        imp_df = pd.DataFrame()\n",
    "        imp_df['fts'] = X_train__.columns\n",
    "        imp_df['imp'] = lgb.booster_.feature_importance(importance_type='gain')\n",
    "\n",
    "        # Summing the fold importances\n",
    "        imp_df['fld'] = n_fld+1\n",
    "        imp = pd.concat([imp, imp_df], axis=0, sort=False)\n",
    "        gc.collect()\n",
    "        \n",
    "    Importances = imp[[\"fts\", \"imp\"]].groupby(\"fts\").mean().sort_values(by=\"imp\", ascending=False)[:60]\n",
    "\n",
    "    wandb.log({\"Importances\": wandb.Table(data=Importances.reset_index().values.tolist(), columns=['Fetures', 'Importances'])})\n",
    "    wandb.log(config)\n",
    "    wandb.log(params)\n",
    "    wandb.log({'RMSE': np.sqrt(MSE), 'kappa': quadratic_weighted_kappa(y_train_, prd_train)})\n",
    "    \n",
    "    return {'loss': -quadratic_weighted_kappa(y_train_, prd_train), 'status': STATUS_OK, 'other_stuff': {'Importance': Importances.to_dict(), 'Best_Prediction': prd_test}}"
   ]
  },
  {
   "cell_type": "code",
   "execution_count": 21,
   "metadata": {},
   "outputs": [],
   "source": [
    "param_space = {\n",
    "    'boosting_type': hp.choice('boosting_type', ['gbdt']),\n",
    "    'num_folds': 5, # hp.quniform('num_folds', 4, 11, 1),\n",
    "    'num_leaves': 31, # hp.quniform('num_leaves', 30, 33, 1),\n",
    "    'max_depth': 17, # hp.quniform('max_depth', 15, 19, 1),\n",
    "    'learning_rate': 0.10228392552169215, # hp.loguniform('learning_rate', np.log(0.02), np.log(0.5)),\n",
    "    'num_boosting_round': 7143, # hp.loguniform('learning_rate', np.log(500), np.log(10000)),\n",
    "    'metric': 'cappa', # hp.choice('metric', ['cappa', 'rmse']),\n",
    "    'verbose': -1,\n",
    "    'subsample': hp.loguniform('subsample', np.log(0.95), np.log(1)), # 0.9636096100279673,\n",
    "    'colsample_bytree': hp.loguniform('colsample_bytree', np.log(0.5), np.log(1)), # 0.666624460958229,\n",
    "    'random_state': 42,\n",
    "    'min_child_samples': 17 # hp.quniform('min_child_samples', 5, 20, 1)\n",
    "}"
   ]
  },
  {
   "cell_type": "code",
   "execution_count": 22,
   "metadata": {},
   "outputs": [
    {
     "name": "stdout",
     "output_type": "stream",
     "text": [
      "  0%|          | 0/10 [00:00<?, ?it/s, best loss: ?]"
     ]
    },
    {
     "data": {
      "text/html": [
       "\n",
       "                Logging results to <a href=\"https://wandb.com\" target=\"_blank\">Weights & Biases</a> <a href=\"https://docs.wandb.com/integrations/jupyter.html\" target=\"_blank\">(Documentation)</a>.<br/>\n",
       "                Project page: <a href=\"https://app.wandb.ai/jake_cherrie/pbs-early-learning\" target=\"_blank\">https://app.wandb.ai/jake_cherrie/pbs-early-learning</a><br/>\n",
       "                Run page: <a href=\"https://app.wandb.ai/jake_cherrie/pbs-early-learning/runs/jzvc66uh\" target=\"_blank\">https://app.wandb.ai/jake_cherrie/pbs-early-learning/runs/jzvc66uh</a><br/>\n",
       "            "
      ],
      "text/plain": [
       "<IPython.core.display.HTML object>"
      ]
     },
     "metadata": {},
     "output_type": "display_data"
    },
    {
     "name": "stdout",
     "output_type": "stream",
     "text": [
      " 10%|█         | 1/10 [00:15<02:18, 15.44s/it, best loss: -0.4737373324609041]"
     ]
    },
    {
     "data": {
      "text/html": [
       "\n",
       "                Logging results to <a href=\"https://wandb.com\" target=\"_blank\">Weights & Biases</a> <a href=\"https://docs.wandb.com/integrations/jupyter.html\" target=\"_blank\">(Documentation)</a>.<br/>\n",
       "                Project page: <a href=\"https://app.wandb.ai/jake_cherrie/pbs-early-learning\" target=\"_blank\">https://app.wandb.ai/jake_cherrie/pbs-early-learning</a><br/>\n",
       "                Run page: <a href=\"https://app.wandb.ai/jake_cherrie/pbs-early-learning/runs/vx2muz0m\" target=\"_blank\">https://app.wandb.ai/jake_cherrie/pbs-early-learning/runs/vx2muz0m</a><br/>\n",
       "            "
      ],
      "text/plain": [
       "<IPython.core.display.HTML object>"
      ]
     },
     "metadata": {},
     "output_type": "display_data"
    },
    {
     "name": "stdout",
     "output_type": "stream",
     "text": [
      " 20%|██        | 2/10 [00:30<02:02, 15.35s/it, best loss: -0.4737373324609041]"
     ]
    },
    {
     "data": {
      "text/html": [
       "\n",
       "                Logging results to <a href=\"https://wandb.com\" target=\"_blank\">Weights & Biases</a> <a href=\"https://docs.wandb.com/integrations/jupyter.html\" target=\"_blank\">(Documentation)</a>.<br/>\n",
       "                Project page: <a href=\"https://app.wandb.ai/jake_cherrie/pbs-early-learning\" target=\"_blank\">https://app.wandb.ai/jake_cherrie/pbs-early-learning</a><br/>\n",
       "                Run page: <a href=\"https://app.wandb.ai/jake_cherrie/pbs-early-learning/runs/0tn5ki5o\" target=\"_blank\">https://app.wandb.ai/jake_cherrie/pbs-early-learning/runs/0tn5ki5o</a><br/>\n",
       "            "
      ],
      "text/plain": [
       "<IPython.core.display.HTML object>"
      ]
     },
     "metadata": {},
     "output_type": "display_data"
    },
    {
     "name": "stdout",
     "output_type": "stream",
     "text": [
      " 30%|███       | 3/10 [00:48<01:51, 15.98s/it, best loss: -0.47458003298791895]"
     ]
    },
    {
     "data": {
      "text/html": [
       "\n",
       "                Logging results to <a href=\"https://wandb.com\" target=\"_blank\">Weights & Biases</a> <a href=\"https://docs.wandb.com/integrations/jupyter.html\" target=\"_blank\">(Documentation)</a>.<br/>\n",
       "                Project page: <a href=\"https://app.wandb.ai/jake_cherrie/pbs-early-learning\" target=\"_blank\">https://app.wandb.ai/jake_cherrie/pbs-early-learning</a><br/>\n",
       "                Run page: <a href=\"https://app.wandb.ai/jake_cherrie/pbs-early-learning/runs/xdgwtqbq\" target=\"_blank\">https://app.wandb.ai/jake_cherrie/pbs-early-learning/runs/xdgwtqbq</a><br/>\n",
       "            "
      ],
      "text/plain": [
       "<IPython.core.display.HTML object>"
      ]
     },
     "metadata": {},
     "output_type": "display_data"
    },
    {
     "name": "stdout",
     "output_type": "stream",
     "text": [
      " 40%|████      | 4/10 [01:05<01:38, 16.40s/it, best loss: -0.47458003298791895]"
     ]
    },
    {
     "data": {
      "text/html": [
       "\n",
       "                Logging results to <a href=\"https://wandb.com\" target=\"_blank\">Weights & Biases</a> <a href=\"https://docs.wandb.com/integrations/jupyter.html\" target=\"_blank\">(Documentation)</a>.<br/>\n",
       "                Project page: <a href=\"https://app.wandb.ai/jake_cherrie/pbs-early-learning\" target=\"_blank\">https://app.wandb.ai/jake_cherrie/pbs-early-learning</a><br/>\n",
       "                Run page: <a href=\"https://app.wandb.ai/jake_cherrie/pbs-early-learning/runs/e6dbb4ak\" target=\"_blank\">https://app.wandb.ai/jake_cherrie/pbs-early-learning/runs/e6dbb4ak</a><br/>\n",
       "            "
      ],
      "text/plain": [
       "<IPython.core.display.HTML object>"
      ]
     },
     "metadata": {},
     "output_type": "display_data"
    },
    {
     "name": "stdout",
     "output_type": "stream",
     "text": [
      " 50%|█████     | 5/10 [01:22<01:22, 16.59s/it, best loss: -0.47720515936867347]"
     ]
    },
    {
     "data": {
      "text/html": [
       "\n",
       "                Logging results to <a href=\"https://wandb.com\" target=\"_blank\">Weights & Biases</a> <a href=\"https://docs.wandb.com/integrations/jupyter.html\" target=\"_blank\">(Documentation)</a>.<br/>\n",
       "                Project page: <a href=\"https://app.wandb.ai/jake_cherrie/pbs-early-learning\" target=\"_blank\">https://app.wandb.ai/jake_cherrie/pbs-early-learning</a><br/>\n",
       "                Run page: <a href=\"https://app.wandb.ai/jake_cherrie/pbs-early-learning/runs/n6j2z7tm\" target=\"_blank\">https://app.wandb.ai/jake_cherrie/pbs-early-learning/runs/n6j2z7tm</a><br/>\n",
       "            "
      ],
      "text/plain": [
       "<IPython.core.display.HTML object>"
      ]
     },
     "metadata": {},
     "output_type": "display_data"
    },
    {
     "name": "stdout",
     "output_type": "stream",
     "text": [
      " 60%|██████    | 6/10 [01:39<01:06, 16.66s/it, best loss: -0.47720515936867347]"
     ]
    },
    {
     "data": {
      "text/html": [
       "\n",
       "                Logging results to <a href=\"https://wandb.com\" target=\"_blank\">Weights & Biases</a> <a href=\"https://docs.wandb.com/integrations/jupyter.html\" target=\"_blank\">(Documentation)</a>.<br/>\n",
       "                Project page: <a href=\"https://app.wandb.ai/jake_cherrie/pbs-early-learning\" target=\"_blank\">https://app.wandb.ai/jake_cherrie/pbs-early-learning</a><br/>\n",
       "                Run page: <a href=\"https://app.wandb.ai/jake_cherrie/pbs-early-learning/runs/jgfp4l9o\" target=\"_blank\">https://app.wandb.ai/jake_cherrie/pbs-early-learning/runs/jgfp4l9o</a><br/>\n",
       "            "
      ],
      "text/plain": [
       "<IPython.core.display.HTML object>"
      ]
     },
     "metadata": {},
     "output_type": "display_data"
    },
    {
     "name": "stdout",
     "output_type": "stream",
     "text": [
      " 70%|███████   | 7/10 [01:57<00:51, 17.28s/it, best loss: -0.47720515936867347]"
     ]
    },
    {
     "data": {
      "text/html": [
       "\n",
       "                Logging results to <a href=\"https://wandb.com\" target=\"_blank\">Weights & Biases</a> <a href=\"https://docs.wandb.com/integrations/jupyter.html\" target=\"_blank\">(Documentation)</a>.<br/>\n",
       "                Project page: <a href=\"https://app.wandb.ai/jake_cherrie/pbs-early-learning\" target=\"_blank\">https://app.wandb.ai/jake_cherrie/pbs-early-learning</a><br/>\n",
       "                Run page: <a href=\"https://app.wandb.ai/jake_cherrie/pbs-early-learning/runs/3wr2sdez\" target=\"_blank\">https://app.wandb.ai/jake_cherrie/pbs-early-learning/runs/3wr2sdez</a><br/>\n",
       "            "
      ],
      "text/plain": [
       "<IPython.core.display.HTML object>"
      ]
     },
     "metadata": {},
     "output_type": "display_data"
    },
    {
     "name": "stdout",
     "output_type": "stream",
     "text": [
      " 80%|████████  | 8/10 [02:15<00:34, 17.44s/it, best loss: -0.47720515936867347]"
     ]
    },
    {
     "data": {
      "text/html": [
       "\n",
       "                Logging results to <a href=\"https://wandb.com\" target=\"_blank\">Weights & Biases</a> <a href=\"https://docs.wandb.com/integrations/jupyter.html\" target=\"_blank\">(Documentation)</a>.<br/>\n",
       "                Project page: <a href=\"https://app.wandb.ai/jake_cherrie/pbs-early-learning\" target=\"_blank\">https://app.wandb.ai/jake_cherrie/pbs-early-learning</a><br/>\n",
       "                Run page: <a href=\"https://app.wandb.ai/jake_cherrie/pbs-early-learning/runs/jlsfb3we\" target=\"_blank\">https://app.wandb.ai/jake_cherrie/pbs-early-learning/runs/jlsfb3we</a><br/>\n",
       "            "
      ],
      "text/plain": [
       "<IPython.core.display.HTML object>"
      ]
     },
     "metadata": {},
     "output_type": "display_data"
    },
    {
     "name": "stdout",
     "output_type": "stream",
     "text": [
      " 90%|█████████ | 9/10 [02:35<00:18, 18.15s/it, best loss: -0.47720515936867347]"
     ]
    },
    {
     "data": {
      "text/html": [
       "\n",
       "                Logging results to <a href=\"https://wandb.com\" target=\"_blank\">Weights & Biases</a> <a href=\"https://docs.wandb.com/integrations/jupyter.html\" target=\"_blank\">(Documentation)</a>.<br/>\n",
       "                Project page: <a href=\"https://app.wandb.ai/jake_cherrie/pbs-early-learning\" target=\"_blank\">https://app.wandb.ai/jake_cherrie/pbs-early-learning</a><br/>\n",
       "                Run page: <a href=\"https://app.wandb.ai/jake_cherrie/pbs-early-learning/runs/rckpzmhs\" target=\"_blank\">https://app.wandb.ai/jake_cherrie/pbs-early-learning/runs/rckpzmhs</a><br/>\n",
       "            "
      ],
      "text/plain": [
       "<IPython.core.display.HTML object>"
      ]
     },
     "metadata": {},
     "output_type": "display_data"
    },
    {
     "name": "stdout",
     "output_type": "stream",
     "text": [
      "100%|██████████| 10/10 [02:55<00:00, 17.50s/it, best loss: -0.47720515936867347]\n"
     ]
    }
   ],
   "source": [
    "# Hyperparameter optimisation\n",
    "# wandb.agent(sweep_id, function=train)\n",
    "trials = Trials()\n",
    "best = fmin(fn=fit_lgbm, space=param_space, algo=tpe.suggest, max_evals=config['num_trials'], trials=trials, verbose=1)"
   ]
  },
  {
   "cell_type": "code",
   "execution_count": null,
   "metadata": {},
   "outputs": [],
   "source": [
    "best_kappa = 0\n",
    "best_trial = None\n",
    "for trial in trials.results:\n",
    "    if best_kappa < -trial['loss']:\n",
    "        best_trial = trial"
   ]
  },
  {
   "cell_type": "code",
   "execution_count": 29,
   "metadata": {},
   "outputs": [],
   "source": [
    "# Initializing lgbm paramaters\n",
    "params = {\n",
    "    'boosting_type': 'gbdt',\n",
    "    'num_folds': 5,\n",
    "    'num_leaves': 31,\n",
    "    'max_depth': 17,\n",
    "    'learning_rate': 0.10228392552169215,\n",
    "    'num_boosting_round': 7143,\n",
    "    'metric': 'cappa',\n",
    "    'verbose': 1,\n",
    "    \"subsample\": 0.9636096100279673,\n",
    "    \"colsample_bytree\": 0.666624460958229,\n",
    "    \"random_state\": 42,\n",
    "    'min_child_samples': 17\n",
    "}"
   ]
  },
  {
   "cell_type": "code",
   "execution_count": 30,
   "metadata": {},
   "outputs": [
    {
     "data": {
      "text/html": [
       "\n",
       "                Logging results to <a href=\"https://wandb.com\" target=\"_blank\">Weights & Biases</a> <a href=\"https://docs.wandb.com/integrations/jupyter.html\" target=\"_blank\">(Documentation)</a>.<br/>\n",
       "                Project page: <a href=\"https://app.wandb.ai/jake_cherrie/pbs-early-learning\" target=\"_blank\">https://app.wandb.ai/jake_cherrie/pbs-early-learning</a><br/>\n",
       "                Run page: <a href=\"https://app.wandb.ai/jake_cherrie/pbs-early-learning/runs/5d280uf3\" target=\"_blank\">https://app.wandb.ai/jake_cherrie/pbs-early-learning/runs/5d280uf3</a><br/>\n",
       "            "
      ],
      "text/plain": [
       "<IPython.core.display.HTML object>"
      ]
     },
     "metadata": {},
     "output_type": "display_data"
    }
   ],
   "source": [
    "best_trial = fit_lgbm(params, X_train_=X_train, X_test_=X_test, y_train_=y_train)"
   ]
  },
  {
   "cell_type": "code",
   "execution_count": 31,
   "metadata": {},
   "outputs": [],
   "source": [
    "Importances = pd.DataFrame(list(best_trial['other_stuff']['Importance']['imp'].items()), columns=['Feature', 'Importance'])"
   ]
  },
  {
   "cell_type": "code",
   "execution_count": 32,
   "metadata": {},
   "outputs": [
    {
     "data": {
      "text/plain": [
       "Text(0.5, 1.0, 'Features (avg over folds)')"
      ]
     },
     "execution_count": 32,
     "metadata": {},
     "output_type": "execute_result"
    },
    {
     "data": {
      "image/png": "[encoded data removed]",
      "text/plain": [
       "<Figure size 576x864 with 1 Axes>"
      ]
     },
     "metadata": {
      "needs_background": "light"
     },
     "output_type": "display_data"
    }
   ],
   "source": [
    "# Ploting feature importances\n",
    "Importances['Log Importance'] = np.log1p(Importances['Importance'])\n",
    "plt.figure(figsize=(8, 12))\n",
    "sns.barplot(x=\"Log Importance\", y=\"Feature\", data=Importances.sort_values(by=\"Importance\", ascending=False))\n",
    "plt.title('Features (avg over folds)')"
   ]
  },
  {
   "cell_type": "code",
   "execution_count": 49,
   "metadata": {},
   "outputs": [],
   "source": [
    "submission_df = pd.DataFrame({'installation_id': X_test.installation_id, 'accuracy_group': best_trial['other_stuff']['Best_Prediction']})"
   ]
  },
  {
   "cell_type": "code",
   "execution_count": 50,
   "metadata": {},
   "outputs": [],
   "source": [
    "submission_df.to_csv(\"../data/submission.csv\", index=False)"
   ]
  },
  {
   "cell_type": "code",
   "execution_count": 53,
   "metadata": {},
   "outputs": [
    {
     "name": "stdout",
     "output_type": "stream",
     "text": [
      "403 - This competition only allows kernel submissions.\n"
     ]
    },
    {
     "name": "stderr",
     "output_type": "stream",
     "text": [
      "\n",
      "  0%|          | 0.00/28.1k [00:00<?, ?B/s]\n",
      " 28%|##8       | 8.00k/28.1k [00:00<00:00, 44.6kB/s]\n",
      "100%|##########| 28.1k/28.1k [00:12<00:00, 2.34kB/s]\n"
     ]
    }
   ],
   "source": [
    "# !kaggle competitions submit -c data-science-bowl-2019 -f \"../data/submission.csv\" -m \"First submission unrounded accuracy_grouping\""
   ]
  },
  {
   "cell_type": "code",
   "execution_count": null,
   "metadata": {},
   "outputs": [],
   "source": []
  }
 ],
 "metadata": {
  "kernelspec": {
   "display_name": "Python 3",
   "language": "python",
   "name": "python3"
  },
  "language_info": {
   "codemirror_mode": {
    "name": "ipython",
    "version": 3
   },
   "file_extension": ".py",
   "mimetype": "text/x-python",
   "name": "python",
   "nbconvert_exporter": "python",
   "pygments_lexer": "ipython3",
   "version": "3.7.5"
  }
 },
 "nbformat": 4,
 "nbformat_minor": 4
}
