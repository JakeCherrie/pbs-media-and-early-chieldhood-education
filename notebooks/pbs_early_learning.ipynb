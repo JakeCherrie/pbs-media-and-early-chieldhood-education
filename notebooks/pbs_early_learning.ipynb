{
 "cells": [
  {
   "cell_type": "markdown",
   "metadata": {},
   "source": [
    "# Uncover the factors to help measure how young children learn"
   ]
  },
  {
   "cell_type": "markdown",
   "metadata": {},
   "source": [
    "### Setting Up"
   ]
  },
  {
   "cell_type": "code",
   "execution_count": 41,
   "metadata": {},
   "outputs": [],
   "source": [
    "# System management\n",
    "import os\n",
    "import gc\n",
    "\n",
    "# Numpy and pandas for data analysis and manipulation\n",
    "import numpy as np\n",
    "import pandas as pd\n",
    "\n",
    "# Json for converting string to dict\n",
    "import json\n",
    "\n",
    "# Random for random\n",
    "import random\n",
    "\n",
    "# Datetime for handling date time variables\n",
    "import datetime as dt\n",
    "\n",
    "# Matplotlib pyplot and seaborn for plotting\n",
    "import matplotlib.pyplot as plt\n",
    "import seaborn as sns\n",
    "\n",
    "# Algorithms\n",
    "from sklearn.ensemble import RandomForestClassifier as rf\n",
    "from xgboost import XGBClassifier as xgb\n",
    "from lightgbm import LGBMClassifier as lgbm\n",
    "from lightgbm import LGBMRegressor\n",
    "\n",
    "# Sklearn importing folding methods\n",
    "from sklearn.model_selection import train_test_split, KFold, StratifiedKFold, GroupKFold\n",
    "from sklearn.preprocessing import LabelEncoder\n",
    "\n",
    "# Sklearn importing evaluation metrics\n",
    "from sklearn.metrics import roc_curve, auc, roc_auc_score, log_loss, accuracy_score, confusion_matrix\n",
    "\n",
    "# For shuffling Groups\n",
    "from sklearn.utils import shuffle\n",
    "\n",
    "# Hyper paramater optimisation\n",
    "from hyperopt import hp, tpe, Trials, STATUS_OK\n",
    "from hyperopt.fmin import fmin\n",
    "\n",
    "# Weights and Biases for model control\n",
    "import wandb\n",
    "\n",
    "# tqdm for progress management\n",
    "from tqdm import tqdm\n",
    "tqdm.pandas()\n",
    "\n",
    "# Suppress warnings\n",
    "import warnings\n",
    "warnings.filterwarnings('ignore')"
   ]
  },
  {
   "cell_type": "code",
   "execution_count": 46,
   "metadata": {},
   "outputs": [],
   "source": [
    "# Setting up\n",
    "config = {\n",
    "    'method': 'LightGBM',\n",
    "    'debug': True,\n",
    "    'debug_train_size': 100,\n",
    "    'debug_test_size': 50,\n",
    "    'random_seed': 42,\n",
    "    'num_trials': 10\n",
    "}"
   ]
  },
  {
   "cell_type": "markdown",
   "metadata": {},
   "source": [
    "### Functions"
   ]
  },
  {
   "cell_type": "code",
   "execution_count": 47,
   "metadata": {},
   "outputs": [],
   "source": [
    "def ml_encoder(train, test, encode_columns, threshold=999, nan_as_category=True):\n",
    "    \"\"\"\n",
    "    One-hot and label encoder with thresholds for categorical columns\n",
    "    \"\"\"\n",
    "    # Union train and test to make sure all categories are represented\n",
    "    df = pd.concat([train, test], ignore_index=True)\n",
    "    \n",
    "    # Unchanged columns\n",
    "    keep_df = df[df.columns[~df.columns.isin(encode_columns)]]\n",
    "\n",
    "    # Number of categories\n",
    "    num_categories = df[encode_columns].describe(include='all').loc['unique']\n",
    "    \n",
    "    # Label encoding\n",
    "    label_columns = num_categories.where(num_categories >= threshold).dropna().index\n",
    "    le = LabelEncoder()\n",
    "    label_df = df[label_columns].apply(lambda col: le.fit_transform(col))\n",
    "    label_df = label_df.fillna(0).astype(np.int32)\n",
    "    if label_df.shape[0] != 0:\n",
    "        keep_label_df = pd.concat([keep_df, label_df], axis=1, sort=True)\n",
    "        del keep_df, label_df\n",
    "    else:\n",
    "        keep_label_df = keep_df\n",
    "        del keep_df\n",
    "        \n",
    "    # One hot encoding\n",
    "    one_hot_columns = num_categories.where(num_categories < threshold).dropna().index\n",
    "\n",
    "    one_hot_df = pd.get_dummies(df[one_hot_columns], dummy_na=nan_as_category)\n",
    "    one_hot_df.columns = [f\"{col}\" for col in one_hot_df.columns]\n",
    "    one_hot_df = one_hot_df.fillna(0).astype(np.int32)\n",
    "    if one_hot_df.shape[0] != 0:\n",
    "        df = pd.concat([keep_label_df, one_hot_df], axis=1, sort=True)\n",
    "        del keep_label_df\n",
    "    else:\n",
    "        df = keep_label_df\n",
    "        del keep_label_df\n",
    "        \n",
    "    train = df.iloc[:len(train.index)].reset_index().drop(columns=['index'])\n",
    "    test = df.iloc[len(train.index):].reset_index().drop(columns=['index'])\n",
    "    \n",
    "    return train, test, le"
   ]
  },
  {
   "cell_type": "code",
   "execution_count": 48,
   "metadata": {},
   "outputs": [],
   "source": [
    "def json_to_columns(train, test, json_columns):\n",
    "    \"\"\"\n",
    "    Splits out json columns\n",
    "    \"\"\"\n",
    "    # Union train and test to make sure all categories are represented\n",
    "    df = pd.concat([train, test], ignore_index=True)\n",
    "    \n",
    "    # Base to make the new datafram from\n",
    "    base_df = df[df.columns[~df.columns.isin(json_columns)]]\n",
    "\n",
    "    for column in json_columns:\n",
    "        json_df = pd.DataFrame(df[column].apply(json.loads).values.tolist())\n",
    "        json_df.columns = [f\"{column}_{new_column}\" for new_column in json_df.columns]\n",
    "        base_df = pd.concat([base_df, json_df], axis=1)\n",
    "        gc.collect()\n",
    "    \n",
    "    train = base_df.iloc[:len(train.index)].reset_index().drop(columns=['index'])\n",
    "    test = base_df.iloc[len(train.index):].reset_index().drop(columns=['index'])\n",
    "    \n",
    "    return train, test"
   ]
  },
  {
   "cell_type": "code",
   "execution_count": 49,
   "metadata": {},
   "outputs": [],
   "source": [
    "def accuracy_grouping(accuracy):\n",
    "    if accuracy == 1:\n",
    "        return 3\n",
    "    elif accuracy == 0.5:\n",
    "        return 2\n",
    "    elif accuracy > 0:\n",
    "        return 1\n",
    "    elif accuracy == 0:\n",
    "        return 0"
   ]
  },
  {
   "cell_type": "markdown",
   "metadata": {},
   "source": [
    "### Imported Functions"
   ]
  },
  {
   "cell_type": "code",
   "execution_count": 50,
   "metadata": {},
   "outputs": [],
   "source": [
    "# Using Ben Hamners quadratic weighted Kappa https://github.com/benhamner/Metrics/blob/master/Python/ml_metrics/quadratic_weighted_kappa.py\n",
    "def confusion_matrix(rater_a, rater_b, min_rating=None, max_rating=None):\n",
    "    \"\"\"\n",
    "    Returns the confusion matrix between rater's ratings\n",
    "    \"\"\"\n",
    "    assert(len(rater_a) == len(rater_b))\n",
    "    if min_rating is None:\n",
    "        min_rating = min(rater_a + rater_b)\n",
    "    if max_rating is None:\n",
    "        max_rating = max(rater_a + rater_b)\n",
    "    num_ratings = int(max_rating - min_rating + 1)\n",
    "    conf_mat = [[0 for i in range(num_ratings)]\n",
    "                for j in range(num_ratings)]\n",
    "    for a, b in zip(rater_a, rater_b):\n",
    "        conf_mat[a - min_rating][b - min_rating] += 1\n",
    "    return conf_mat\n",
    "\n",
    "\n",
    "def histogram(ratings, min_rating=None, max_rating=None):\n",
    "    \"\"\"\n",
    "    Returns the counts of each type of rating that a rater made\n",
    "    \"\"\"\n",
    "    if min_rating is None:\n",
    "        min_rating = min(ratings)\n",
    "    if max_rating is None:\n",
    "        max_rating = max(ratings)\n",
    "    num_ratings = int(max_rating - min_rating + 1)\n",
    "    hist_ratings = [0 for x in range(num_ratings)]\n",
    "    for r in ratings:\n",
    "        hist_ratings[r - min_rating] += 1\n",
    "    return hist_ratings\n",
    "\n",
    "\n",
    "def quadratic_weighted_kappa(rater_a, rater_b, min_rating=None, max_rating=None):\n",
    "    \"\"\"\n",
    "    Calculates the quadratic weighted kappa\n",
    "    quadratic_weighted_kappa calculates the quadratic weighted kappa\n",
    "    value, which is a measure of inter-rater agreement between two raters\n",
    "    that provide discrete numeric ratings.  Potential values range from -1\n",
    "    (representing complete disagreement) to 1 (representing complete\n",
    "    agreement).  A kappa value of 0 is expected if all agreement is due to\n",
    "    chance.\n",
    "    quadratic_weighted_kappa(rater_a, rater_b), where rater_a and rater_b\n",
    "    each correspond to a list of integer ratings.  These lists must have the\n",
    "    same length.\n",
    "    The ratings should be integers, and it is assumed that they contain\n",
    "    the complete range of possible ratings.\n",
    "    quadratic_weighted_kappa(X, min_rating, max_rating), where min_rating\n",
    "    is the minimum possible rating, and max_rating is the maximum possible\n",
    "    rating\n",
    "    \"\"\"\n",
    "    rater_a = np.array(rater_a, dtype=int)\n",
    "    rater_b = np.array(rater_b, dtype=int)\n",
    "    assert(len(rater_a) == len(rater_b))\n",
    "    if min_rating is None:\n",
    "        min_rating = min(min(rater_a), min(rater_b))\n",
    "    if max_rating is None:\n",
    "        max_rating = max(max(rater_a), max(rater_b))\n",
    "    conf_mat = confusion_matrix(rater_a, rater_b,\n",
    "                                min_rating, max_rating)\n",
    "    num_ratings = len(conf_mat)\n",
    "    num_scored_items = float(len(rater_a))\n",
    "\n",
    "    hist_rater_a = histogram(rater_a, min_rating, max_rating)\n",
    "    hist_rater_b = histogram(rater_b, min_rating, max_rating)\n",
    "\n",
    "    numerator = 0.0\n",
    "    denominator = 0.0\n",
    "\n",
    "    for i in range(num_ratings):\n",
    "        for j in range(num_ratings):\n",
    "            expected_count = (hist_rater_a[i] * hist_rater_b[j]\n",
    "                              / num_scored_items)\n",
    "            d = pow(i - j, 2.0) / pow(num_ratings - 1, 2.0)\n",
    "            numerator += d * conf_mat[i][j] / num_scored_items\n",
    "            denominator += d * expected_count / num_scored_items\n",
    "\n",
    "    return 1.0 - numerator / denominator"
   ]
  },
  {
   "cell_type": "markdown",
   "metadata": {},
   "source": [
    "### Importing Data"
   ]
  },
  {
   "cell_type": "markdown",
   "metadata": {},
   "source": [
    "Can be commented out after the first run"
   ]
  },
  {
   "cell_type": "code",
   "execution_count": 7,
   "metadata": {},
   "outputs": [
    {
     "name": "stdout",
     "output_type": "stream",
     "text": [
      "(17690, 7)\n",
      "(444, 7)\n"
     ]
    }
   ],
   "source": [
    "y_train = pd.read_csv(\"../data/train_labels.csv\")\n",
    "# Saving full training set as feather\n",
    "y_train.to_feather(\"../data/y_train.feather\")\n",
    "print(y_train.shape)\n",
    "# Creating sample for debuging\n",
    "sample = pd.Series(y_train['installation_id'].unique()).sample(config['debug_train_size'], random_state=config['random_seed'])\n",
    "y_train_sample = y_train.where(y_train['installation_id'].isin(sample)).dropna()\n",
    "y_train_sample.reset_index().drop(columns = ['index']).to_feather(\"../data/y_train_sample.feather\")\n",
    "print(y_train_sample.shape)"
   ]
  },
  {
   "cell_type": "code",
   "execution_count": 8,
   "metadata": {},
   "outputs": [
    {
     "name": "stdout",
     "output_type": "stream",
     "text": [
      "(7734558, 11)\n",
      "(201195, 11)\n"
     ]
    }
   ],
   "source": [
    "X_train = pd.read_csv(\"../data/train.csv\")\n",
    "# Droping ids that never had an assessment\n",
    "assessed = y_train['installation_id']\n",
    "X_train = X_train.where(X_train['installation_id'].isin(assessed)).dropna()\n",
    "# Saving full training set as feather\n",
    "X_train.reset_index().drop(columns = ['index']).to_feather(\"../data/X_train.feather\")\n",
    "print(X_train.shape)\n",
    "# Creating sample for config['debug']ing\n",
    "X_train_sample = X_train.where(X_train['installation_id'].isin(sample)).dropna()\n",
    "X_train_sample.reset_index().drop(columns = ['index']).to_feather(\"../data/X_train_sample.feather\")\n",
    "print(X_train_sample.shape)"
   ]
  },
  {
   "cell_type": "code",
   "execution_count": 9,
   "metadata": {},
   "outputs": [
    {
     "name": "stdout",
     "output_type": "stream",
     "text": [
      "(1156414, 11)\n",
      "(81884, 11)\n"
     ]
    }
   ],
   "source": [
    "X_test = pd.read_csv(\"../data/test.csv\")\n",
    "# Saving full training set as feather\n",
    "X_test.to_feather(\"../data/X_test.feather\")\n",
    "print(X_test.shape)\n",
    "# Creating test sample for config['debug']ing\n",
    "test_sample = pd.Series(X_test['installation_id'].unique()).sample(config['debug_test_size'], random_state=config['random_seed'])\n",
    "X_test_sample = X_test.where(X_test['installation_id'].isin(test_sample)).dropna()\n",
    "X_test_sample.reset_index().drop(columns = ['index']).to_feather(\"../data/X_test_sample.feather\")\n",
    "print(X_test_sample.shape)"
   ]
  },
  {
   "cell_type": "code",
   "execution_count": 51,
   "metadata": {},
   "outputs": [],
   "source": [
    "# Loading training set from feather\n",
    "if config['debug']:\n",
    "    X_train = pd.read_feather(\"../data/X_train_sample.feather\")\n",
    "else:\n",
    "    X_train = pd.read_feather(\"../data/X_train.feather\")"
   ]
  },
  {
   "cell_type": "code",
   "execution_count": 52,
   "metadata": {},
   "outputs": [],
   "source": [
    "# Loading target set from feather\n",
    "if config['debug']:\n",
    "    y_train = pd.read_feather(\"../data/y_train_sample.feather\")\n",
    "else:\n",
    "    y_train = pd.read_feather(\"../data/y_train.feather\")"
   ]
  },
  {
   "cell_type": "code",
   "execution_count": 53,
   "metadata": {},
   "outputs": [],
   "source": [
    "# Loading testing set from feather\n",
    "if config['debug']:\n",
    "    X_test = pd.read_feather(\"../data/X_test_sample.feather\")\n",
    "else:\n",
    "    X_test = pd.read_feather(\"../data/X_test.feather\")"
   ]
  },
  {
   "cell_type": "markdown",
   "metadata": {},
   "source": [
    "## Feature Engineering"
   ]
  },
  {
   "cell_type": "markdown",
   "metadata": {},
   "source": [
    "##### Creating features"
   ]
  },
  {
   "cell_type": "code",
   "execution_count": 54,
   "metadata": {},
   "outputs": [],
   "source": [
    "X_train['datetime'] = [dt.replace(tzinfo=None) for dt in pd.to_datetime(X_train.timestamp)]\n",
    "X_test['datetime'] = [dt.replace(tzinfo=None) for dt in pd.to_datetime(X_test.timestamp)]"
   ]
  },
  {
   "cell_type": "code",
   "execution_count": 55,
   "metadata": {},
   "outputs": [],
   "source": [
    "# X_train['title.event_code'] = X_train[['title', 'event_code']].apply(lambda x: ''.join(str(x)), axis=1)\n",
    "# X_test['title.event_code'] = X_train[['title', 'event_code']].apply(lambda x: ''.join(str(x)), axis=1)"
   ]
  },
  {
   "cell_type": "code",
   "execution_count": 56,
   "metadata": {},
   "outputs": [],
   "source": [
    "X_train['assessed'] = (((X_train.type == 'Assessment') & (X_train.event_code == 4100)) \n",
    "                      | ((X_train.title == 'Bird Measurer (Assessment)') & (X_train.event_code == 4110)))\n",
    "X_test['assessed'] = (((X_test.type == 'Assessment') & (X_test.event_code == 4100)) \n",
    "                      | ((X_test.title == 'Bird Measurer (Assessment)') & (X_test.event_code == 4110)))"
   ]
  },
  {
   "cell_type": "markdown",
   "metadata": {},
   "source": [
    "##### Grouping into sessions"
   ]
  },
  {
   "cell_type": "code",
   "execution_count": 57,
   "metadata": {},
   "outputs": [],
   "source": [
    "# X_train, X_test = json_to_columns(X_train, X_test, ['event_data'])\n",
    "# X_test = X_test.drop(columns=['event_data_event_count', 'event_data_event_code', 'event_data_game_time'])"
   ]
  },
  {
   "cell_type": "code",
   "execution_count": 58,
   "metadata": {},
   "outputs": [],
   "source": [
    "X_train['correct'] = [json.loads(x)['correct'] if 'correct' in json.loads(x) else None for x in X_train['event_data']]\n",
    "X_test['correct'] = [json.loads(x)['correct'] if 'correct' in json.loads(x) else None for x in X_test['event_data']]"
   ]
  },
  {
   "cell_type": "code",
   "execution_count": 59,
   "metadata": {},
   "outputs": [],
   "source": [
    "# Features: Perform aggregations\n",
    "aggregations = {\n",
    "    'installation_id': ['first'],\n",
    "    'type': ['first'],\n",
    "    'title': ['first'],\n",
    "    'world': ['first'],\n",
    "    'event_count': ['max'],\n",
    "    'datetime': ['min'],\n",
    "    'game_time': ['max'],\n",
    "    'correct': ['sum', 'count'],\n",
    "    'assessed': ['any']\n",
    "}"
   ]
  },
  {
   "cell_type": "code",
   "execution_count": 60,
   "metadata": {},
   "outputs": [],
   "source": [
    "# Grouping up to a session level\n",
    "X_train_agg = X_train.groupby('game_session').agg(aggregations)\n",
    "X_train_agg.columns = pd.Index([e[0] + \"_\" + e[1].upper() for e in X_train_agg.columns.tolist()])\n",
    "X_test_agg = X_test.groupby('game_session').agg(aggregations)\n",
    "X_test_agg.columns = pd.Index([e[0] + \"_\" + e[1].upper() for e in X_test_agg.columns.tolist()])"
   ]
  },
  {
   "cell_type": "code",
   "execution_count": 189,
   "metadata": {},
   "outputs": [
    {
     "ename": "KeyError",
     "evalue": "'event_code'",
     "output_type": "error",
     "traceback": [
      "\u001b[1;31m---------------------------------------------------------------------------\u001b[0m",
      "\u001b[1;31mKeyError\u001b[0m                                  Traceback (most recent call last)",
      "\u001b[1;32m<ipython-input-189-4f7b9b148489>\u001b[0m in \u001b[0;36m<module>\u001b[1;34m\u001b[0m\n\u001b[0;32m      3\u001b[0m \u001b[1;33m\u001b[0m\u001b[0m\n\u001b[0;32m      4\u001b[0m \u001b[1;31m# Grouping up to a session level\u001b[0m\u001b[1;33m\u001b[0m\u001b[1;33m\u001b[0m\u001b[1;33m\u001b[0m\u001b[0m\n\u001b[1;32m----> 5\u001b[1;33m \u001b[0mdf_event_code\u001b[0m \u001b[1;33m=\u001b[0m \u001b[0mdf\u001b[0m\u001b[1;33m.\u001b[0m\u001b[0mgroupby\u001b[0m\u001b[1;33m(\u001b[0m\u001b[1;33m[\u001b[0m\u001b[1;34m'game_session'\u001b[0m\u001b[1;33m,\u001b[0m \u001b[1;34m'event_code'\u001b[0m\u001b[1;33m]\u001b[0m\u001b[1;33m)\u001b[0m\u001b[1;33m.\u001b[0m\u001b[0mcount\u001b[0m\u001b[1;33m(\u001b[0m\u001b[1;33m)\u001b[0m\u001b[1;33m[\u001b[0m\u001b[1;34m'event_id'\u001b[0m\u001b[1;33m]\u001b[0m\u001b[1;33m.\u001b[0m\u001b[0munstack\u001b[0m\u001b[1;33m(\u001b[0m\u001b[1;34m'event_code'\u001b[0m\u001b[1;33m)\u001b[0m\u001b[1;33m\u001b[0m\u001b[1;33m\u001b[0m\u001b[0m\n\u001b[0m\u001b[0;32m      6\u001b[0m \u001b[0mdf_event_id\u001b[0m \u001b[1;33m=\u001b[0m \u001b[0mdf\u001b[0m\u001b[1;33m.\u001b[0m\u001b[0mgroupby\u001b[0m\u001b[1;33m(\u001b[0m\u001b[1;33m[\u001b[0m\u001b[1;34m'game_session'\u001b[0m\u001b[1;33m,\u001b[0m \u001b[1;34m'event_id'\u001b[0m\u001b[1;33m]\u001b[0m\u001b[1;33m)\u001b[0m\u001b[1;33m.\u001b[0m\u001b[0mcount\u001b[0m\u001b[1;33m(\u001b[0m\u001b[1;33m)\u001b[0m\u001b[1;33m[\u001b[0m\u001b[1;34m'event_code'\u001b[0m\u001b[1;33m]\u001b[0m\u001b[1;33m.\u001b[0m\u001b[0munstack\u001b[0m\u001b[1;33m(\u001b[0m\u001b[1;34m'event_id'\u001b[0m\u001b[1;33m)\u001b[0m\u001b[1;33m\u001b[0m\u001b[1;33m\u001b[0m\u001b[0m\n\u001b[0;32m      7\u001b[0m \u001b[1;33m\u001b[0m\u001b[0m\n",
      "\u001b[1;32m~\\AppData\\Local\\Continuum\\anaconda3\\envs\\early-chieldhood-education\\lib\\site-packages\\pandas\\core\\generic.py\u001b[0m in \u001b[0;36mgroupby\u001b[1;34m(self, by, axis, level, as_index, sort, group_keys, squeeze, observed, **kwargs)\u001b[0m\n\u001b[0;32m   7892\u001b[0m             \u001b[0msqueeze\u001b[0m\u001b[1;33m=\u001b[0m\u001b[0msqueeze\u001b[0m\u001b[1;33m,\u001b[0m\u001b[1;33m\u001b[0m\u001b[1;33m\u001b[0m\u001b[0m\n\u001b[0;32m   7893\u001b[0m             \u001b[0mobserved\u001b[0m\u001b[1;33m=\u001b[0m\u001b[0mobserved\u001b[0m\u001b[1;33m,\u001b[0m\u001b[1;33m\u001b[0m\u001b[1;33m\u001b[0m\u001b[0m\n\u001b[1;32m-> 7894\u001b[1;33m             \u001b[1;33m**\u001b[0m\u001b[0mkwargs\u001b[0m\u001b[1;33m\u001b[0m\u001b[1;33m\u001b[0m\u001b[0m\n\u001b[0m\u001b[0;32m   7895\u001b[0m         )\n\u001b[0;32m   7896\u001b[0m \u001b[1;33m\u001b[0m\u001b[0m\n",
      "\u001b[1;32m~\\AppData\\Local\\Continuum\\anaconda3\\envs\\early-chieldhood-education\\lib\\site-packages\\pandas\\core\\groupby\\groupby.py\u001b[0m in \u001b[0;36mgroupby\u001b[1;34m(obj, by, **kwds)\u001b[0m\n\u001b[0;32m   2520\u001b[0m         \u001b[1;32mraise\u001b[0m \u001b[0mTypeError\u001b[0m\u001b[1;33m(\u001b[0m\u001b[1;34m\"invalid type: {}\"\u001b[0m\u001b[1;33m.\u001b[0m\u001b[0mformat\u001b[0m\u001b[1;33m(\u001b[0m\u001b[0mobj\u001b[0m\u001b[1;33m)\u001b[0m\u001b[1;33m)\u001b[0m\u001b[1;33m\u001b[0m\u001b[1;33m\u001b[0m\u001b[0m\n\u001b[0;32m   2521\u001b[0m \u001b[1;33m\u001b[0m\u001b[0m\n\u001b[1;32m-> 2522\u001b[1;33m     \u001b[1;32mreturn\u001b[0m \u001b[0mklass\u001b[0m\u001b[1;33m(\u001b[0m\u001b[0mobj\u001b[0m\u001b[1;33m,\u001b[0m \u001b[0mby\u001b[0m\u001b[1;33m,\u001b[0m \u001b[1;33m**\u001b[0m\u001b[0mkwds\u001b[0m\u001b[1;33m)\u001b[0m\u001b[1;33m\u001b[0m\u001b[1;33m\u001b[0m\u001b[0m\n\u001b[0m",
      "\u001b[1;32m~\\AppData\\Local\\Continuum\\anaconda3\\envs\\early-chieldhood-education\\lib\\site-packages\\pandas\\core\\groupby\\groupby.py\u001b[0m in \u001b[0;36m__init__\u001b[1;34m(self, obj, keys, axis, level, grouper, exclusions, selection, as_index, sort, group_keys, squeeze, observed, **kwargs)\u001b[0m\n\u001b[0;32m    389\u001b[0m                 \u001b[0msort\u001b[0m\u001b[1;33m=\u001b[0m\u001b[0msort\u001b[0m\u001b[1;33m,\u001b[0m\u001b[1;33m\u001b[0m\u001b[1;33m\u001b[0m\u001b[0m\n\u001b[0;32m    390\u001b[0m                 \u001b[0mobserved\u001b[0m\u001b[1;33m=\u001b[0m\u001b[0mobserved\u001b[0m\u001b[1;33m,\u001b[0m\u001b[1;33m\u001b[0m\u001b[1;33m\u001b[0m\u001b[0m\n\u001b[1;32m--> 391\u001b[1;33m                 \u001b[0mmutated\u001b[0m\u001b[1;33m=\u001b[0m\u001b[0mself\u001b[0m\u001b[1;33m.\u001b[0m\u001b[0mmutated\u001b[0m\u001b[1;33m,\u001b[0m\u001b[1;33m\u001b[0m\u001b[1;33m\u001b[0m\u001b[0m\n\u001b[0m\u001b[0;32m    392\u001b[0m             )\n\u001b[0;32m    393\u001b[0m \u001b[1;33m\u001b[0m\u001b[0m\n",
      "\u001b[1;32m~\\AppData\\Local\\Continuum\\anaconda3\\envs\\early-chieldhood-education\\lib\\site-packages\\pandas\\core\\groupby\\grouper.py\u001b[0m in \u001b[0;36m_get_grouper\u001b[1;34m(obj, key, axis, level, sort, observed, mutated, validate)\u001b[0m\n\u001b[0;32m    619\u001b[0m                 \u001b[0min_axis\u001b[0m\u001b[1;33m,\u001b[0m \u001b[0mname\u001b[0m\u001b[1;33m,\u001b[0m \u001b[0mlevel\u001b[0m\u001b[1;33m,\u001b[0m \u001b[0mgpr\u001b[0m \u001b[1;33m=\u001b[0m \u001b[1;32mFalse\u001b[0m\u001b[1;33m,\u001b[0m \u001b[1;32mNone\u001b[0m\u001b[1;33m,\u001b[0m \u001b[0mgpr\u001b[0m\u001b[1;33m,\u001b[0m \u001b[1;32mNone\u001b[0m\u001b[1;33m\u001b[0m\u001b[1;33m\u001b[0m\u001b[0m\n\u001b[0;32m    620\u001b[0m             \u001b[1;32melse\u001b[0m\u001b[1;33m:\u001b[0m\u001b[1;33m\u001b[0m\u001b[1;33m\u001b[0m\u001b[0m\n\u001b[1;32m--> 621\u001b[1;33m                 \u001b[1;32mraise\u001b[0m \u001b[0mKeyError\u001b[0m\u001b[1;33m(\u001b[0m\u001b[0mgpr\u001b[0m\u001b[1;33m)\u001b[0m\u001b[1;33m\u001b[0m\u001b[1;33m\u001b[0m\u001b[0m\n\u001b[0m\u001b[0;32m    622\u001b[0m         \u001b[1;32melif\u001b[0m \u001b[0misinstance\u001b[0m\u001b[1;33m(\u001b[0m\u001b[0mgpr\u001b[0m\u001b[1;33m,\u001b[0m \u001b[0mGrouper\u001b[0m\u001b[1;33m)\u001b[0m \u001b[1;32mand\u001b[0m \u001b[0mgpr\u001b[0m\u001b[1;33m.\u001b[0m\u001b[0mkey\u001b[0m \u001b[1;32mis\u001b[0m \u001b[1;32mnot\u001b[0m \u001b[1;32mNone\u001b[0m\u001b[1;33m:\u001b[0m\u001b[1;33m\u001b[0m\u001b[1;33m\u001b[0m\u001b[0m\n\u001b[0;32m    623\u001b[0m             \u001b[1;31m# Add key to exclusions\u001b[0m\u001b[1;33m\u001b[0m\u001b[1;33m\u001b[0m\u001b[1;33m\u001b[0m\u001b[0m\n",
      "\u001b[1;31mKeyError\u001b[0m: 'event_code'"
     ]
    }
   ],
   "source": [
    "# Union train and test to make sure all categories are represented\n",
    "df = pd.concat([X_train, X_test], ignore_index=True)\n",
    "\n",
    "# Grouping up to a session level\n",
    "df_event_code = df.groupby(['game_session', 'event_code']).count()['event_id'].unstack('event_code')\n",
    "df_event_id = df.groupby(['game_session', 'event_id']).count()['event_code'].unstack('event_id')\n",
    "\n",
    "# Pivoting out the event_code and event_id columns\n",
    "df_event_code.columns = [f\"event_code_{col}\" for col in df_event_code.columns]\n",
    "df_event_id.columns = [f\"event_id_{col}\" for col in df_event_id.columns]\n",
    "\n",
    "# df_event_code\n",
    "X_train_event_code = df_event_code.loc[X_train_agg.index]\n",
    "X_test_event_code = df_event_code.loc[X_test_agg.index]\n",
    "X_train_event_id = df_event_id.loc[X_train_agg.index]\n",
    "X_test_event_id = df_event_id.loc[X_test_agg.index]"
   ]
  },
  {
   "cell_type": "code",
   "execution_count": 212,
   "metadata": {},
   "outputs": [
    {
     "data": {
      "text/html": [
       "<div>\n",
       "<style scoped>\n",
       "    .dataframe tbody tr th:only-of-type {\n",
       "        vertical-align: middle;\n",
       "    }\n",
       "\n",
       "    .dataframe tbody tr th {\n",
       "        vertical-align: top;\n",
       "    }\n",
       "\n",
       "    .dataframe thead th {\n",
       "        text-align: right;\n",
       "    }\n",
       "</style>\n",
       "<table border=\"1\" class=\"dataframe\">\n",
       "  <thead>\n",
       "    <tr style=\"text-align: right;\">\n",
       "      <th></th>\n",
       "      <th>installation_id</th>\n",
       "      <th>session_start</th>\n",
       "      <th>game_session</th>\n",
       "      <th>event_code_3020.0</th>\n",
       "    </tr>\n",
       "  </thead>\n",
       "  <tbody>\n",
       "    <tr>\n",
       "      <td>1947</td>\n",
       "      <td>01582211</td>\n",
       "      <td>2019-09-01 21:12:38.242</td>\n",
       "      <td>6d37887a81d9ffd9</td>\n",
       "      <td>12.0</td>\n",
       "    </tr>\n",
       "    <tr>\n",
       "      <td>4392</td>\n",
       "      <td>01582211</td>\n",
       "      <td>2019-09-01 21:23:00.132</td>\n",
       "      <td>f4fc4707c4aa3d39</td>\n",
       "      <td>2.0</td>\n",
       "    </tr>\n",
       "    <tr>\n",
       "      <td>3283</td>\n",
       "      <td>01582211</td>\n",
       "      <td>2019-09-01 21:26:43.588</td>\n",
       "      <td>b9e4e0faa3d91e1f</td>\n",
       "      <td>1.0</td>\n",
       "    </tr>\n",
       "    <tr>\n",
       "      <td>1901</td>\n",
       "      <td>01582211</td>\n",
       "      <td>2019-09-01 21:27:30.888</td>\n",
       "      <td>6a63b5d0b8cef886</td>\n",
       "      <td>15.0</td>\n",
       "    </tr>\n",
       "    <tr>\n",
       "      <td>3790</td>\n",
       "      <td>01582211</td>\n",
       "      <td>2019-09-01 21:33:29.240</td>\n",
       "      <td>d55800404250d1da</td>\n",
       "      <td>2.0</td>\n",
       "    </tr>\n",
       "    <tr>\n",
       "      <td>4280</td>\n",
       "      <td>01582211</td>\n",
       "      <td>2019-09-01 21:43:39.990</td>\n",
       "      <td>ef94f97ffa892216</td>\n",
       "      <td>4.0</td>\n",
       "    </tr>\n",
       "    <tr>\n",
       "      <td>3234</td>\n",
       "      <td>01582211</td>\n",
       "      <td>2019-09-01 21:46:24.801</td>\n",
       "      <td>b7b65d11196ff3dd</td>\n",
       "      <td>5.0</td>\n",
       "    </tr>\n",
       "    <tr>\n",
       "      <td>212</td>\n",
       "      <td>01582211</td>\n",
       "      <td>2019-10-05 22:22:48.056</td>\n",
       "      <td>0b00f2628aa816e8</td>\n",
       "      <td>9.0</td>\n",
       "    </tr>\n",
       "    <tr>\n",
       "      <td>1080</td>\n",
       "      <td>01582211</td>\n",
       "      <td>2019-10-05 22:33:53.473</td>\n",
       "      <td>3a3145be4e64a612</td>\n",
       "      <td>1.0</td>\n",
       "    </tr>\n",
       "    <tr>\n",
       "      <td>509</td>\n",
       "      <td>01582211</td>\n",
       "      <td>2019-10-05 22:35:19.756</td>\n",
       "      <td>1a4a21560a55400c</td>\n",
       "      <td>1.0</td>\n",
       "    </tr>\n",
       "    <tr>\n",
       "      <td>2245</td>\n",
       "      <td>01582211</td>\n",
       "      <td>2019-10-06 13:09:36.082</td>\n",
       "      <td>7d520ba9213a5164</td>\n",
       "      <td>1.0</td>\n",
       "    </tr>\n",
       "    <tr>\n",
       "      <td>2573</td>\n",
       "      <td>01582211</td>\n",
       "      <td>2019-10-06 13:11:58.197</td>\n",
       "      <td>902c22638fceb254</td>\n",
       "      <td>2.0</td>\n",
       "    </tr>\n",
       "    <tr>\n",
       "      <td>54</td>\n",
       "      <td>01582211</td>\n",
       "      <td>2019-10-13 12:24:08.739</td>\n",
       "      <td>034214c6400eef95</td>\n",
       "      <td>1.0</td>\n",
       "    </tr>\n",
       "    <tr>\n",
       "      <td>2044</td>\n",
       "      <td>01582211</td>\n",
       "      <td>2019-10-13 12:28:37.186</td>\n",
       "      <td>72b6b43122c3dbc2</td>\n",
       "      <td>3.0</td>\n",
       "    </tr>\n",
       "    <tr>\n",
       "      <td>4498</td>\n",
       "      <td>01582211</td>\n",
       "      <td>2019-10-13 12:30:15.196</td>\n",
       "      <td>fafd5efff3b60845</td>\n",
       "      <td>1.0</td>\n",
       "    </tr>\n",
       "  </tbody>\n",
       "</table>\n",
       "</div>"
      ],
      "text/plain": [
       "     installation_id           session_start      game_session  \\\n",
       "1947        01582211 2019-09-01 21:12:38.242  6d37887a81d9ffd9   \n",
       "4392        01582211 2019-09-01 21:23:00.132  f4fc4707c4aa3d39   \n",
       "3283        01582211 2019-09-01 21:26:43.588  b9e4e0faa3d91e1f   \n",
       "1901        01582211 2019-09-01 21:27:30.888  6a63b5d0b8cef886   \n",
       "3790        01582211 2019-09-01 21:33:29.240  d55800404250d1da   \n",
       "4280        01582211 2019-09-01 21:43:39.990  ef94f97ffa892216   \n",
       "3234        01582211 2019-09-01 21:46:24.801  b7b65d11196ff3dd   \n",
       "212         01582211 2019-10-05 22:22:48.056  0b00f2628aa816e8   \n",
       "1080        01582211 2019-10-05 22:33:53.473  3a3145be4e64a612   \n",
       "509         01582211 2019-10-05 22:35:19.756  1a4a21560a55400c   \n",
       "2245        01582211 2019-10-06 13:09:36.082  7d520ba9213a5164   \n",
       "2573        01582211 2019-10-06 13:11:58.197  902c22638fceb254   \n",
       "54          01582211 2019-10-13 12:24:08.739  034214c6400eef95   \n",
       "2044        01582211 2019-10-13 12:28:37.186  72b6b43122c3dbc2   \n",
       "4498        01582211 2019-10-13 12:30:15.196  fafd5efff3b60845   \n",
       "\n",
       "      event_code_3020.0  \n",
       "1947               12.0  \n",
       "4392                2.0  \n",
       "3283                1.0  \n",
       "1901               15.0  \n",
       "3790                2.0  \n",
       "4280                4.0  \n",
       "3234                5.0  \n",
       "212                 9.0  \n",
       "1080                1.0  \n",
       "509                 1.0  \n",
       "2245                1.0  \n",
       "2573                2.0  \n",
       "54                  1.0  \n",
       "2044                3.0  \n",
       "4498                1.0  "
      ]
     },
     "execution_count": 212,
     "metadata": {},
     "output_type": "execute_result"
    }
   ],
   "source": [
    "X_train[['installation_id', 'session_start', 'game_session', 'event_code_3020.0']].sort_values(['session_start']).where(X_train['installation_id'] == '01582211').dropna()"
   ]
  },
  {
   "cell_type": "code",
   "execution_count": 188,
   "metadata": {},
   "outputs": [
    {
     "data": {
      "text/html": [
       "<div>\n",
       "<style scoped>\n",
       "    .dataframe tbody tr th:only-of-type {\n",
       "        vertical-align: middle;\n",
       "    }\n",
       "\n",
       "    .dataframe tbody tr th {\n",
       "        vertical-align: top;\n",
       "    }\n",
       "\n",
       "    .dataframe thead th {\n",
       "        text-align: right;\n",
       "    }\n",
       "</style>\n",
       "<table border=\"1\" class=\"dataframe\">\n",
       "  <thead>\n",
       "    <tr style=\"text-align: right;\">\n",
       "      <th></th>\n",
       "      <th>installation_id</th>\n",
       "      <th>game_session</th>\n",
       "      <th>cumulative_event_code_3020.0</th>\n",
       "    </tr>\n",
       "  </thead>\n",
       "  <tbody>\n",
       "    <tr>\n",
       "      <td>4024</td>\n",
       "      <td>01582211</td>\n",
       "      <td>902c22638fceb254</td>\n",
       "      <td>53.0</td>\n",
       "    </tr>\n",
       "    <tr>\n",
       "      <td>1906</td>\n",
       "      <td>01582211</td>\n",
       "      <td>b9e4e0faa3d91e1f</td>\n",
       "      <td>14.0</td>\n",
       "    </tr>\n",
       "    <tr>\n",
       "      <td>1912</td>\n",
       "      <td>01582211</td>\n",
       "      <td>ef94f97ffa892216</td>\n",
       "      <td>32.0</td>\n",
       "    </tr>\n",
       "  </tbody>\n",
       "</table>\n",
       "</div>"
      ],
      "text/plain": [
       "     installation_id      game_session  cumulative_event_code_3020.0\n",
       "4024        01582211  902c22638fceb254                          53.0\n",
       "1906        01582211  b9e4e0faa3d91e1f                          14.0\n",
       "1912        01582211  ef94f97ffa892216                          32.0"
      ]
     },
     "execution_count": 188,
     "metadata": {},
     "output_type": "execute_result"
    }
   ],
   "source": [
    "X_train[['installation_id', 'session_start', 'game_session', 'cumulative_event_code_3020.0']].sort_values(['installation_id', 'game_session']).where(X_train['installation_id'] == '01582211').dropna()"
   ]
  },
  {
   "cell_type": "code",
   "execution_count": 206,
   "metadata": {},
   "outputs": [],
   "source": [
    "X_train = pd.concat([X_train_agg, X_train_event_code, X_train_event_id], axis=1).reset_index()\n",
    "X_test = pd.concat([X_test_agg, X_test_event_code, X_test_event_id], axis=1).reset_index()"
   ]
  },
  {
   "cell_type": "code",
   "execution_count": 207,
   "metadata": {},
   "outputs": [],
   "source": [
    "# For now just pulling out basic information\n",
    "def session_information(df):\n",
    "    rename = {\n",
    "        'installation_id_FIRST': 'installation_id',\n",
    "        'type_FIRST': 'type', \n",
    "        'title_FIRST': 'title', \n",
    "        'world_FIRST': 'world',\n",
    "        'assessed_ANY': 'assessed',\n",
    "        'datetime_MIN': 'session_start',\n",
    "        'game_time_MAX': 'session_length',\n",
    "        'correct_SUM': 'num_correct',\n",
    "        'event_count_MAX': 'session_event_count'\n",
    "    }\n",
    "    df.rename(columns=rename, inplace=True)\n",
    "    df['session_type'] = df.type\n",
    "    df['session_title'] = df.title\n",
    "    df['session_world'] = df.world\n",
    "    # Temporal features\n",
    "    df['session_avg_event_time'] = df.session_length / df.session_event_count\n",
    "    df['session_hour'] = df.session_start.dt.hour.astype(str)\n",
    "    df['session_day'] = df.session_start.dt.dayofyear\n",
    "    df['session_weekday'] = df.session_start.dt.weekday.astype(str)\n",
    "    # Assessed sessions\n",
    "    df['num_incorrect'] = df.correct_COUNT - df.num_correct\n",
    "    df['accuracy'] = df.num_correct / (df.num_correct + df.num_incorrect)\n",
    "    df['accuracy_group'] = df.accuracy.apply(lambda x: accuracy_grouping(x)).astype(float)\n",
    "    \n",
    "    return df"
   ]
  },
  {
   "cell_type": "code",
   "execution_count": 208,
   "metadata": {},
   "outputs": [],
   "source": [
    "# Grouping up to a session level\n",
    "X_train = session_information(X_train)\n",
    "X_test = session_information(X_test)"
   ]
  },
  {
   "cell_type": "code",
   "execution_count": 209,
   "metadata": {},
   "outputs": [],
   "source": [
    "X_train.sort_values(['game_session', 'session_start'], inplace=True)\n",
    "X_test.sort_values(['session_start', 'game_session'], inplace=True)"
   ]
  },
  {
   "cell_type": "code",
   "execution_count": 210,
   "metadata": {},
   "outputs": [],
   "source": [
    "X_train = X_train.reset_index().drop(columns='index')\n",
    "X_test = X_test.reset_index().drop(columns='index')"
   ]
  },
  {
   "cell_type": "code",
   "execution_count": 213,
   "metadata": {},
   "outputs": [],
   "source": [
    "X_train, X_test, _ = ml_encoder(X_train, X_test, encode_columns=['type', 'title', 'world'], nan_as_category=False)"
   ]
  },
  {
   "cell_type": "code",
   "execution_count": 214,
   "metadata": {},
   "outputs": [
    {
     "data": {
      "text/html": [
       "<div>\n",
       "<style scoped>\n",
       "    .dataframe tbody tr th:only-of-type {\n",
       "        vertical-align: middle;\n",
       "    }\n",
       "\n",
       "    .dataframe tbody tr th {\n",
       "        vertical-align: top;\n",
       "    }\n",
       "\n",
       "    .dataframe thead th {\n",
       "        text-align: right;\n",
       "    }\n",
       "</style>\n",
       "<table border=\"1\" class=\"dataframe\">\n",
       "  <thead>\n",
       "    <tr style=\"text-align: right;\">\n",
       "      <th></th>\n",
       "      <th>game_session</th>\n",
       "      <th>installation_id</th>\n",
       "      <th>session_event_count</th>\n",
       "      <th>session_start</th>\n",
       "      <th>session_length</th>\n",
       "      <th>num_correct</th>\n",
       "      <th>correct_COUNT</th>\n",
       "      <th>assessed</th>\n",
       "      <th>event_code_2000.0</th>\n",
       "      <th>event_code_2010.0</th>\n",
       "      <th>...</th>\n",
       "      <th>title_Treasure Map</th>\n",
       "      <th>title_Tree Top City - Level 1</th>\n",
       "      <th>title_Tree Top City - Level 2</th>\n",
       "      <th>title_Tree Top City - Level 3</th>\n",
       "      <th>title_Watering Hole (Activity)</th>\n",
       "      <th>title_Welcome to Lost Lagoon!</th>\n",
       "      <th>world_CRYSTALCAVES</th>\n",
       "      <th>world_MAGMAPEAK</th>\n",
       "      <th>world_NONE</th>\n",
       "      <th>world_TREETOPCITY</th>\n",
       "    </tr>\n",
       "  </thead>\n",
       "  <tbody>\n",
       "    <tr>\n",
       "      <td>0</td>\n",
       "      <td>00011d7f4b48ed4b</td>\n",
       "      <td>30fa1043</td>\n",
       "      <td>1.0</td>\n",
       "      <td>2019-09-27 01:11:01.187</td>\n",
       "      <td>0.0</td>\n",
       "      <td>0</td>\n",
       "      <td>0</td>\n",
       "      <td>False</td>\n",
       "      <td>1.0</td>\n",
       "      <td>NaN</td>\n",
       "      <td>...</td>\n",
       "      <td>0</td>\n",
       "      <td>0</td>\n",
       "      <td>0</td>\n",
       "      <td>0</td>\n",
       "      <td>0</td>\n",
       "      <td>0</td>\n",
       "      <td>1</td>\n",
       "      <td>0</td>\n",
       "      <td>0</td>\n",
       "      <td>0</td>\n",
       "    </tr>\n",
       "    <tr>\n",
       "      <td>1</td>\n",
       "      <td>001616ba7c324589</td>\n",
       "      <td>07ae5a97</td>\n",
       "      <td>1.0</td>\n",
       "      <td>2019-07-24 20:54:51.559</td>\n",
       "      <td>0.0</td>\n",
       "      <td>0</td>\n",
       "      <td>0</td>\n",
       "      <td>False</td>\n",
       "      <td>1.0</td>\n",
       "      <td>NaN</td>\n",
       "      <td>...</td>\n",
       "      <td>0</td>\n",
       "      <td>0</td>\n",
       "      <td>0</td>\n",
       "      <td>0</td>\n",
       "      <td>0</td>\n",
       "      <td>0</td>\n",
       "      <td>0</td>\n",
       "      <td>1</td>\n",
       "      <td>0</td>\n",
       "      <td>0</td>\n",
       "    </tr>\n",
       "    <tr>\n",
       "      <td>2</td>\n",
       "      <td>0024f4f7ba038877</td>\n",
       "      <td>9e6dbb51</td>\n",
       "      <td>1.0</td>\n",
       "      <td>2019-09-08 15:01:26.497</td>\n",
       "      <td>0.0</td>\n",
       "      <td>0</td>\n",
       "      <td>0</td>\n",
       "      <td>False</td>\n",
       "      <td>1.0</td>\n",
       "      <td>NaN</td>\n",
       "      <td>...</td>\n",
       "      <td>0</td>\n",
       "      <td>0</td>\n",
       "      <td>0</td>\n",
       "      <td>0</td>\n",
       "      <td>0</td>\n",
       "      <td>0</td>\n",
       "      <td>1</td>\n",
       "      <td>0</td>\n",
       "      <td>0</td>\n",
       "      <td>0</td>\n",
       "    </tr>\n",
       "    <tr>\n",
       "      <td>3</td>\n",
       "      <td>0028e781e25a8c96</td>\n",
       "      <td>8933abc7</td>\n",
       "      <td>1.0</td>\n",
       "      <td>2019-08-31 17:52:54.005</td>\n",
       "      <td>0.0</td>\n",
       "      <td>0</td>\n",
       "      <td>0</td>\n",
       "      <td>False</td>\n",
       "      <td>1.0</td>\n",
       "      <td>NaN</td>\n",
       "      <td>...</td>\n",
       "      <td>0</td>\n",
       "      <td>0</td>\n",
       "      <td>0</td>\n",
       "      <td>1</td>\n",
       "      <td>0</td>\n",
       "      <td>0</td>\n",
       "      <td>0</td>\n",
       "      <td>0</td>\n",
       "      <td>0</td>\n",
       "      <td>1</td>\n",
       "    </tr>\n",
       "    <tr>\n",
       "      <td>4</td>\n",
       "      <td>002fd38d7b80f434</td>\n",
       "      <td>0be831c0</td>\n",
       "      <td>41.0</td>\n",
       "      <td>2019-08-20 23:59:34.282</td>\n",
       "      <td>60300.0</td>\n",
       "      <td>1</td>\n",
       "      <td>4</td>\n",
       "      <td>False</td>\n",
       "      <td>1.0</td>\n",
       "      <td>NaN</td>\n",
       "      <td>...</td>\n",
       "      <td>0</td>\n",
       "      <td>0</td>\n",
       "      <td>0</td>\n",
       "      <td>0</td>\n",
       "      <td>0</td>\n",
       "      <td>0</td>\n",
       "      <td>1</td>\n",
       "      <td>0</td>\n",
       "      <td>0</td>\n",
       "      <td>0</td>\n",
       "    </tr>\n",
       "    <tr>\n",
       "      <td>...</td>\n",
       "      <td>...</td>\n",
       "      <td>...</td>\n",
       "      <td>...</td>\n",
       "      <td>...</td>\n",
       "      <td>...</td>\n",
       "      <td>...</td>\n",
       "      <td>...</td>\n",
       "      <td>...</td>\n",
       "      <td>...</td>\n",
       "      <td>...</td>\n",
       "      <td>...</td>\n",
       "      <td>...</td>\n",
       "      <td>...</td>\n",
       "      <td>...</td>\n",
       "      <td>...</td>\n",
       "      <td>...</td>\n",
       "      <td>...</td>\n",
       "      <td>...</td>\n",
       "      <td>...</td>\n",
       "      <td>...</td>\n",
       "      <td>...</td>\n",
       "    </tr>\n",
       "    <tr>\n",
       "      <td>4584</td>\n",
       "      <td>fff2b049833cccda</td>\n",
       "      <td>0be831c0</td>\n",
       "      <td>1.0</td>\n",
       "      <td>2019-08-19 00:25:41.884</td>\n",
       "      <td>0.0</td>\n",
       "      <td>0</td>\n",
       "      <td>0</td>\n",
       "      <td>False</td>\n",
       "      <td>1.0</td>\n",
       "      <td>NaN</td>\n",
       "      <td>...</td>\n",
       "      <td>0</td>\n",
       "      <td>0</td>\n",
       "      <td>0</td>\n",
       "      <td>0</td>\n",
       "      <td>0</td>\n",
       "      <td>0</td>\n",
       "      <td>0</td>\n",
       "      <td>0</td>\n",
       "      <td>0</td>\n",
       "      <td>1</td>\n",
       "    </tr>\n",
       "    <tr>\n",
       "      <td>4585</td>\n",
       "      <td>fff441b089d7b1ef</td>\n",
       "      <td>54d91d26</td>\n",
       "      <td>26.0</td>\n",
       "      <td>2019-08-04 15:48:18.072</td>\n",
       "      <td>25525.0</td>\n",
       "      <td>5</td>\n",
       "      <td>5</td>\n",
       "      <td>True</td>\n",
       "      <td>1.0</td>\n",
       "      <td>1.0</td>\n",
       "      <td>...</td>\n",
       "      <td>0</td>\n",
       "      <td>0</td>\n",
       "      <td>0</td>\n",
       "      <td>0</td>\n",
       "      <td>0</td>\n",
       "      <td>0</td>\n",
       "      <td>0</td>\n",
       "      <td>1</td>\n",
       "      <td>0</td>\n",
       "      <td>0</td>\n",
       "    </tr>\n",
       "    <tr>\n",
       "      <td>4586</td>\n",
       "      <td>fff50985f4c079c0</td>\n",
       "      <td>07ae5a97</td>\n",
       "      <td>43.0</td>\n",
       "      <td>2019-08-18 04:52:49.924</td>\n",
       "      <td>88158.0</td>\n",
       "      <td>0</td>\n",
       "      <td>1</td>\n",
       "      <td>False</td>\n",
       "      <td>1.0</td>\n",
       "      <td>NaN</td>\n",
       "      <td>...</td>\n",
       "      <td>0</td>\n",
       "      <td>0</td>\n",
       "      <td>0</td>\n",
       "      <td>0</td>\n",
       "      <td>0</td>\n",
       "      <td>0</td>\n",
       "      <td>0</td>\n",
       "      <td>1</td>\n",
       "      <td>0</td>\n",
       "      <td>0</td>\n",
       "    </tr>\n",
       "    <tr>\n",
       "      <td>4587</td>\n",
       "      <td>fff95bd3b877555d</td>\n",
       "      <td>35e704e6</td>\n",
       "      <td>349.0</td>\n",
       "      <td>2019-10-14 08:46:49.638</td>\n",
       "      <td>562125.0</td>\n",
       "      <td>49</td>\n",
       "      <td>103</td>\n",
       "      <td>False</td>\n",
       "      <td>1.0</td>\n",
       "      <td>NaN</td>\n",
       "      <td>...</td>\n",
       "      <td>0</td>\n",
       "      <td>0</td>\n",
       "      <td>0</td>\n",
       "      <td>0</td>\n",
       "      <td>0</td>\n",
       "      <td>0</td>\n",
       "      <td>1</td>\n",
       "      <td>0</td>\n",
       "      <td>0</td>\n",
       "      <td>0</td>\n",
       "    </tr>\n",
       "    <tr>\n",
       "      <td>4588</td>\n",
       "      <td>fffc54cfd9f4d7b2</td>\n",
       "      <td>678a1381</td>\n",
       "      <td>58.0</td>\n",
       "      <td>2019-10-10 18:00:16.832</td>\n",
       "      <td>158036.0</td>\n",
       "      <td>0</td>\n",
       "      <td>0</td>\n",
       "      <td>False</td>\n",
       "      <td>1.0</td>\n",
       "      <td>NaN</td>\n",
       "      <td>...</td>\n",
       "      <td>0</td>\n",
       "      <td>0</td>\n",
       "      <td>0</td>\n",
       "      <td>0</td>\n",
       "      <td>0</td>\n",
       "      <td>0</td>\n",
       "      <td>1</td>\n",
       "      <td>0</td>\n",
       "      <td>0</td>\n",
       "      <td>0</td>\n",
       "    </tr>\n",
       "  </tbody>\n",
       "</table>\n",
       "<p>4589 rows × 474 columns</p>\n",
       "</div>"
      ],
      "text/plain": [
       "          game_session installation_id  session_event_count  \\\n",
       "0     00011d7f4b48ed4b        30fa1043                  1.0   \n",
       "1     001616ba7c324589        07ae5a97                  1.0   \n",
       "2     0024f4f7ba038877        9e6dbb51                  1.0   \n",
       "3     0028e781e25a8c96        8933abc7                  1.0   \n",
       "4     002fd38d7b80f434        0be831c0                 41.0   \n",
       "...                ...             ...                  ...   \n",
       "4584  fff2b049833cccda        0be831c0                  1.0   \n",
       "4585  fff441b089d7b1ef        54d91d26                 26.0   \n",
       "4586  fff50985f4c079c0        07ae5a97                 43.0   \n",
       "4587  fff95bd3b877555d        35e704e6                349.0   \n",
       "4588  fffc54cfd9f4d7b2        678a1381                 58.0   \n",
       "\n",
       "               session_start  session_length  num_correct  correct_COUNT  \\\n",
       "0    2019-09-27 01:11:01.187             0.0            0              0   \n",
       "1    2019-07-24 20:54:51.559             0.0            0              0   \n",
       "2    2019-09-08 15:01:26.497             0.0            0              0   \n",
       "3    2019-08-31 17:52:54.005             0.0            0              0   \n",
       "4    2019-08-20 23:59:34.282         60300.0            1              4   \n",
       "...                      ...             ...          ...            ...   \n",
       "4584 2019-08-19 00:25:41.884             0.0            0              0   \n",
       "4585 2019-08-04 15:48:18.072         25525.0            5              5   \n",
       "4586 2019-08-18 04:52:49.924         88158.0            0              1   \n",
       "4587 2019-10-14 08:46:49.638        562125.0           49            103   \n",
       "4588 2019-10-10 18:00:16.832        158036.0            0              0   \n",
       "\n",
       "      assessed  event_code_2000.0  event_code_2010.0  ...  title_Treasure Map  \\\n",
       "0        False                1.0                NaN  ...                   0   \n",
       "1        False                1.0                NaN  ...                   0   \n",
       "2        False                1.0                NaN  ...                   0   \n",
       "3        False                1.0                NaN  ...                   0   \n",
       "4        False                1.0                NaN  ...                   0   \n",
       "...        ...                ...                ...  ...                 ...   \n",
       "4584     False                1.0                NaN  ...                   0   \n",
       "4585      True                1.0                1.0  ...                   0   \n",
       "4586     False                1.0                NaN  ...                   0   \n",
       "4587     False                1.0                NaN  ...                   0   \n",
       "4588     False                1.0                NaN  ...                   0   \n",
       "\n",
       "      title_Tree Top City - Level 1  title_Tree Top City - Level 2  \\\n",
       "0                                 0                              0   \n",
       "1                                 0                              0   \n",
       "2                                 0                              0   \n",
       "3                                 0                              0   \n",
       "4                                 0                              0   \n",
       "...                             ...                            ...   \n",
       "4584                              0                              0   \n",
       "4585                              0                              0   \n",
       "4586                              0                              0   \n",
       "4587                              0                              0   \n",
       "4588                              0                              0   \n",
       "\n",
       "      title_Tree Top City - Level 3  title_Watering Hole (Activity)  \\\n",
       "0                                 0                               0   \n",
       "1                                 0                               0   \n",
       "2                                 0                               0   \n",
       "3                                 1                               0   \n",
       "4                                 0                               0   \n",
       "...                             ...                             ...   \n",
       "4584                              0                               0   \n",
       "4585                              0                               0   \n",
       "4586                              0                               0   \n",
       "4587                              0                               0   \n",
       "4588                              0                               0   \n",
       "\n",
       "      title_Welcome to Lost Lagoon!  world_CRYSTALCAVES  world_MAGMAPEAK  \\\n",
       "0                                 0                   1                0   \n",
       "1                                 0                   0                1   \n",
       "2                                 0                   1                0   \n",
       "3                                 0                   0                0   \n",
       "4                                 0                   1                0   \n",
       "...                             ...                 ...              ...   \n",
       "4584                              0                   0                0   \n",
       "4585                              0                   0                1   \n",
       "4586                              0                   0                1   \n",
       "4587                              0                   1                0   \n",
       "4588                              0                   1                0   \n",
       "\n",
       "      world_NONE  world_TREETOPCITY  \n",
       "0              0                  0  \n",
       "1              0                  0  \n",
       "2              0                  0  \n",
       "3              0                  1  \n",
       "4              0                  0  \n",
       "...          ...                ...  \n",
       "4584           0                  1  \n",
       "4585           0                  0  \n",
       "4586           0                  0  \n",
       "4587           0                  0  \n",
       "4588           0                  0  \n",
       "\n",
       "[4589 rows x 474 columns]"
      ]
     },
     "execution_count": 214,
     "metadata": {},
     "output_type": "execute_result"
    }
   ],
   "source": [
    "X_train"
   ]
  },
  {
   "cell_type": "code",
   "execution_count": 215,
   "metadata": {},
   "outputs": [],
   "source": [
    "X_train.columns = [str(col) for col in X_train.columns]\n",
    "X_test.columns = [str(col) for col in X_train.columns]"
   ]
  },
  {
   "cell_type": "code",
   "execution_count": 216,
   "metadata": {},
   "outputs": [
    {
     "name": "stdout",
     "output_type": "stream",
     "text": [
      "Train shape: (4589, 474)\n",
      "Test shape: (1492, 474)\n"
     ]
    }
   ],
   "source": [
    "print(f\"Train shape: {X_train.shape}\")\n",
    "print(f\"Test shape: {X_test.shape}\")"
   ]
  },
  {
   "cell_type": "code",
   "execution_count": 198,
   "metadata": {},
   "outputs": [],
   "source": [
    "# Saving to feather for fast loading from checkpoint\n",
    "if config['debug']:\n",
    "    X_train.to_feather(\"../data/X_train_sessions_sample.feather\")\n",
    "    X_test.to_feather(\"../data/X_test_sessions_sample.feather\")\n",
    "else:\n",
    "    X_train.to_feather(\"../data/X_train_sessions.feather\")\n",
    "    X_test.to_feather(\"../data/X_test_sessions.feather\")"
   ]
  },
  {
   "cell_type": "code",
   "execution_count": 8,
   "metadata": {},
   "outputs": [
    {
     "data": {
      "text/plain": [
       "7"
      ]
     },
     "execution_count": 8,
     "metadata": {},
     "output_type": "execute_result"
    }
   ],
   "source": [
    "# Saving to feather for fast loading from checkpoint\n",
    "if config['debug']:\n",
    "    X_train = pd.read_feather(\"../data/X_train_sessions_sample.feather\")\n",
    "    X_test = pd.read_feather(\"../data/X_test_sessions_sample.feather\")\n",
    "else:\n",
    "    X_train = pd.read_feather(\"../data/X_train_sessions.feather\")\n",
    "    X_test = pd.read_feather(\"../data/X_test_sessions.feather\")\n",
    "gc.collect()"
   ]
  },
  {
   "cell_type": "markdown",
   "metadata": {},
   "source": [
    "##### Grouping into assessment events"
   ]
  },
  {
   "cell_type": "code",
   "execution_count": 217,
   "metadata": {},
   "outputs": [],
   "source": [
    "def get_rolling_amount(grp, freq):\n",
    "    return grp.rolling(freq, on='session_start').session_event_count.count()"
   ]
  },
  {
   "cell_type": "code",
   "execution_count": 218,
   "metadata": {},
   "outputs": [],
   "source": [
    "def installation_information(df, test_set=False):\n",
    "    # Columns to sum count over\n",
    "    cumulative_columns = [col for col in df.columns if ('event_code_' in col or\n",
    "                                                        'event_id_' in col or\n",
    "                                                        'title_' in col or\n",
    "                                                        'type_' in col or\n",
    "                                                        'world_' in col or\n",
    "                                                        col in ('session_event_count', 'session_length', 'num_correct', \n",
    "                                                                'num_incorrect', 'accuracy', 'accuracy_group', 'assessed'))]\n",
    "\n",
    "    cumulative_df = df[cumulative_columns + ['installation_id']].groupby('installation_id').cumsum()\n",
    "    cumulative_df.columns = [f\"cumulative_{col}\" for col in cumulative_df.columns]\n",
    "    \n",
    "    # Removing counts from the assessed session (they're truncated in the test set)\n",
    "    for col in cumulative_columns:\n",
    "        cumulative_df[f\"cumulative_{col}\"] = cumulative_df[f\"cumulative_{col}\"] - df[col]\n",
    "    \n",
    "    # Getting count of sessions\n",
    "    cumulative_df['num_sessions'] = df.groupby('installation_id').game_session.cumcount()\n",
    "        \n",
    "    # Ratios\n",
    "    cumulative_df['average_event_time'] = cumulative_df.cumulative_session_length / cumulative_df.num_sessions\n",
    "    cumulative_df['average_event_count'] = cumulative_df.cumulative_session_event_count / cumulative_df.num_sessions\n",
    "    cumulative_df['average_num_correct'] = cumulative_df.cumulative_num_correct / cumulative_df.cumulative_assessed\n",
    "    cumulative_df['average_accuracy'] = cumulative_df.cumulative_accuracy / cumulative_df.cumulative_assessed\n",
    "    cumulative_df['total_accuracy'] = cumulative_df.cumulative_num_correct / (cumulative_df.cumulative_num_correct + cumulative_df.cumulative_num_incorrect)\n",
    "    cumulative_df['average_accuracy_group'] = cumulative_df.cumulative_accuracy_group / cumulative_df.cumulative_assessed\n",
    "    \n",
    "    # Dabbling with temporal features\n",
    "    # Time since last session\n",
    "    cumulative_df['time_last_session'] = (df.groupby('installation_id').session_start.shift(1) - df.session_start).astype(np.int64)\n",
    "    # Number of sessions in past period\n",
    "    cumulative_df['num_sessions_past_month'] = df.groupby('installation_id', as_index=False, group_keys=False).apply(get_rolling_amount, '30D')\n",
    "    cumulative_df['num_sessions_past_week'] = df.groupby('installation_id', as_index=False, group_keys=False).apply(get_rolling_amount, '7D')\n",
    "    cumulative_df['num_sessionspast_day'] = df.groupby('installation_id', as_index=False, group_keys=False).apply(get_rolling_amount, '1D')\n",
    "    cumulative_df['num_sessionspast_hour'] = df.groupby('installation_id', as_index=False, group_keys=False).apply(get_rolling_amount, '1H')\n",
    "    \n",
    "    drop_columns = [col for col in df.columns if ('event_code_' in col or 'event_id_' in col)]\n",
    "    df = df.drop(columns = drop_columns)\n",
    "    \n",
    "    # Build the aggregated dataframe\n",
    "    df = pd.concat([df, cumulative_df], axis=1, sort=True)\n",
    "    \n",
    "    if test_set:\n",
    "        df = df.loc[df.groupby('installation_id').session_start.idxmax()]\n",
    "    else:\n",
    "        df = df[df.assessed]\n",
    "    \n",
    "    return df"
   ]
  },
  {
   "cell_type": "code",
   "execution_count": 219,
   "metadata": {},
   "outputs": [
    {
     "ename": "ValueError",
     "evalue": "session_start must be monotonic",
     "output_type": "error",
     "traceback": [
      "\u001b[1;31m---------------------------------------------------------------------------\u001b[0m",
      "\u001b[1;31mValueError\u001b[0m                                Traceback (most recent call last)",
      "\u001b[1;32m~\\AppData\\Local\\Continuum\\anaconda3\\envs\\early-chieldhood-education\\lib\\site-packages\\pandas\\core\\groupby\\groupby.py\u001b[0m in \u001b[0;36mapply\u001b[1;34m(self, func, *args, **kwargs)\u001b[0m\n\u001b[0;32m    724\u001b[0m             \u001b[1;32mtry\u001b[0m\u001b[1;33m:\u001b[0m\u001b[1;33m\u001b[0m\u001b[1;33m\u001b[0m\u001b[0m\n\u001b[1;32m--> 725\u001b[1;33m                 \u001b[0mresult\u001b[0m \u001b[1;33m=\u001b[0m \u001b[0mself\u001b[0m\u001b[1;33m.\u001b[0m\u001b[0m_python_apply_general\u001b[0m\u001b[1;33m(\u001b[0m\u001b[0mf\u001b[0m\u001b[1;33m)\u001b[0m\u001b[1;33m\u001b[0m\u001b[1;33m\u001b[0m\u001b[0m\n\u001b[0m\u001b[0;32m    726\u001b[0m             \u001b[1;32mexcept\u001b[0m \u001b[0mException\u001b[0m\u001b[1;33m:\u001b[0m\u001b[1;33m\u001b[0m\u001b[1;33m\u001b[0m\u001b[0m\n",
      "\u001b[1;32m~\\AppData\\Local\\Continuum\\anaconda3\\envs\\early-chieldhood-education\\lib\\site-packages\\pandas\\core\\groupby\\groupby.py\u001b[0m in \u001b[0;36m_python_apply_general\u001b[1;34m(self, f)\u001b[0m\n\u001b[0;32m    741\u001b[0m     \u001b[1;32mdef\u001b[0m \u001b[0m_python_apply_general\u001b[0m\u001b[1;33m(\u001b[0m\u001b[0mself\u001b[0m\u001b[1;33m,\u001b[0m \u001b[0mf\u001b[0m\u001b[1;33m)\u001b[0m\u001b[1;33m:\u001b[0m\u001b[1;33m\u001b[0m\u001b[1;33m\u001b[0m\u001b[0m\n\u001b[1;32m--> 742\u001b[1;33m         \u001b[0mkeys\u001b[0m\u001b[1;33m,\u001b[0m \u001b[0mvalues\u001b[0m\u001b[1;33m,\u001b[0m \u001b[0mmutated\u001b[0m \u001b[1;33m=\u001b[0m \u001b[0mself\u001b[0m\u001b[1;33m.\u001b[0m\u001b[0mgrouper\u001b[0m\u001b[1;33m.\u001b[0m\u001b[0mapply\u001b[0m\u001b[1;33m(\u001b[0m\u001b[0mf\u001b[0m\u001b[1;33m,\u001b[0m \u001b[0mself\u001b[0m\u001b[1;33m.\u001b[0m\u001b[0m_selected_obj\u001b[0m\u001b[1;33m,\u001b[0m \u001b[0mself\u001b[0m\u001b[1;33m.\u001b[0m\u001b[0maxis\u001b[0m\u001b[1;33m)\u001b[0m\u001b[1;33m\u001b[0m\u001b[1;33m\u001b[0m\u001b[0m\n\u001b[0m\u001b[0;32m    743\u001b[0m \u001b[1;33m\u001b[0m\u001b[0m\n",
      "\u001b[1;32m~\\AppData\\Local\\Continuum\\anaconda3\\envs\\early-chieldhood-education\\lib\\site-packages\\pandas\\core\\groupby\\ops.py\u001b[0m in \u001b[0;36mapply\u001b[1;34m(self, f, data, axis)\u001b[0m\n\u001b[0;32m    236\u001b[0m             \u001b[0mgroup_axes\u001b[0m \u001b[1;33m=\u001b[0m \u001b[0m_get_axes\u001b[0m\u001b[1;33m(\u001b[0m\u001b[0mgroup\u001b[0m\u001b[1;33m)\u001b[0m\u001b[1;33m\u001b[0m\u001b[1;33m\u001b[0m\u001b[0m\n\u001b[1;32m--> 237\u001b[1;33m             \u001b[0mres\u001b[0m \u001b[1;33m=\u001b[0m \u001b[0mf\u001b[0m\u001b[1;33m(\u001b[0m\u001b[0mgroup\u001b[0m\u001b[1;33m)\u001b[0m\u001b[1;33m\u001b[0m\u001b[1;33m\u001b[0m\u001b[0m\n\u001b[0m\u001b[0;32m    238\u001b[0m             \u001b[1;32mif\u001b[0m \u001b[1;32mnot\u001b[0m \u001b[0m_is_indexed_like\u001b[0m\u001b[1;33m(\u001b[0m\u001b[0mres\u001b[0m\u001b[1;33m,\u001b[0m \u001b[0mgroup_axes\u001b[0m\u001b[1;33m)\u001b[0m\u001b[1;33m:\u001b[0m\u001b[1;33m\u001b[0m\u001b[1;33m\u001b[0m\u001b[0m\n",
      "\u001b[1;32m~\\AppData\\Local\\Continuum\\anaconda3\\envs\\early-chieldhood-education\\lib\\site-packages\\pandas\\core\\groupby\\groupby.py\u001b[0m in \u001b[0;36mf\u001b[1;34m(g)\u001b[0m\n\u001b[0;32m    712\u001b[0m                     \u001b[1;32mwith\u001b[0m \u001b[0mnp\u001b[0m\u001b[1;33m.\u001b[0m\u001b[0merrstate\u001b[0m\u001b[1;33m(\u001b[0m\u001b[0mall\u001b[0m\u001b[1;33m=\u001b[0m\u001b[1;34m\"ignore\"\u001b[0m\u001b[1;33m)\u001b[0m\u001b[1;33m:\u001b[0m\u001b[1;33m\u001b[0m\u001b[1;33m\u001b[0m\u001b[0m\n\u001b[1;32m--> 713\u001b[1;33m                         \u001b[1;32mreturn\u001b[0m \u001b[0mfunc\u001b[0m\u001b[1;33m(\u001b[0m\u001b[0mg\u001b[0m\u001b[1;33m,\u001b[0m \u001b[1;33m*\u001b[0m\u001b[0margs\u001b[0m\u001b[1;33m,\u001b[0m \u001b[1;33m**\u001b[0m\u001b[0mkwargs\u001b[0m\u001b[1;33m)\u001b[0m\u001b[1;33m\u001b[0m\u001b[1;33m\u001b[0m\u001b[0m\n\u001b[0m\u001b[0;32m    714\u001b[0m \u001b[1;33m\u001b[0m\u001b[0m\n",
      "\u001b[1;32m<ipython-input-217-7f451a918c90>\u001b[0m in \u001b[0;36mget_rolling_amount\u001b[1;34m(grp, freq)\u001b[0m\n\u001b[0;32m      1\u001b[0m \u001b[1;32mdef\u001b[0m \u001b[0mget_rolling_amount\u001b[0m\u001b[1;33m(\u001b[0m\u001b[0mgrp\u001b[0m\u001b[1;33m,\u001b[0m \u001b[0mfreq\u001b[0m\u001b[1;33m)\u001b[0m\u001b[1;33m:\u001b[0m\u001b[1;33m\u001b[0m\u001b[1;33m\u001b[0m\u001b[0m\n\u001b[1;32m----> 2\u001b[1;33m     \u001b[1;32mreturn\u001b[0m \u001b[0mgrp\u001b[0m\u001b[1;33m.\u001b[0m\u001b[0mrolling\u001b[0m\u001b[1;33m(\u001b[0m\u001b[0mfreq\u001b[0m\u001b[1;33m,\u001b[0m \u001b[0mon\u001b[0m\u001b[1;33m=\u001b[0m\u001b[1;34m'session_start'\u001b[0m\u001b[1;33m)\u001b[0m\u001b[1;33m.\u001b[0m\u001b[0msession_event_count\u001b[0m\u001b[1;33m.\u001b[0m\u001b[0mcount\u001b[0m\u001b[1;33m(\u001b[0m\u001b[1;33m)\u001b[0m\u001b[1;33m\u001b[0m\u001b[1;33m\u001b[0m\u001b[0m\n\u001b[0m",
      "\u001b[1;32m~\\AppData\\Local\\Continuum\\anaconda3\\envs\\early-chieldhood-education\\lib\\site-packages\\pandas\\core\\generic.py\u001b[0m in \u001b[0;36mrolling\u001b[1;34m(self, window, min_periods, center, win_type, on, axis, closed)\u001b[0m\n\u001b[0;32m  10768\u001b[0m                 \u001b[0maxis\u001b[0m\u001b[1;33m=\u001b[0m\u001b[0maxis\u001b[0m\u001b[1;33m,\u001b[0m\u001b[1;33m\u001b[0m\u001b[1;33m\u001b[0m\u001b[0m\n\u001b[1;32m> 10769\u001b[1;33m                 \u001b[0mclosed\u001b[0m\u001b[1;33m=\u001b[0m\u001b[0mclosed\u001b[0m\u001b[1;33m,\u001b[0m\u001b[1;33m\u001b[0m\u001b[1;33m\u001b[0m\u001b[0m\n\u001b[0m\u001b[0;32m  10770\u001b[0m             )\n",
      "\u001b[1;32m~\\AppData\\Local\\Continuum\\anaconda3\\envs\\early-chieldhood-education\\lib\\site-packages\\pandas\\core\\window.py\u001b[0m in \u001b[0;36mrolling\u001b[1;34m(obj, win_type, **kwds)\u001b[0m\n\u001b[0;32m   2848\u001b[0m \u001b[1;33m\u001b[0m\u001b[0m\n\u001b[1;32m-> 2849\u001b[1;33m     \u001b[1;32mreturn\u001b[0m \u001b[0mRolling\u001b[0m\u001b[1;33m(\u001b[0m\u001b[0mobj\u001b[0m\u001b[1;33m,\u001b[0m \u001b[1;33m**\u001b[0m\u001b[0mkwds\u001b[0m\u001b[1;33m)\u001b[0m\u001b[1;33m\u001b[0m\u001b[1;33m\u001b[0m\u001b[0m\n\u001b[0m\u001b[0;32m   2850\u001b[0m \u001b[1;33m\u001b[0m\u001b[0m\n",
      "\u001b[1;32m~\\AppData\\Local\\Continuum\\anaconda3\\envs\\early-chieldhood-education\\lib\\site-packages\\pandas\\core\\window.py\u001b[0m in \u001b[0;36m__init__\u001b[1;34m(self, obj, window, min_periods, center, win_type, axis, on, closed, **kwargs)\u001b[0m\n\u001b[0;32m     92\u001b[0m         \u001b[0mself\u001b[0m\u001b[1;33m.\u001b[0m\u001b[0maxis\u001b[0m \u001b[1;33m=\u001b[0m \u001b[0mobj\u001b[0m\u001b[1;33m.\u001b[0m\u001b[0m_get_axis_number\u001b[0m\u001b[1;33m(\u001b[0m\u001b[0maxis\u001b[0m\u001b[1;33m)\u001b[0m \u001b[1;32mif\u001b[0m \u001b[0maxis\u001b[0m \u001b[1;32mis\u001b[0m \u001b[1;32mnot\u001b[0m \u001b[1;32mNone\u001b[0m \u001b[1;32melse\u001b[0m \u001b[1;32mNone\u001b[0m\u001b[1;33m\u001b[0m\u001b[1;33m\u001b[0m\u001b[0m\n\u001b[1;32m---> 93\u001b[1;33m         \u001b[0mself\u001b[0m\u001b[1;33m.\u001b[0m\u001b[0mvalidate\u001b[0m\u001b[1;33m(\u001b[0m\u001b[1;33m)\u001b[0m\u001b[1;33m\u001b[0m\u001b[1;33m\u001b[0m\u001b[0m\n\u001b[0m\u001b[0;32m     94\u001b[0m \u001b[1;33m\u001b[0m\u001b[0m\n",
      "\u001b[1;32m~\\AppData\\Local\\Continuum\\anaconda3\\envs\\early-chieldhood-education\\lib\\site-packages\\pandas\\core\\window.py\u001b[0m in \u001b[0;36mvalidate\u001b[1;34m(self)\u001b[0m\n\u001b[0;32m   1716\u001b[0m \u001b[1;33m\u001b[0m\u001b[0m\n\u001b[1;32m-> 1717\u001b[1;33m             \u001b[0mself\u001b[0m\u001b[1;33m.\u001b[0m\u001b[0m_validate_monotonic\u001b[0m\u001b[1;33m(\u001b[0m\u001b[1;33m)\u001b[0m\u001b[1;33m\u001b[0m\u001b[1;33m\u001b[0m\u001b[0m\n\u001b[0m\u001b[0;32m   1718\u001b[0m             \u001b[0mfreq\u001b[0m \u001b[1;33m=\u001b[0m \u001b[0mself\u001b[0m\u001b[1;33m.\u001b[0m\u001b[0m_validate_freq\u001b[0m\u001b[1;33m(\u001b[0m\u001b[1;33m)\u001b[0m\u001b[1;33m\u001b[0m\u001b[1;33m\u001b[0m\u001b[0m\n",
      "\u001b[1;32m~\\AppData\\Local\\Continuum\\anaconda3\\envs\\early-chieldhood-education\\lib\\site-packages\\pandas\\core\\window.py\u001b[0m in \u001b[0;36m_validate_monotonic\u001b[1;34m(self)\u001b[0m\n\u001b[0;32m   1752\u001b[0m             \u001b[0mformatted\u001b[0m \u001b[1;33m=\u001b[0m \u001b[0mself\u001b[0m\u001b[1;33m.\u001b[0m\u001b[0mon\u001b[0m \u001b[1;32mor\u001b[0m \u001b[1;34m\"index\"\u001b[0m\u001b[1;33m\u001b[0m\u001b[1;33m\u001b[0m\u001b[0m\n\u001b[1;32m-> 1753\u001b[1;33m             \u001b[1;32mraise\u001b[0m \u001b[0mValueError\u001b[0m\u001b[1;33m(\u001b[0m\u001b[1;34m\"{0} must be \"\u001b[0m \u001b[1;34m\"monotonic\"\u001b[0m\u001b[1;33m.\u001b[0m\u001b[0mformat\u001b[0m\u001b[1;33m(\u001b[0m\u001b[0mformatted\u001b[0m\u001b[1;33m)\u001b[0m\u001b[1;33m)\u001b[0m\u001b[1;33m\u001b[0m\u001b[1;33m\u001b[0m\u001b[0m\n\u001b[0m\u001b[0;32m   1754\u001b[0m \u001b[1;33m\u001b[0m\u001b[0m\n",
      "\u001b[1;31mValueError\u001b[0m: session_start must be monotonic",
      "\nDuring handling of the above exception, another exception occurred:\n",
      "\u001b[1;31mValueError\u001b[0m                                Traceback (most recent call last)",
      "\u001b[1;32m<ipython-input-219-1094282bd92d>\u001b[0m in \u001b[0;36m<module>\u001b[1;34m\u001b[0m\n\u001b[1;32m----> 1\u001b[1;33m \u001b[0mX_train\u001b[0m \u001b[1;33m=\u001b[0m \u001b[0minstallation_information\u001b[0m\u001b[1;33m(\u001b[0m\u001b[0mX_train\u001b[0m\u001b[1;33m)\u001b[0m\u001b[1;33m\u001b[0m\u001b[1;33m\u001b[0m\u001b[0m\n\u001b[0m\u001b[0;32m      2\u001b[0m \u001b[0mX_test\u001b[0m \u001b[1;33m=\u001b[0m \u001b[0minstallation_information\u001b[0m\u001b[1;33m(\u001b[0m\u001b[0mX_test\u001b[0m\u001b[1;33m,\u001b[0m \u001b[0mtest_set\u001b[0m\u001b[1;33m=\u001b[0m\u001b[1;32mTrue\u001b[0m\u001b[1;33m)\u001b[0m\u001b[1;33m\u001b[0m\u001b[1;33m\u001b[0m\u001b[0m\n",
      "\u001b[1;32m<ipython-input-218-627930a7ac0e>\u001b[0m in \u001b[0;36minstallation_information\u001b[1;34m(df, test_set)\u001b[0m\n\u001b[0;32m     31\u001b[0m     \u001b[0mcumulative_df\u001b[0m\u001b[1;33m[\u001b[0m\u001b[1;34m'time_last_session'\u001b[0m\u001b[1;33m]\u001b[0m \u001b[1;33m=\u001b[0m \u001b[1;33m(\u001b[0m\u001b[0mdf\u001b[0m\u001b[1;33m.\u001b[0m\u001b[0mgroupby\u001b[0m\u001b[1;33m(\u001b[0m\u001b[1;34m'installation_id'\u001b[0m\u001b[1;33m)\u001b[0m\u001b[1;33m.\u001b[0m\u001b[0msession_start\u001b[0m\u001b[1;33m.\u001b[0m\u001b[0mshift\u001b[0m\u001b[1;33m(\u001b[0m\u001b[1;36m1\u001b[0m\u001b[1;33m)\u001b[0m \u001b[1;33m-\u001b[0m \u001b[0mdf\u001b[0m\u001b[1;33m.\u001b[0m\u001b[0msession_start\u001b[0m\u001b[1;33m)\u001b[0m\u001b[1;33m.\u001b[0m\u001b[0mastype\u001b[0m\u001b[1;33m(\u001b[0m\u001b[0mnp\u001b[0m\u001b[1;33m.\u001b[0m\u001b[0mint64\u001b[0m\u001b[1;33m)\u001b[0m\u001b[1;33m\u001b[0m\u001b[1;33m\u001b[0m\u001b[0m\n\u001b[0;32m     32\u001b[0m     \u001b[1;31m# Number of sessions in past period\u001b[0m\u001b[1;33m\u001b[0m\u001b[1;33m\u001b[0m\u001b[1;33m\u001b[0m\u001b[0m\n\u001b[1;32m---> 33\u001b[1;33m     \u001b[0mcumulative_df\u001b[0m\u001b[1;33m[\u001b[0m\u001b[1;34m'num_sessions_past_month'\u001b[0m\u001b[1;33m]\u001b[0m \u001b[1;33m=\u001b[0m \u001b[0mdf\u001b[0m\u001b[1;33m.\u001b[0m\u001b[0mgroupby\u001b[0m\u001b[1;33m(\u001b[0m\u001b[1;34m'installation_id'\u001b[0m\u001b[1;33m,\u001b[0m \u001b[0mas_index\u001b[0m\u001b[1;33m=\u001b[0m\u001b[1;32mFalse\u001b[0m\u001b[1;33m,\u001b[0m \u001b[0mgroup_keys\u001b[0m\u001b[1;33m=\u001b[0m\u001b[1;32mFalse\u001b[0m\u001b[1;33m)\u001b[0m\u001b[1;33m.\u001b[0m\u001b[0mapply\u001b[0m\u001b[1;33m(\u001b[0m\u001b[0mget_rolling_amount\u001b[0m\u001b[1;33m,\u001b[0m \u001b[1;34m'30D'\u001b[0m\u001b[1;33m)\u001b[0m\u001b[1;33m\u001b[0m\u001b[1;33m\u001b[0m\u001b[0m\n\u001b[0m\u001b[0;32m     34\u001b[0m     \u001b[0mcumulative_df\u001b[0m\u001b[1;33m[\u001b[0m\u001b[1;34m'num_sessions_past_week'\u001b[0m\u001b[1;33m]\u001b[0m \u001b[1;33m=\u001b[0m \u001b[0mdf\u001b[0m\u001b[1;33m.\u001b[0m\u001b[0mgroupby\u001b[0m\u001b[1;33m(\u001b[0m\u001b[1;34m'installation_id'\u001b[0m\u001b[1;33m,\u001b[0m \u001b[0mas_index\u001b[0m\u001b[1;33m=\u001b[0m\u001b[1;32mFalse\u001b[0m\u001b[1;33m,\u001b[0m \u001b[0mgroup_keys\u001b[0m\u001b[1;33m=\u001b[0m\u001b[1;32mFalse\u001b[0m\u001b[1;33m)\u001b[0m\u001b[1;33m.\u001b[0m\u001b[0mapply\u001b[0m\u001b[1;33m(\u001b[0m\u001b[0mget_rolling_amount\u001b[0m\u001b[1;33m,\u001b[0m \u001b[1;34m'7D'\u001b[0m\u001b[1;33m)\u001b[0m\u001b[1;33m\u001b[0m\u001b[1;33m\u001b[0m\u001b[0m\n\u001b[0;32m     35\u001b[0m     \u001b[0mcumulative_df\u001b[0m\u001b[1;33m[\u001b[0m\u001b[1;34m'num_sessionspast_day'\u001b[0m\u001b[1;33m]\u001b[0m \u001b[1;33m=\u001b[0m \u001b[0mdf\u001b[0m\u001b[1;33m.\u001b[0m\u001b[0mgroupby\u001b[0m\u001b[1;33m(\u001b[0m\u001b[1;34m'installation_id'\u001b[0m\u001b[1;33m,\u001b[0m \u001b[0mas_index\u001b[0m\u001b[1;33m=\u001b[0m\u001b[1;32mFalse\u001b[0m\u001b[1;33m,\u001b[0m \u001b[0mgroup_keys\u001b[0m\u001b[1;33m=\u001b[0m\u001b[1;32mFalse\u001b[0m\u001b[1;33m)\u001b[0m\u001b[1;33m.\u001b[0m\u001b[0mapply\u001b[0m\u001b[1;33m(\u001b[0m\u001b[0mget_rolling_amount\u001b[0m\u001b[1;33m,\u001b[0m \u001b[1;34m'1D'\u001b[0m\u001b[1;33m)\u001b[0m\u001b[1;33m\u001b[0m\u001b[1;33m\u001b[0m\u001b[0m\n",
      "\u001b[1;32m~\\AppData\\Local\\Continuum\\anaconda3\\envs\\early-chieldhood-education\\lib\\site-packages\\pandas\\core\\groupby\\groupby.py\u001b[0m in \u001b[0;36mapply\u001b[1;34m(self, func, *args, **kwargs)\u001b[0m\n\u001b[0;32m    735\u001b[0m \u001b[1;33m\u001b[0m\u001b[0m\n\u001b[0;32m    736\u001b[0m                 \u001b[1;32mwith\u001b[0m \u001b[0m_group_selection_context\u001b[0m\u001b[1;33m(\u001b[0m\u001b[0mself\u001b[0m\u001b[1;33m)\u001b[0m\u001b[1;33m:\u001b[0m\u001b[1;33m\u001b[0m\u001b[1;33m\u001b[0m\u001b[0m\n\u001b[1;32m--> 737\u001b[1;33m                     \u001b[1;32mreturn\u001b[0m \u001b[0mself\u001b[0m\u001b[1;33m.\u001b[0m\u001b[0m_python_apply_general\u001b[0m\u001b[1;33m(\u001b[0m\u001b[0mf\u001b[0m\u001b[1;33m)\u001b[0m\u001b[1;33m\u001b[0m\u001b[1;33m\u001b[0m\u001b[0m\n\u001b[0m\u001b[0;32m    738\u001b[0m \u001b[1;33m\u001b[0m\u001b[0m\n\u001b[0;32m    739\u001b[0m         \u001b[1;32mreturn\u001b[0m \u001b[0mresult\u001b[0m\u001b[1;33m\u001b[0m\u001b[1;33m\u001b[0m\u001b[0m\n",
      "\u001b[1;32m~\\AppData\\Local\\Continuum\\anaconda3\\envs\\early-chieldhood-education\\lib\\site-packages\\pandas\\core\\groupby\\groupby.py\u001b[0m in \u001b[0;36m_python_apply_general\u001b[1;34m(self, f)\u001b[0m\n\u001b[0;32m    740\u001b[0m \u001b[1;33m\u001b[0m\u001b[0m\n\u001b[0;32m    741\u001b[0m     \u001b[1;32mdef\u001b[0m \u001b[0m_python_apply_general\u001b[0m\u001b[1;33m(\u001b[0m\u001b[0mself\u001b[0m\u001b[1;33m,\u001b[0m \u001b[0mf\u001b[0m\u001b[1;33m)\u001b[0m\u001b[1;33m:\u001b[0m\u001b[1;33m\u001b[0m\u001b[1;33m\u001b[0m\u001b[0m\n\u001b[1;32m--> 742\u001b[1;33m         \u001b[0mkeys\u001b[0m\u001b[1;33m,\u001b[0m \u001b[0mvalues\u001b[0m\u001b[1;33m,\u001b[0m \u001b[0mmutated\u001b[0m \u001b[1;33m=\u001b[0m \u001b[0mself\u001b[0m\u001b[1;33m.\u001b[0m\u001b[0mgrouper\u001b[0m\u001b[1;33m.\u001b[0m\u001b[0mapply\u001b[0m\u001b[1;33m(\u001b[0m\u001b[0mf\u001b[0m\u001b[1;33m,\u001b[0m \u001b[0mself\u001b[0m\u001b[1;33m.\u001b[0m\u001b[0m_selected_obj\u001b[0m\u001b[1;33m,\u001b[0m \u001b[0mself\u001b[0m\u001b[1;33m.\u001b[0m\u001b[0maxis\u001b[0m\u001b[1;33m)\u001b[0m\u001b[1;33m\u001b[0m\u001b[1;33m\u001b[0m\u001b[0m\n\u001b[0m\u001b[0;32m    743\u001b[0m \u001b[1;33m\u001b[0m\u001b[0m\n\u001b[0;32m    744\u001b[0m         return self._wrap_applied_output(\n",
      "\u001b[1;32m~\\AppData\\Local\\Continuum\\anaconda3\\envs\\early-chieldhood-education\\lib\\site-packages\\pandas\\core\\groupby\\ops.py\u001b[0m in \u001b[0;36mapply\u001b[1;34m(self, f, data, axis)\u001b[0m\n\u001b[0;32m    235\u001b[0m             \u001b[1;31m# group might be modified\u001b[0m\u001b[1;33m\u001b[0m\u001b[1;33m\u001b[0m\u001b[1;33m\u001b[0m\u001b[0m\n\u001b[0;32m    236\u001b[0m             \u001b[0mgroup_axes\u001b[0m \u001b[1;33m=\u001b[0m \u001b[0m_get_axes\u001b[0m\u001b[1;33m(\u001b[0m\u001b[0mgroup\u001b[0m\u001b[1;33m)\u001b[0m\u001b[1;33m\u001b[0m\u001b[1;33m\u001b[0m\u001b[0m\n\u001b[1;32m--> 237\u001b[1;33m             \u001b[0mres\u001b[0m \u001b[1;33m=\u001b[0m \u001b[0mf\u001b[0m\u001b[1;33m(\u001b[0m\u001b[0mgroup\u001b[0m\u001b[1;33m)\u001b[0m\u001b[1;33m\u001b[0m\u001b[1;33m\u001b[0m\u001b[0m\n\u001b[0m\u001b[0;32m    238\u001b[0m             \u001b[1;32mif\u001b[0m \u001b[1;32mnot\u001b[0m \u001b[0m_is_indexed_like\u001b[0m\u001b[1;33m(\u001b[0m\u001b[0mres\u001b[0m\u001b[1;33m,\u001b[0m \u001b[0mgroup_axes\u001b[0m\u001b[1;33m)\u001b[0m\u001b[1;33m:\u001b[0m\u001b[1;33m\u001b[0m\u001b[1;33m\u001b[0m\u001b[0m\n\u001b[0;32m    239\u001b[0m                 \u001b[0mmutated\u001b[0m \u001b[1;33m=\u001b[0m \u001b[1;32mTrue\u001b[0m\u001b[1;33m\u001b[0m\u001b[1;33m\u001b[0m\u001b[0m\n",
      "\u001b[1;32m~\\AppData\\Local\\Continuum\\anaconda3\\envs\\early-chieldhood-education\\lib\\site-packages\\pandas\\core\\groupby\\groupby.py\u001b[0m in \u001b[0;36mf\u001b[1;34m(g)\u001b[0m\n\u001b[0;32m    711\u001b[0m                 \u001b[1;32mdef\u001b[0m \u001b[0mf\u001b[0m\u001b[1;33m(\u001b[0m\u001b[0mg\u001b[0m\u001b[1;33m)\u001b[0m\u001b[1;33m:\u001b[0m\u001b[1;33m\u001b[0m\u001b[1;33m\u001b[0m\u001b[0m\n\u001b[0;32m    712\u001b[0m                     \u001b[1;32mwith\u001b[0m \u001b[0mnp\u001b[0m\u001b[1;33m.\u001b[0m\u001b[0merrstate\u001b[0m\u001b[1;33m(\u001b[0m\u001b[0mall\u001b[0m\u001b[1;33m=\u001b[0m\u001b[1;34m\"ignore\"\u001b[0m\u001b[1;33m)\u001b[0m\u001b[1;33m:\u001b[0m\u001b[1;33m\u001b[0m\u001b[1;33m\u001b[0m\u001b[0m\n\u001b[1;32m--> 713\u001b[1;33m                         \u001b[1;32mreturn\u001b[0m \u001b[0mfunc\u001b[0m\u001b[1;33m(\u001b[0m\u001b[0mg\u001b[0m\u001b[1;33m,\u001b[0m \u001b[1;33m*\u001b[0m\u001b[0margs\u001b[0m\u001b[1;33m,\u001b[0m \u001b[1;33m**\u001b[0m\u001b[0mkwargs\u001b[0m\u001b[1;33m)\u001b[0m\u001b[1;33m\u001b[0m\u001b[1;33m\u001b[0m\u001b[0m\n\u001b[0m\u001b[0;32m    714\u001b[0m \u001b[1;33m\u001b[0m\u001b[0m\n\u001b[0;32m    715\u001b[0m             \u001b[1;32melse\u001b[0m\u001b[1;33m:\u001b[0m\u001b[1;33m\u001b[0m\u001b[1;33m\u001b[0m\u001b[0m\n",
      "\u001b[1;32m<ipython-input-217-7f451a918c90>\u001b[0m in \u001b[0;36mget_rolling_amount\u001b[1;34m(grp, freq)\u001b[0m\n\u001b[0;32m      1\u001b[0m \u001b[1;32mdef\u001b[0m \u001b[0mget_rolling_amount\u001b[0m\u001b[1;33m(\u001b[0m\u001b[0mgrp\u001b[0m\u001b[1;33m,\u001b[0m \u001b[0mfreq\u001b[0m\u001b[1;33m)\u001b[0m\u001b[1;33m:\u001b[0m\u001b[1;33m\u001b[0m\u001b[1;33m\u001b[0m\u001b[0m\n\u001b[1;32m----> 2\u001b[1;33m     \u001b[1;32mreturn\u001b[0m \u001b[0mgrp\u001b[0m\u001b[1;33m.\u001b[0m\u001b[0mrolling\u001b[0m\u001b[1;33m(\u001b[0m\u001b[0mfreq\u001b[0m\u001b[1;33m,\u001b[0m \u001b[0mon\u001b[0m\u001b[1;33m=\u001b[0m\u001b[1;34m'session_start'\u001b[0m\u001b[1;33m)\u001b[0m\u001b[1;33m.\u001b[0m\u001b[0msession_event_count\u001b[0m\u001b[1;33m.\u001b[0m\u001b[0mcount\u001b[0m\u001b[1;33m(\u001b[0m\u001b[1;33m)\u001b[0m\u001b[1;33m\u001b[0m\u001b[1;33m\u001b[0m\u001b[0m\n\u001b[0m",
      "\u001b[1;32m~\\AppData\\Local\\Continuum\\anaconda3\\envs\\early-chieldhood-education\\lib\\site-packages\\pandas\\core\\generic.py\u001b[0m in \u001b[0;36mrolling\u001b[1;34m(self, window, min_periods, center, win_type, on, axis, closed)\u001b[0m\n\u001b[0;32m  10767\u001b[0m                 \u001b[0mon\u001b[0m\u001b[1;33m=\u001b[0m\u001b[0mon\u001b[0m\u001b[1;33m,\u001b[0m\u001b[1;33m\u001b[0m\u001b[1;33m\u001b[0m\u001b[0m\n\u001b[0;32m  10768\u001b[0m                 \u001b[0maxis\u001b[0m\u001b[1;33m=\u001b[0m\u001b[0maxis\u001b[0m\u001b[1;33m,\u001b[0m\u001b[1;33m\u001b[0m\u001b[1;33m\u001b[0m\u001b[0m\n\u001b[1;32m> 10769\u001b[1;33m                 \u001b[0mclosed\u001b[0m\u001b[1;33m=\u001b[0m\u001b[0mclosed\u001b[0m\u001b[1;33m,\u001b[0m\u001b[1;33m\u001b[0m\u001b[1;33m\u001b[0m\u001b[0m\n\u001b[0m\u001b[0;32m  10770\u001b[0m             )\n\u001b[0;32m  10771\u001b[0m \u001b[1;33m\u001b[0m\u001b[0m\n",
      "\u001b[1;32m~\\AppData\\Local\\Continuum\\anaconda3\\envs\\early-chieldhood-education\\lib\\site-packages\\pandas\\core\\window.py\u001b[0m in \u001b[0;36mrolling\u001b[1;34m(obj, win_type, **kwds)\u001b[0m\n\u001b[0;32m   2847\u001b[0m         \u001b[1;32mreturn\u001b[0m \u001b[0mWindow\u001b[0m\u001b[1;33m(\u001b[0m\u001b[0mobj\u001b[0m\u001b[1;33m,\u001b[0m \u001b[0mwin_type\u001b[0m\u001b[1;33m=\u001b[0m\u001b[0mwin_type\u001b[0m\u001b[1;33m,\u001b[0m \u001b[1;33m**\u001b[0m\u001b[0mkwds\u001b[0m\u001b[1;33m)\u001b[0m\u001b[1;33m\u001b[0m\u001b[1;33m\u001b[0m\u001b[0m\n\u001b[0;32m   2848\u001b[0m \u001b[1;33m\u001b[0m\u001b[0m\n\u001b[1;32m-> 2849\u001b[1;33m     \u001b[1;32mreturn\u001b[0m \u001b[0mRolling\u001b[0m\u001b[1;33m(\u001b[0m\u001b[0mobj\u001b[0m\u001b[1;33m,\u001b[0m \u001b[1;33m**\u001b[0m\u001b[0mkwds\u001b[0m\u001b[1;33m)\u001b[0m\u001b[1;33m\u001b[0m\u001b[1;33m\u001b[0m\u001b[0m\n\u001b[0m\u001b[0;32m   2850\u001b[0m \u001b[1;33m\u001b[0m\u001b[0m\n\u001b[0;32m   2851\u001b[0m \u001b[1;33m\u001b[0m\u001b[0m\n",
      "\u001b[1;32m~\\AppData\\Local\\Continuum\\anaconda3\\envs\\early-chieldhood-education\\lib\\site-packages\\pandas\\core\\window.py\u001b[0m in \u001b[0;36m__init__\u001b[1;34m(self, obj, window, min_periods, center, win_type, axis, on, closed, **kwargs)\u001b[0m\n\u001b[0;32m     91\u001b[0m         \u001b[0mself\u001b[0m\u001b[1;33m.\u001b[0m\u001b[0mwin_freq\u001b[0m \u001b[1;33m=\u001b[0m \u001b[1;32mNone\u001b[0m\u001b[1;33m\u001b[0m\u001b[1;33m\u001b[0m\u001b[0m\n\u001b[0;32m     92\u001b[0m         \u001b[0mself\u001b[0m\u001b[1;33m.\u001b[0m\u001b[0maxis\u001b[0m \u001b[1;33m=\u001b[0m \u001b[0mobj\u001b[0m\u001b[1;33m.\u001b[0m\u001b[0m_get_axis_number\u001b[0m\u001b[1;33m(\u001b[0m\u001b[0maxis\u001b[0m\u001b[1;33m)\u001b[0m \u001b[1;32mif\u001b[0m \u001b[0maxis\u001b[0m \u001b[1;32mis\u001b[0m \u001b[1;32mnot\u001b[0m \u001b[1;32mNone\u001b[0m \u001b[1;32melse\u001b[0m \u001b[1;32mNone\u001b[0m\u001b[1;33m\u001b[0m\u001b[1;33m\u001b[0m\u001b[0m\n\u001b[1;32m---> 93\u001b[1;33m         \u001b[0mself\u001b[0m\u001b[1;33m.\u001b[0m\u001b[0mvalidate\u001b[0m\u001b[1;33m(\u001b[0m\u001b[1;33m)\u001b[0m\u001b[1;33m\u001b[0m\u001b[1;33m\u001b[0m\u001b[0m\n\u001b[0m\u001b[0;32m     94\u001b[0m \u001b[1;33m\u001b[0m\u001b[0m\n\u001b[0;32m     95\u001b[0m     \u001b[1;33m@\u001b[0m\u001b[0mproperty\u001b[0m\u001b[1;33m\u001b[0m\u001b[1;33m\u001b[0m\u001b[0m\n",
      "\u001b[1;32m~\\AppData\\Local\\Continuum\\anaconda3\\envs\\early-chieldhood-education\\lib\\site-packages\\pandas\\core\\window.py\u001b[0m in \u001b[0;36mvalidate\u001b[1;34m(self)\u001b[0m\n\u001b[0;32m   1715\u001b[0m         ):\n\u001b[0;32m   1716\u001b[0m \u001b[1;33m\u001b[0m\u001b[0m\n\u001b[1;32m-> 1717\u001b[1;33m             \u001b[0mself\u001b[0m\u001b[1;33m.\u001b[0m\u001b[0m_validate_monotonic\u001b[0m\u001b[1;33m(\u001b[0m\u001b[1;33m)\u001b[0m\u001b[1;33m\u001b[0m\u001b[1;33m\u001b[0m\u001b[0m\n\u001b[0m\u001b[0;32m   1718\u001b[0m             \u001b[0mfreq\u001b[0m \u001b[1;33m=\u001b[0m \u001b[0mself\u001b[0m\u001b[1;33m.\u001b[0m\u001b[0m_validate_freq\u001b[0m\u001b[1;33m(\u001b[0m\u001b[1;33m)\u001b[0m\u001b[1;33m\u001b[0m\u001b[1;33m\u001b[0m\u001b[0m\n\u001b[0;32m   1719\u001b[0m \u001b[1;33m\u001b[0m\u001b[0m\n",
      "\u001b[1;32m~\\AppData\\Local\\Continuum\\anaconda3\\envs\\early-chieldhood-education\\lib\\site-packages\\pandas\\core\\window.py\u001b[0m in \u001b[0;36m_validate_monotonic\u001b[1;34m(self)\u001b[0m\n\u001b[0;32m   1751\u001b[0m         \u001b[1;32mif\u001b[0m \u001b[1;32mnot\u001b[0m \u001b[0mself\u001b[0m\u001b[1;33m.\u001b[0m\u001b[0m_on\u001b[0m\u001b[1;33m.\u001b[0m\u001b[0mis_monotonic\u001b[0m\u001b[1;33m:\u001b[0m\u001b[1;33m\u001b[0m\u001b[1;33m\u001b[0m\u001b[0m\n\u001b[0;32m   1752\u001b[0m             \u001b[0mformatted\u001b[0m \u001b[1;33m=\u001b[0m \u001b[0mself\u001b[0m\u001b[1;33m.\u001b[0m\u001b[0mon\u001b[0m \u001b[1;32mor\u001b[0m \u001b[1;34m\"index\"\u001b[0m\u001b[1;33m\u001b[0m\u001b[1;33m\u001b[0m\u001b[0m\n\u001b[1;32m-> 1753\u001b[1;33m             \u001b[1;32mraise\u001b[0m \u001b[0mValueError\u001b[0m\u001b[1;33m(\u001b[0m\u001b[1;34m\"{0} must be \"\u001b[0m \u001b[1;34m\"monotonic\"\u001b[0m\u001b[1;33m.\u001b[0m\u001b[0mformat\u001b[0m\u001b[1;33m(\u001b[0m\u001b[0mformatted\u001b[0m\u001b[1;33m)\u001b[0m\u001b[1;33m)\u001b[0m\u001b[1;33m\u001b[0m\u001b[1;33m\u001b[0m\u001b[0m\n\u001b[0m\u001b[0;32m   1754\u001b[0m \u001b[1;33m\u001b[0m\u001b[0m\n\u001b[0;32m   1755\u001b[0m     \u001b[1;32mdef\u001b[0m \u001b[0m_validate_freq\u001b[0m\u001b[1;33m(\u001b[0m\u001b[0mself\u001b[0m\u001b[1;33m)\u001b[0m\u001b[1;33m:\u001b[0m\u001b[1;33m\u001b[0m\u001b[1;33m\u001b[0m\u001b[0m\n",
      "\u001b[1;31mValueError\u001b[0m: session_start must be monotonic"
     ]
    }
   ],
   "source": [
    "X_train = installation_information(X_train)\n",
    "X_test = installation_information(X_test, test_set=True)"
   ]
  },
  {
   "cell_type": "code",
   "execution_count": 180,
   "metadata": {},
   "outputs": [],
   "source": [
    "# list(X_train.columns)"
   ]
  },
  {
   "cell_type": "markdown",
   "metadata": {},
   "source": [
    "##### Additional Data Prep"
   ]
  },
  {
   "cell_type": "code",
   "execution_count": 93,
   "metadata": {},
   "outputs": [],
   "source": [
    "# Removing test events that are not part of the kaggle compitition\n",
    "X_test = X_test.loc[X_test.groupby('installation_id').session_start.idxmax()]"
   ]
  },
  {
   "cell_type": "code",
   "execution_count": 94,
   "metadata": {},
   "outputs": [],
   "source": [
    "# Encoding\n",
    "X_train, X_test, le = ml_encoder(X_train, X_test, encode_columns=['session_type', 'session_title', 'session_world', 'session_hour', 'session_weekday'], nan_as_category=False)"
   ]
  },
  {
   "cell_type": "code",
   "execution_count": 95,
   "metadata": {},
   "outputs": [],
   "source": [
    "# Quick way to allign index\n",
    "y_train = X_train.accuracy_group.astype(int)"
   ]
  },
  {
   "cell_type": "code",
   "execution_count": 96,
   "metadata": {},
   "outputs": [],
   "source": [
    "# Drop columns thatwon't be helpful or that we wont have in the test set\n",
    "drop_columns = ['session_start', 'accuracy_group', 'assessed', 'correct_COUNT', 'num_correct', 'num_incorrect', 'accuracy'\n",
    "                , 'game_session', 'session_avg_event_time', 'session_event_count', 'session_length']\n",
    "X_train.drop(columns = drop_columns, inplace=True)\n",
    "X_test.drop(columns = drop_columns, inplace=True)"
   ]
  },
  {
   "cell_type": "code",
   "execution_count": 97,
   "metadata": {},
   "outputs": [
    {
     "name": "stdout",
     "output_type": "stream",
     "text": [
      "train shape: (445, 568)\n",
      "train target: 445\n",
      "test shape: (50, 568)\n"
     ]
    }
   ],
   "source": [
    "print(\"train shape:\", (len(X_train.index), len(X_train.columns)))\n",
    "print(\"train target:\", (len(y_train.index)))\n",
    "print(\"test shape:\", (len(X_test.index), len(X_test.columns)))"
   ]
  },
  {
   "cell_type": "code",
   "execution_count": 101,
   "metadata": {},
   "outputs": [],
   "source": [
    "params = {\n",
    "        'boosting_type': params['boosting_type'],\n",
    "        'num_folds': int(params['num_folds']),\n",
    "        'num_leaves': int(params['num_leaves']),\n",
    "        'max_depth': int(params['max_depth']),\n",
    "        'learning_rate': params['learning_rate'],\n",
    "        'num_boosting_round': int(params['num_boosting_round']),\n",
    "        'metric': params['metric'],\n",
    "        'verbose': params['verbose'],\n",
    "        \"subsample\": params['subsample'],\n",
    "        \"colsample_bytree\": params['colsample_bytree'],\n",
    "        \"random_state\": int(params['random_state']),\n",
    "        'min_child_samples': int(params['min_child_samples'])\n",
    "    }\n",
    "    \n",
    "# Get folds - this should be updated to grouped k fold\n",
    "num_folds = int(params['num_folds'])\n",
    "installation_ids = np.array(sorted(X_train['installation_id']))\n",
    "\n",
    "# Setting up folds grouped by installation_id\n",
    "folds = []\n",
    "GroupKfolds = GroupKFold(n_splits=num_folds)\n",
    "for train, valid in GroupKfolds.split(X=X_train, groups=X_train.installation_id):\n",
    "    folds.append([train, valid])"
   ]
  },
  {
   "cell_type": "code",
   "execution_count": 106,
   "metadata": {},
   "outputs": [],
   "source": [
    "X_train_, y_train_ = X_train.iloc[folds[0][0]], y_train.iloc[folds[0][0]]\n",
    "X_valid, y_valid = X_train.iloc[folds[0][1]], y_train.loc[folds[0][1]]"
   ]
  },
  {
   "cell_type": "code",
   "execution_count": 121,
   "metadata": {},
   "outputs": [
    {
     "data": {
      "text/plain": [
       "array([False, False, False, False, False, False, False, False, False,\n",
       "       False, False, False, False, False, False, False, False, False,\n",
       "       False, False, False, False, False, False, False, False, False,\n",
       "       False, False, False, False, False, False, False, False, False,\n",
       "       False, False, False, False, False, False, False, False, False,\n",
       "       False, False, False, False, False, False, False, False, False,\n",
       "       False, False, False, False, False, False, False, False, False,\n",
       "       False, False, False, False, False, False, False, False, False,\n",
       "       False, False, False, False, False, False, False, False, False])"
      ]
     },
     "execution_count": 121,
     "metadata": {},
     "output_type": "execute_result"
    }
   ],
   "source": [
    "X_train_.installation_id.unique() == '0cc2a247'"
   ]
  },
  {
   "cell_type": "code",
   "execution_count": 117,
   "metadata": {},
   "outputs": [
    {
     "data": {
      "text/plain": [
       "array(['4957364e', 'b9c0d4e6', '0cc2a247', '6272cc94', '5e6ed2dd',\n",
       "       '9bc0aa21', '67f82169', '61bd0825', '9591b4ea', '9e4b248c',\n",
       "       '62b5ecea', '86c360c0', 'a8cded22', 'e19d251f', 'e96f8e66',\n",
       "       'b5f2a931', 'f35fb7aa', '95724e3b', '7c2166a6'], dtype=object)"
      ]
     },
     "execution_count": 117,
     "metadata": {},
     "output_type": "execute_result"
    }
   ],
   "source": [
    "X_valid.installation_id.unique()"
   ]
  },
  {
   "cell_type": "markdown",
   "metadata": {},
   "source": [
    "## Creating a baseline fit with basic data to prep the model"
   ]
  },
  {
   "cell_type": "code",
   "execution_count": 122,
   "metadata": {},
   "outputs": [],
   "source": [
    "def fit_lgbm(params, output=False, X_train_=X_train, X_test_=X_test, y_train_=y_train):\n",
    "    wandb.init()\n",
    "    params = {\n",
    "        'boosting_type': params['boosting_type'],\n",
    "        'num_folds': int(params['num_folds']),\n",
    "        'num_leaves': int(params['num_leaves']),\n",
    "        'max_depth': int(params['max_depth']),\n",
    "        'learning_rate': params['learning_rate'],\n",
    "        'num_boosting_round': int(params['num_boosting_round']),\n",
    "        'metric': params['metric'],\n",
    "        'verbose': params['verbose'],\n",
    "        \"subsample\": params['subsample'],\n",
    "        \"colsample_bytree\": params['colsample_bytree'],\n",
    "        \"random_state\": int(params['random_state']),\n",
    "        'min_child_samples': int(params['min_child_samples'])\n",
    "    }\n",
    "    \n",
    "    # Get folds - this should be updated to grouped k fold\n",
    "    num_folds = int(params['num_folds'])\n",
    "    installation_ids = np.array(sorted(X_train_['installation_id']))\n",
    "    \n",
    "    # Setting up folds grouped by installation_id\n",
    "    folds = []\n",
    "    GroupKfolds = GroupKFold(n_splits=num_folds)\n",
    "    for train, valid in GroupKfolds.split(X=X_train_, groups=X_train_.installation_id):\n",
    "        folds.append([train, valid])\n",
    "        \n",
    "    # Dropping installation_id\n",
    "    X_train_ = X_train_.drop(columns=['installation_id'])\n",
    "    X_test_ = X_test_.drop(columns=['installation_id'])\n",
    "\n",
    "    \n",
    "    # Initializing Variables\n",
    "    prd_train = pd.Series(np.zeros(y_train_.shape[0]))\n",
    "    prd_round_train = pd.Series(np.zeros(y_train_.shape[0]))\n",
    "    prd_test = np.zeros(X_test_.shape[0])\n",
    "    imp = pd.DataFrame()\n",
    "    MSE = 0\n",
    "    avg_kappa = 0\n",
    "\n",
    "    for n_fld, (trn_idx, vld_idx) in enumerate(folds):\n",
    "        X_train__, y_train__ = X_train_.iloc[trn_idx], y_train_.iloc[trn_idx]\n",
    "        X_valid, y_valid = X_train_.iloc[vld_idx], y_train_.loc[vld_idx]\n",
    "\n",
    "        lgb = LGBMRegressor(**params)\n",
    "\n",
    "        # Fit the model\n",
    "        lgb.fit(X_train__, y_train__)\n",
    "\n",
    "        # applying the model to the validation data\n",
    "        prd_valid = lgb.predict(X_valid)\n",
    "        # Calculating and outputting the RMSE\n",
    "        y_valid = np.array(y_valid.astype(int))\n",
    "        prd_valid = np.array(np.round(prd_valid, decimals=0).astype(int))\n",
    "        fld_MSE = (np.square(y_valid - prd_valid)).mean()\n",
    "        fld_QWK = quadratic_weighted_kappa(y_valid, prd_valid)\n",
    "        wandb.log({'fold_RMSE': fld_MSE, 'fold_kappa': fld_QWK}, step=n_fld + 1)\n",
    "        # Summing mean squared errors\n",
    "        MSE += fld_MSE/num_folds\n",
    "\n",
    "        # Applying predictions to the train set weighted by the MSE\n",
    "        prd = lgb.predict(X_valid)\n",
    "        prd_train.iloc[vld_idx] = prd\n",
    "        prd = np.array(np.round(prd, decimals=0).astype(int))\n",
    "        prd_round_train.iloc[vld_idx] = prd\n",
    "\n",
    "        # Applying predictions to the test set weighted by the MSE\n",
    "        prd = lgb.predict(X_test_)\n",
    "        prd_test += prd/num_folds\n",
    "\n",
    "        # Calculating the fold importance\n",
    "        imp_df = pd.DataFrame()\n",
    "        imp_df['fts'] = X_train__.columns\n",
    "        imp_df['imp'] = lgb.booster_.feature_importance(importance_type='gain')\n",
    "\n",
    "        # Summing the fold importances\n",
    "        imp_df['fld'] = n_fld+1\n",
    "        imp = pd.concat([imp, imp_df], axis=0, sort=False)\n",
    "        gc.collect()\n",
    "        \n",
    "    Importances = imp[[\"fts\", \"imp\"]].groupby(\"fts\").mean().sort_values(by=\"imp\", ascending=False)[:60]\n",
    "\n",
    "    wandb.log({\"Importances\": wandb.Table(data=Importances.reset_index().values.tolist(), columns=['Fetures', 'Importances'])})\n",
    "    wandb.log(config)\n",
    "    wandb.log(params)\n",
    "    wandb.log({'RMSE': np.sqrt(MSE), 'kappa': quadratic_weighted_kappa(y_train_, prd_round_train)})\n",
    "    \n",
    "    output = {\n",
    "        'loss': -quadratic_weighted_kappa(y_train_, prd_round_train), \n",
    "        'status': STATUS_OK, \n",
    "        'other_stuff': {\n",
    "            'Importance': Importances.to_dict(), \n",
    "            'prd_test': prd_test, \n",
    "            'prd_train': prd_train\n",
    "        }\n",
    "    }\n",
    "    \n",
    "    return output"
   ]
  },
  {
   "cell_type": "code",
   "execution_count": 123,
   "metadata": {},
   "outputs": [],
   "source": [
    "param_space = {\n",
    "    'boosting_type': hp.choice('boosting_type', ['gbdt']),\n",
    "    'num_folds': 5, # hp.quniform('num_folds', 4, 11, 1),\n",
    "    'num_leaves': 31, # hp.quniform('num_leaves', 30, 33, 1),\n",
    "    'max_depth': 17, # hp.quniform('max_depth', 15, 19, 1),\n",
    "    'learning_rate': 0.10228392552169215, # hp.loguni form('learning_rate', np.log(0.02), np.log(0.5)),\n",
    "    'num_boosting_round': 7143, # hp.loguniform('learning_rate', np.log(500), np.log(10000)),\n",
    "    'metric': 'cappa', # hp.choice('metric', ['cappa', 'rmse']),\n",
    "    'verbose': -1,\n",
    "    'subsample': hp.loguniform('subsample', np.log(0.95), np.log(1)), # 0.9636096100279673,\n",
    "    'colsample_bytree': hp.loguniform('colsample_bytree', np.log(0.5), np.log(1)), # 0.666624460958229,\n",
    "    'random_state': 42,\n",
    "    'min_child_samples': 17 # hp.quniform('min_child_samples', 5, 20, 1)\n",
    "}"
   ]
  },
  {
   "cell_type": "code",
   "execution_count": 124,
   "metadata": {},
   "outputs": [],
   "source": [
    "# # Hyperparameter optimisation\n",
    "# trials = Trials()\n",
    "# best = fmin(fn=fit_lgbm, space=param_space, algo=tpe.suggest, max_evals=config['num_trials'], trials=trials, verbose=1,\n",
    "#            rstate=np.random.RandomState(config['random_seed']))"
   ]
  },
  {
   "cell_type": "code",
   "execution_count": 125,
   "metadata": {},
   "outputs": [],
   "source": [
    "# best_kappa = 0\n",
    "# best_trial = None\n",
    "# for trial in trials.results:\n",
    "#     if best_kappa < -trial['loss']:\n",
    "#         best_trial = trial"
   ]
  },
  {
   "cell_type": "code",
   "execution_count": 126,
   "metadata": {},
   "outputs": [],
   "source": [
    "# Initializing lgbm paramaters\n",
    "params = {\n",
    "    'boosting_type': 'gbdt',\n",
    "    'num_folds': 5,\n",
    "    'num_leaves': 35,\n",
    "    'max_depth': 15,\n",
    "    'learning_rate': 0.13207093348932283,\n",
    "    'num_boosting_round': 993,\n",
    "    'metric': 'cappa',\n",
    "    'verbose': 1,\n",
    "    \"subsample\": 0.9192339068217118,\n",
    "    \"colsample_bytree\": 0.5192763547184641,\n",
    "    \"random_state\": 42,\n",
    "    'min_child_samples': 16\n",
    "}"
   ]
  },
  {
   "cell_type": "code",
   "execution_count": 127,
   "metadata": {},
   "outputs": [
    {
     "data": {
      "text/html": [
       "\n",
       "                Logging results to <a href=\"https://wandb.com\" target=\"_blank\">Weights & Biases</a> <a href=\"https://docs.wandb.com/integrations/jupyter.html\" target=\"_blank\">(Documentation)</a>.<br/>\n",
       "                Project page: <a href=\"https://app.wandb.ai/jake_cherrie/pbs-early-learning\" target=\"_blank\">https://app.wandb.ai/jake_cherrie/pbs-early-learning</a><br/>\n",
       "                Run page: <a href=\"https://app.wandb.ai/jake_cherrie/pbs-early-learning/runs/s2lph75k\" target=\"_blank\">https://app.wandb.ai/jake_cherrie/pbs-early-learning/runs/s2lph75k</a><br/>\n",
       "            "
      ],
      "text/plain": [
       "<IPython.core.display.HTML object>"
      ]
     },
     "metadata": {},
     "output_type": "display_data"
    }
   ],
   "source": [
    "best_trial = fit_lgbm(params, X_train_=X_train, X_test_=X_test, y_train_=y_train)"
   ]
  },
  {
   "cell_type": "code",
   "execution_count": 128,
   "metadata": {},
   "outputs": [],
   "source": [
    "Importances = pd.DataFrame(list(best_trial['other_stuff']['Importance']['imp'].items()), columns=['Feature', 'Importance'])"
   ]
  },
  {
   "cell_type": "code",
   "execution_count": 129,
   "metadata": {},
   "outputs": [
    {
     "data": {
      "text/plain": [
       "Text(0.5, 1.0, 'Features (avg over folds)')"
      ]
     },
     "execution_count": 129,
     "metadata": {},
     "output_type": "execute_result"
    },
    {
     "data": {
      "image/png": "[encoded data removed]",
      "text/plain": [
       "<Figure size 576x864 with 1 Axes>"
      ]
     },
     "metadata": {
      "needs_background": "light"
     },
     "output_type": "display_data"
    }
   ],
   "source": [
    "# Ploting feature importances\n",
    "Importances['Log Importance'] = np.log1p(Importances['Importance'])\n",
    "plt.figure(figsize=(8, 12))\n",
    "sns.barplot(x=\"Log Importance\", y=\"Feature\", data=Importances.sort_values(by=\"Importance\", ascending=False))\n",
    "plt.title('Features (avg over folds)')"
   ]
  },
  {
   "cell_type": "code",
   "execution_count": 130,
   "metadata": {},
   "outputs": [],
   "source": [
    "def rounder(x, split_1, split_2, split_3):\n",
    "    if x > split_3:\n",
    "        return 3\n",
    "    elif x > split_2:\n",
    "        return 2\n",
    "    elif x > split_1:\n",
    "        return 1\n",
    "    else:\n",
    "        return 0"
   ]
  },
  {
   "cell_type": "code",
   "execution_count": 131,
   "metadata": {},
   "outputs": [],
   "source": [
    "split_space = {\n",
    "    'split_1': hp.normal('split_1', 0.6, 1.2),\n",
    "    'split_2': hp.normal('split_2', 1.4, 1.6), \n",
    "    'split_3': hp.normal('split_3', 2, 2.4)\n",
    "}"
   ]
  },
  {
   "cell_type": "code",
   "execution_count": 132,
   "metadata": {},
   "outputs": [],
   "source": [
    "def optimise_rounder(params, prd_train=best_trial['other_stuff']['prd_train'], y_train=y_train):\n",
    "    splits = (params['split_1'], params['split_2'], params['split_3'])\n",
    "    prd_train = prd_train.apply(rounder, args=splits)\n",
    "    return -quadratic_weighted_kappa(y_train, prd_train)"
   ]
  },
  {
   "cell_type": "code",
   "execution_count": 133,
   "metadata": {},
   "outputs": [
    {
     "name": "stdout",
     "output_type": "stream",
     "text": [
      "100%|██████████| 1000/1000 [00:07<00:00, 131.69it/s, best loss: -0.7932709496070511]\n"
     ]
    },
    {
     "data": {
      "text/plain": [
       "{'split_1': 0.634137397064771,\n",
       " 'split_2': 1.7760870352396507,\n",
       " 'split_3': 2.0578329632448384}"
      ]
     },
     "execution_count": 133,
     "metadata": {},
     "output_type": "execute_result"
    }
   ],
   "source": [
    "# Single line bayesian optimization of polynomial function\n",
    "splits = fmin(fn=optimise_rounder, space=split_space, algo=tpe.suggest, max_evals=1000, \n",
    "              rstate=np.random.RandomState(config['random_seed']))\n",
    "splits"
   ]
  },
  {
   "cell_type": "code",
   "execution_count": 134,
   "metadata": {},
   "outputs": [],
   "source": [
    "splits = {\n",
    "    'split_1': 0.634137397064771,\n",
    "    'split_2': 1.7760870352396507,\n",
    "    'split_3': 2.0578329632448384\n",
    "}"
   ]
  },
  {
   "cell_type": "code",
   "execution_count": 135,
   "metadata": {},
   "outputs": [],
   "source": [
    "args = (splits['split_1'], splits['split_2'], splits['split_3'])\n",
    "prd_test = pd.Series(best_trial['other_stuff']['prd_test']).apply(rounder, args=args)"
   ]
  },
  {
   "cell_type": "code",
   "execution_count": 136,
   "metadata": {},
   "outputs": [],
   "source": [
    "submission = pd.DataFrame({'installation_id': X_test.installation_id, 'accuracy_group': prd_test.astype(int)})"
   ]
  },
  {
   "cell_type": "code",
   "execution_count": 137,
   "metadata": {},
   "outputs": [],
   "source": [
    "# best_trial['other_stuff']['prd_test']"
   ]
  },
  {
   "cell_type": "code",
   "execution_count": 138,
   "metadata": {},
   "outputs": [],
   "source": [
    "submission.to_csv(\"../data/submission.csv\", index=False)"
   ]
  },
  {
   "cell_type": "code",
   "execution_count": 139,
   "metadata": {},
   "outputs": [
    {
     "data": {
      "text/plain": [
       "1    1.0\n",
       "Name: accuracy_group, dtype: float64"
      ]
     },
     "execution_count": 139,
     "metadata": {},
     "output_type": "execute_result"
    }
   ],
   "source": [
    "submission['accuracy_group'].value_counts(normalize=True)"
   ]
  },
  {
   "cell_type": "code",
   "execution_count": 140,
   "metadata": {},
   "outputs": [
    {
     "data": {
      "text/plain": [
       "1    0.444944\n",
       "3    0.370787\n",
       "0    0.112360\n",
       "2    0.071910\n",
       "Name: accuracy_group, dtype: float64"
      ]
     },
     "execution_count": 140,
     "metadata": {},
     "output_type": "execute_result"
    }
   ],
   "source": [
    "y_train.value_counts(normalize=True)"
   ]
  },
  {
   "cell_type": "code",
   "execution_count": null,
   "metadata": {},
   "outputs": [],
   "source": []
  },
  {
   "cell_type": "code",
   "execution_count": null,
   "metadata": {},
   "outputs": [],
   "source": []
  }
 ],
 "metadata": {
  "kernelspec": {
   "display_name": "Python 3",
   "language": "python",
   "name": "python3"
  },
  "language_info": {
   "codemirror_mode": {
    "name": "ipython",
    "version": 3
   },
   "file_extension": ".py",
   "mimetype": "text/x-python",
   "name": "python",
   "nbconvert_exporter": "python",
   "pygments_lexer": "ipython3",
   "version": "3.7.5"
  }
 },
 "nbformat": 4,
 "nbformat_minor": 4
}
