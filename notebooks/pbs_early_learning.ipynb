{
 "cells": [
  {
   "cell_type": "markdown",
   "metadata": {},
   "source": [
    "# Uncover the factors to help measure how young children learn"
   ]
  },
  {
   "cell_type": "markdown",
   "metadata": {},
   "source": [
    "### Setting Up"
   ]
  },
  {
   "cell_type": "code",
   "execution_count": 1,
   "metadata": {},
   "outputs": [],
   "source": [
    "# File system management\n",
    "import os\n",
    "import gc\n",
    "\n",
    "# Numpy and pandas for data analysis and manipulation\n",
    "import numpy as np\n",
    "import pandas as pd\n",
    "\n",
    "# Json for converting string to dict\n",
    "import json\n",
    "\n",
    "# Random for random\n",
    "import random\n",
    "\n",
    "# Datetime for handling date time variables\n",
    "import datetime as dt\n",
    "\n",
    "# Matplotlib pyplot and seaborn for plotting\n",
    "import matplotlib.pyplot as plt\n",
    "import seaborn as sns\n",
    "\n",
    "# Algorithms\n",
    "from sklearn.ensemble import RandomForestClassifier as rf\n",
    "from xgboost import XGBClassifier as xgb\n",
    "from lightgbm import LGBMClassifier as lgbm\n",
    "from lightgbm import LGBMRegressor\n",
    "\n",
    "# Sklearn importing folding methods\n",
    "from sklearn.model_selection import train_test_split, KFold, StratifiedKFold, GroupKFold\n",
    "from sklearn.preprocessing import LabelEncoder\n",
    "\n",
    "# Sklearn importing evaluation metrics\n",
    "from sklearn.metrics import roc_curve, auc, roc_auc_score, log_loss, accuracy_score, confusion_matrix\n",
    "\n",
    "# Hyper paramater optimisation\n",
    "from hyperopt import hp, tpe, Trials, STATUS_OK\n",
    "from hyperopt.fmin import fmin\n",
    "\n",
    "# Weights and Biases for model control\n",
    "import wandb\n",
    "\n",
    "# tqdm for progress management\n",
    "from tqdm import tqdm"
   ]
  },
  {
   "cell_type": "code",
   "execution_count": 2,
   "metadata": {},
   "outputs": [],
   "source": [
    "# Setting up\n",
    "config = {\n",
    "    'method': 'LightGBM',\n",
    "    'debug': True,\n",
    "    'debug_train_size': 100,\n",
    "    'debug_test_size': 50,\n",
    "    'random_seed': 42,\n",
    "    'num_trials': 20\n",
    "}"
   ]
  },
  {
   "cell_type": "markdown",
   "metadata": {},
   "source": [
    "## Functions"
   ]
  },
  {
   "cell_type": "code",
   "execution_count": 3,
   "metadata": {},
   "outputs": [],
   "source": [
    "def ml_encoder(train, test, encode_columns, threshold=7, nan_as_category=True):\n",
    "    \"\"\"\n",
    "    One-hot and label encoder with thresholds for categorical columns\n",
    "    \"\"\"\n",
    "    # Union train and test to make sure all categories are represented\n",
    "    df = pd.concat([train, test], ignore_index=True)\n",
    "    \n",
    "    # Unchanged columns\n",
    "    keep_df = df[df.columns[~df.columns.isin(encode_columns)]]\n",
    "\n",
    "    # Number of categories\n",
    "    num_categories = df[encode_columns].describe(include='all').loc['unique']\n",
    "    \n",
    "    # Label encoding\n",
    "    label_columns = num_categories.where(num_categories >= threshold).dropna().index\n",
    "    le = LabelEncoder()\n",
    "    label_df = df[label_columns].apply(lambda col: le.fit_transform(col))\n",
    "    print(label_df.head())\n",
    "    \n",
    "    # One hot encoding\n",
    "    one_hot_columns = num_categories.where(num_categories < threshold).dropna().index\n",
    "    one_hot = [col for col in list(one_hot_columns) if df[col].dtype == 'object']\n",
    "    one_hot_df = pd.get_dummies(df, columns=one_hot_columns, dummy_na=nan_as_category)\n",
    "    print(one_hot_df.head())\n",
    "    \n",
    "    # Rebuild the dataframe\n",
    "    df = pd.concat([keep_df, label_df, one_hot_df], axis=1)\n",
    "    \n",
    "    train = df.iloc[:len(train.index)]\n",
    "    test = df.iloc[len(train.index):].reset_index().drop(columns=['index'])\n",
    "    \n",
    "    return train, test, le"
   ]
  },
  {
   "cell_type": "code",
   "execution_count": 4,
   "metadata": {},
   "outputs": [],
   "source": [
    "# Using Ben Hamners quadratic weighted Kappa https://github.com/benhamner/Metrics/blob/master/Python/ml_metrics/quadratic_weighted_kappa.py\n",
    "def confusion_matrix(rater_a, rater_b, min_rating=None, max_rating=None):\n",
    "    \"\"\"\n",
    "    Returns the confusion matrix between rater's ratings\n",
    "    \"\"\"\n",
    "    assert(len(rater_a) == len(rater_b))\n",
    "    if min_rating is None:\n",
    "        min_rating = min(rater_a + rater_b)\n",
    "    if max_rating is None:\n",
    "        max_rating = max(rater_a + rater_b)\n",
    "    num_ratings = int(max_rating - min_rating + 1)\n",
    "    conf_mat = [[0 for i in range(num_ratings)]\n",
    "                for j in range(num_ratings)]\n",
    "    for a, b in zip(rater_a, rater_b):\n",
    "        conf_mat[a - min_rating][b - min_rating] += 1\n",
    "    return conf_mat\n",
    "\n",
    "\n",
    "def histogram(ratings, min_rating=None, max_rating=None):\n",
    "    \"\"\"\n",
    "    Returns the counts of each type of rating that a rater made\n",
    "    \"\"\"\n",
    "    if min_rating is None:\n",
    "        min_rating = min(ratings)\n",
    "    if max_rating is None:\n",
    "        max_rating = max(ratings)\n",
    "    num_ratings = int(max_rating - min_rating + 1)\n",
    "    hist_ratings = [0 for x in range(num_ratings)]\n",
    "    for r in ratings:\n",
    "        hist_ratings[r - min_rating] += 1\n",
    "    return hist_ratings\n",
    "\n",
    "\n",
    "def quadratic_weighted_kappa(rater_a, rater_b, min_rating=None, max_rating=None):\n",
    "    \"\"\"\n",
    "    Calculates the quadratic weighted kappa\n",
    "    quadratic_weighted_kappa calculates the quadratic weighted kappa\n",
    "    value, which is a measure of inter-rater agreement between two raters\n",
    "    that provide discrete numeric ratings.  Potential values range from -1\n",
    "    (representing complete disagreement) to 1 (representing complete\n",
    "    agreement).  A kappa value of 0 is expected if all agreement is due to\n",
    "    chance.\n",
    "    quadratic_weighted_kappa(rater_a, rater_b), where rater_a and rater_b\n",
    "    each correspond to a list of integer ratings.  These lists must have the\n",
    "    same length.\n",
    "    The ratings should be integers, and it is assumed that they contain\n",
    "    the complete range of possible ratings.\n",
    "    quadratic_weighted_kappa(X, min_rating, max_rating), where min_rating\n",
    "    is the minimum possible rating, and max_rating is the maximum possible\n",
    "    rating\n",
    "    \"\"\"\n",
    "    rater_a = np.array(rater_a, dtype=int)\n",
    "    rater_b = np.array(rater_b, dtype=int)\n",
    "    assert(len(rater_a) == len(rater_b))\n",
    "    if min_rating is None:\n",
    "        min_rating = min(min(rater_a), min(rater_b))\n",
    "    if max_rating is None:\n",
    "        max_rating = max(max(rater_a), max(rater_b))\n",
    "    conf_mat = confusion_matrix(rater_a, rater_b,\n",
    "                                min_rating, max_rating)\n",
    "    num_ratings = len(conf_mat)\n",
    "    num_scored_items = float(len(rater_a))\n",
    "\n",
    "    hist_rater_a = histogram(rater_a, min_rating, max_rating)\n",
    "    hist_rater_b = histogram(rater_b, min_rating, max_rating)\n",
    "\n",
    "    numerator = 0.0\n",
    "    denominator = 0.0\n",
    "\n",
    "    for i in range(num_ratings):\n",
    "        for j in range(num_ratings):\n",
    "            expected_count = (hist_rater_a[i] * hist_rater_b[j]\n",
    "                              / num_scored_items)\n",
    "            d = pow(i - j, 2.0) / pow(num_ratings - 1, 2.0)\n",
    "            numerator += d * conf_mat[i][j] / num_scored_items\n",
    "            denominator += d * expected_count / num_scored_items\n",
    "\n",
    "    return 1.0 - numerator / denominator\n"
   ]
  },
  {
   "cell_type": "markdown",
   "metadata": {},
   "source": [
    "### Importing Data"
   ]
  },
  {
   "cell_type": "markdown",
   "metadata": {},
   "source": [
    "Can be commented out after the first run"
   ]
  },
  {
   "cell_type": "code",
   "execution_count": 5,
   "metadata": {},
   "outputs": [],
   "source": [
    "# y_train = pd.read_csv(\"../data/train_labels.csv\")\n",
    "# # Saving full training set as feather\n",
    "# y_train.reset_index().drop(columns = ['index']).to_feather(\"../data/y_train.feather\")\n",
    "# print(y_train.shape)\n",
    "# # Creating sample for debuging\n",
    "# sample = pd.Series(y_train['installation_id'].unique()).sample(config['debug_train_size'], random_state=config['random_seed'])\n",
    "# y_train_sample = y_train.where(y_train['installation_id'].isin(sample)).dropna()\n",
    "# y_train_sample.reset_index().drop(columns = ['index']).to_feather(\"../data/y_train_sample.feather\")\n",
    "# print(y_train_sample.shape)"
   ]
  },
  {
   "cell_type": "code",
   "execution_count": 6,
   "metadata": {},
   "outputs": [],
   "source": [
    "# X_train = pd.read_csv(\"../data/train.csv\")\n",
    "# # Droping ids that never had an assessment\n",
    "# assessed = y_train['installation_id']\n",
    "# X_train = X_train.where(X_train['installation_id'].isin(assessed)).dropna()\n",
    "# # Saving full training set as feather\n",
    "# X_train.reset_index().drop(columns = ['index']).to_feather(\"../data/X_train.feather\")\n",
    "# print(X_train.shape)\n",
    "# # Creating sample for config['debug']ing\n",
    "# X_train_sample = X_train.where(X_train['installation_id'].isin(sample)).dropna()\n",
    "# X_train_sample.reset_index().drop(columns = ['index']).to_feather(\"../data/X_train_sample.feather\")\n",
    "# print(X_train_sample.shape)"
   ]
  },
  {
   "cell_type": "code",
   "execution_count": 7,
   "metadata": {},
   "outputs": [],
   "source": [
    "# X_test = pd.read_csv(\"../data/test.csv\")\n",
    "# # Saving full training set as feather\n",
    "# X_test.reset_index().to_feather(\"../data/X_test.feather\")\n",
    "# print(X_test.shape)\n",
    "# # Creating test sample for config['debug']ing\n",
    "# test_sample = pd.Series(X_test['installation_id'].unique()).sample(config['debug_test_size'], random_state=config['random_seed'])\n",
    "# X_test_sample = X_test.where(X_test['installation_id'].isin(test_sample)).dropna()\n",
    "# X_test_sample.reset_index().drop(columns = ['index']).to_feather(\"../data/X_test_sample.feather\")\n",
    "# print(X_test_sample.shape)"
   ]
  },
  {
   "cell_type": "code",
   "execution_count": 8,
   "metadata": {},
   "outputs": [],
   "source": [
    "# Loading training set from feather\n",
    "if config['debug']:\n",
    "    X_train = pd.read_feather(\"../data/X_train_sample.feather\")\n",
    "else:\n",
    "    X_train = pd.read_feather(\"../data/X_train.feather\")"
   ]
  },
  {
   "cell_type": "code",
   "execution_count": 9,
   "metadata": {},
   "outputs": [],
   "source": [
    "# Loading training target set from feather\n",
    "if config['debug']:\n",
    "    y_train = pd.read_feather(\"../data/y_train_sample.feather\")\n",
    "else:\n",
    "    y_train = pd.read_feather(\"../data/y_train.feather\")"
   ]
  },
  {
   "cell_type": "code",
   "execution_count": 10,
   "metadata": {},
   "outputs": [],
   "source": [
    "# Loading testing set from feather\n",
    "if config['debug']:\n",
    "    X_test = pd.read_feather(\"../data/X_test_sample.feather\")\n",
    "else:\n",
    "    X_test = pd.read_feather(\"../data/X_test.feather\")"
   ]
  },
  {
   "cell_type": "code",
   "execution_count": 11,
   "metadata": {},
   "outputs": [
    {
     "data": {
      "text/plain": [
       "73"
      ]
     },
     "execution_count": 11,
     "metadata": {},
     "output_type": "execute_result"
    }
   ],
   "source": [
    "gc.collect()"
   ]
  },
  {
   "cell_type": "markdown",
   "metadata": {},
   "source": [
    "## Feature Engineering"
   ]
  },
  {
   "cell_type": "markdown",
   "metadata": {},
   "source": [
    "##### Creating temporal features"
   ]
  },
  {
   "cell_type": "code",
   "execution_count": 12,
   "metadata": {},
   "outputs": [],
   "source": [
    "X_train['weekday'] = pd.to_datetime(X_train['timestamp']).dt.weekday\n",
    "X_test['weekday'] = pd.to_datetime(X_test['timestamp']).dt.weekday"
   ]
  },
  {
   "cell_type": "code",
   "execution_count": 13,
   "metadata": {},
   "outputs": [],
   "source": [
    "X_train['time']  = pd.to_datetime(X_train['timestamp']).dt.hour\n",
    "X_test['time']  = pd.to_datetime(X_test['timestamp']).dt.hour"
   ]
  },
  {
   "cell_type": "code",
   "execution_count": 14,
   "metadata": {},
   "outputs": [],
   "source": [
    "X_train['month'] = pd.to_datetime(X_train['timestamp']).dt.month\n",
    "X_test['month'] = pd.to_datetime(X_test['timestamp']).dt.month"
   ]
  },
  {
   "cell_type": "code",
   "execution_count": 15,
   "metadata": {},
   "outputs": [],
   "source": [
    "def encode_title(train, test, train_labels):\n",
    "    # encode title\n",
    "    train['title_event_code'] = list(map(lambda x, y: str(x) + '_' + str(y), train['title'], train['event_code']))\n",
    "    test['title_event_code'] = list(map(lambda x, y: str(x) + '_' + str(y), test['title'], test['event_code']))\n",
    "    all_title_event_code = list(set(train[\"title_event_code\"].unique()).union(test[\"title_event_code\"].unique()))\n",
    "    # make a list with all the unique 'titles' from the train and test set\n",
    "    list_of_user_activities = list(set(train['title'].unique()).union(set(test['title'].unique())))\n",
    "    # make a list with all the unique 'event_code' from the train and test set\n",
    "    list_of_event_code = list(set(train['event_code'].unique()).union(set(test['event_code'].unique())))\n",
    "    list_of_event_id = list(set(train['event_id'].unique()).union(set(test['event_id'].unique())))\n",
    "    # make a list with all the unique worlds from the train and test set\n",
    "    list_of_worlds = list(set(train['world'].unique()).union(set(test['world'].unique())))\n",
    "    # create a dictionary numerating the titles\n",
    "    activities_map = dict(zip(list_of_user_activities, np.arange(len(list_of_user_activities))))\n",
    "    activities_labels = dict(zip(np.arange(len(list_of_user_activities)), list_of_user_activities))\n",
    "    activities_world = dict(zip(list_of_worlds, np.arange(len(list_of_worlds))))\n",
    "    assess_titles = list(set(train[train['type'] == 'Assessment']['title'].value_counts().index).union(set(test[test['type'] == 'Assessment']['title'].value_counts().index)))\n",
    "    # replace the text titles with the number titles from the dict\n",
    "    train['title'] = train['title'].map(activities_map)\n",
    "    test['title'] = test['title'].map(activities_map)\n",
    "    train['world'] = train['world'].map(activities_world)\n",
    "    test['world'] = test['world'].map(activities_world)\n",
    "    train_labels['title'] = train_labels['title'].map(activities_map)\n",
    "    win_code = dict(zip(activities_map.values(), (4100*np.ones(len(activities_map))).astype('int')))\n",
    "    # then, it set one element, the 'Bird Measurer (Assessment)' as 4110, 10 more than the rest\n",
    "    win_code[activities_map['Bird Measurer (Assessment)']] = 4110\n",
    "    # convert text into datetime\n",
    "    train['timestamp'] = pd.to_datetime(train['timestamp'])\n",
    "    test['timestamp'] = pd.to_datetime(test['timestamp'])\n",
    "    \n",
    "    return train, test, train_labels, win_code, list_of_user_activities, list_of_event_code, activities_labels, assess_titles, list_of_event_id, all_title_event_code\n",
    "\n",
    "X_train, X_test, y_train, win_code, list_of_user_activities, list_of_event_code, activities_labels, assess_titles, list_of_event_id, all_title_event_code = encode_title(X_train, X_test, y_train)"
   ]
  },
  {
   "cell_type": "code",
   "execution_count": 16,
   "metadata": {},
   "outputs": [
    {
     "data": {
      "text/plain": [
       "201195"
      ]
     },
     "execution_count": 16,
     "metadata": {},
     "output_type": "execute_result"
    }
   ],
   "source": [
    "X_train.shape[0]"
   ]
  },
  {
   "cell_type": "code",
   "execution_count": 17,
   "metadata": {},
   "outputs": [],
   "source": [
    "def get_data(user_sample, test_set=False):\n",
    "    '''\n",
    "    The user_sample is a DataFrame from train or test where the only one \n",
    "    installation_id is filtered\n",
    "    And the test_set parameter is related with the labels processing, that is only requered\n",
    "    if test_set=False\n",
    "    '''\n",
    "    # Constants and parameters declaration\n",
    "    last_activity = 0\n",
    "    \n",
    "    user_activities_count = {'Clip':0, 'Activity': 0, 'Assessment': 0, 'Game':0}\n",
    "    \n",
    "    # new features: time spent in each activity\n",
    "    last_session_time_sec = 0\n",
    "    accuracy_groups = {0:0, 1:0, 2:0, 3:0}\n",
    "    all_assessments = []\n",
    "    accumulated_accuracy_group = 0\n",
    "    accumulated_accuracy = 0\n",
    "    accumulated_correct_attempts = 0 \n",
    "    accumulated_uncorrect_attempts = 0\n",
    "    accumulated_actions = 0\n",
    "    counter = 0\n",
    "    time_first_activity = float(user_sample['timestamp'].values[0])\n",
    "    durations = []\n",
    "    last_accuracy_title = {'acc_' + title: -1 for title in assess_titles}\n",
    "    event_code_count: Dict[str, int] = {ev: 0 for ev in list_of_event_code}\n",
    "    event_id_count: Dict[str, int] = {eve: 0 for eve in list_of_event_id}\n",
    "    title_count: Dict[str, int] = {eve: 0 for eve in activities_labels.values()} \n",
    "    title_event_code_count: Dict[str, int] = {t_eve: 0 for t_eve in all_title_event_code}\n",
    "    \n",
    "    # itarates through each session of one instalation_id\n",
    "    for i, session in user_sample.groupby('game_session', sort=False):\n",
    "        # i = game_session_id\n",
    "        # session is a DataFrame that contain only one game_session\n",
    "        \n",
    "        # get some sessions information\n",
    "        session_type = session['type'].iloc[0]\n",
    "        session_title = session['title'].iloc[0]\n",
    "        session_title_text = activities_labels[session_title]\n",
    "                    \n",
    "            \n",
    "        # for each assessment, and only this kind off session, the features below are processed\n",
    "        # and a register are generated\n",
    "        if (session_type == 'Assessment') & (test_set or len(session)>1):\n",
    "            # search for event_code 4100, that represents the assessments trial\n",
    "            all_attempts = session.query(f'event_code == {win_code[session_title]}')\n",
    "            # then, check the numbers of wins and the number of losses\n",
    "            true_attempts = all_attempts['event_data'].str.contains('true').sum()\n",
    "            false_attempts = all_attempts['event_data'].str.contains('false').sum()\n",
    "            # copy a dict to use as feature template, it's initialized with some itens: \n",
    "            # {'Clip':0, 'Activity': 0, 'Assessment': 0, 'Game':0}\n",
    "            features = user_activities_count.copy()\n",
    "            features.update(last_accuracy_title.copy())\n",
    "            features.update(event_code_count.copy())\n",
    "            features.update(event_id_count.copy())\n",
    "            features.update(title_count.copy())\n",
    "            features.update(title_event_code_count.copy())\n",
    "            features.update(last_accuracy_title.copy())\n",
    "            \n",
    "            # get installation_id for aggregated features\n",
    "            features['installation_id'] = session['installation_id'].iloc[-1]\n",
    "            # add title as feature, remembering that title represents the name of the game\n",
    "            features['session_title'] = session['title'].iloc[0]\n",
    "            # the 4 lines below add the feature of the history of the trials of this player\n",
    "            # this is based on the all time attempts so far, at the moment of this assessment\n",
    "            features['accumulated_correct_attempts'] = accumulated_correct_attempts\n",
    "            features['accumulated_uncorrect_attempts'] = accumulated_uncorrect_attempts\n",
    "            accumulated_correct_attempts += true_attempts \n",
    "            accumulated_uncorrect_attempts += false_attempts\n",
    "            # the time spent in the app so far\n",
    "            if durations == []:\n",
    "                features['duration_mean'] = 0\n",
    "            else:\n",
    "                features['duration_mean'] = np.mean(durations)\n",
    "            durations.append((session.iloc[-1, 2] - session.iloc[0, 2] ).seconds)\n",
    "            # the accurace is the all time wins divided by the all time attempts\n",
    "            features['accumulated_accuracy'] = accumulated_accuracy/counter if counter > 0 else 0\n",
    "            accuracy = true_attempts/(true_attempts+false_attempts) if (true_attempts+false_attempts) != 0 else 0\n",
    "            accumulated_accuracy += accuracy\n",
    "            last_accuracy_title['acc_' + session_title_text] = accuracy\n",
    "            # a feature of the current accuracy categorized\n",
    "            # it is a counter of how many times this player was in each accuracy group\n",
    "            if accuracy == 0:\n",
    "                features['accuracy_group'] = 0\n",
    "            elif accuracy == 1:\n",
    "                features['accuracy_group'] = 3\n",
    "            elif accuracy == 0.5:\n",
    "                features['accuracy_group'] = 2\n",
    "            else:\n",
    "                features['accuracy_group'] = 1\n",
    "            features.update(accuracy_groups)\n",
    "            accuracy_groups[features['accuracy_group']] += 1\n",
    "            # mean of the all accuracy groups of this player\n",
    "            features['accumulated_accuracy_group'] = accumulated_accuracy_group/counter if counter > 0 else 0\n",
    "            accumulated_accuracy_group += features['accuracy_group']\n",
    "            # how many actions the player has done so far, it is initialized as 0 and updated some lines below\n",
    "            features['accumulated_actions'] = accumulated_actions\n",
    "            \n",
    "            # there are some conditions to allow this features to be inserted in the datasets\n",
    "            # if it's a test set, all sessions belong to the final dataset\n",
    "            # it it's a train, needs to be passed throught this clausule: session.query(f'event_code == {win_code[session_title]}')\n",
    "            # that means, must exist an event_code 4100 or 4110\n",
    "            if test_set:\n",
    "                all_assessments.append(features)\n",
    "            elif true_attempts+false_attempts > 0:\n",
    "                all_assessments.append(features)\n",
    "                \n",
    "            counter += 1\n",
    "        \n",
    "        # this piece counts how many actions was made in each event_code so far\n",
    "        def update_counters(counter: dict, col: str):\n",
    "                num_of_session_count = Counter(session[col])\n",
    "                for k in num_of_session_count.keys():\n",
    "                    x = k\n",
    "                    if col == 'title':\n",
    "                        x = activities_labels[k]\n",
    "                    counter[x] += num_of_session_count[k]\n",
    "                return counter\n",
    "            \n",
    "        event_code_count = update_counters(event_code_count, \"event_code\")\n",
    "        event_id_count = update_counters(event_id_count, \"event_id\")\n",
    "        title_count = update_counters(title_count, 'title')\n",
    "        title_event_code_count = update_counters(title_event_code_count, 'title_event_code')\n",
    "\n",
    "        # counts how many actions the player has done so far, used in the feature of the same name\n",
    "        accumulated_actions += len(session)\n",
    "        if last_activity != session_type:\n",
    "            user_activities_count[session_type] += 1\n",
    "            last_activitiy = session_type \n",
    "                        \n",
    "    # if it't the test_set, only the last assessment must be predicted, the previous are scraped\n",
    "    if test_set:\n",
    "        return all_assessments[-1]\n",
    "    # in the train_set, all assessments goes to the dataset\n",
    "    return all_assessments"
   ]
  },
  {
   "cell_type": "code",
   "execution_count": 18,
   "metadata": {},
   "outputs": [
    {
     "name": "stderr",
     "output_type": "stream",
     "text": [
      "100%|██████████| 100/100 [00:04<00:00, 21.59it/s]\n",
      "100%|██████████| 50/50 [00:01<00:00, 31.93it/s]\n"
     ]
    }
   ],
   "source": [
    "if config['debug']:\n",
    "    train_total = 100\n",
    "    test_total = 50\n",
    "else:\n",
    "    train_total = 1700\n",
    "    test_total = 1000\n",
    "    \n",
    "def get_train_and_test(train, test):\n",
    "    compiled_train = []\n",
    "    compiled_test = []\n",
    "    for i, (ins_id, user_sample) in tqdm(enumerate(train.groupby('installation_id', sort = False)), total = train_total):\n",
    "        compiled_train += get_data(user_sample)\n",
    "    for ins_id, user_sample in tqdm(test.groupby('installation_id', sort = False), total = test_total):\n",
    "        test_data = get_data(user_sample, test_set = True)\n",
    "        compiled_test.append(test_data)\n",
    "    reduce_train = pd.DataFrame(compiled_train)\n",
    "    reduce_test = pd.DataFrame(compiled_test)\n",
    "    categoricals = ['session_title']\n",
    "    return reduce_train, reduce_test, categoricals\n",
    "\n",
    "from collections import Counter\n",
    "X_train, X_test, categoricals = get_train_and_test(X_train, X_test)"
   ]
  },
  {
   "cell_type": "code",
   "execution_count": 19,
   "metadata": {},
   "outputs": [],
   "source": [
    "def preprocess(reduce_train, reduce_test):\n",
    "    for df in [reduce_train, reduce_test]:\n",
    "        df['installation_session_count'] = df.groupby(['installation_id'])['Clip'].transform('count')\n",
    "        df['installation_duration_mean'] = df.groupby(['installation_id'])['duration_mean'].transform('mean')\n",
    "        #df['installation_duration_std'] = df.groupby(['installation_id'])['duration_mean'].transform('std')\n",
    "        df['installation_title_nunique'] = df.groupby(['installation_id'])['session_title'].transform('nunique')\n",
    "        \n",
    "        df['sum_event_code_count'] = df[[2050, 4100, 4230, 5000, 4235, 2060, 4110, 5010, 2070, 2075, 2080, 2081, 2083, 3110, 4010, 3120, 3121, 4020, 4021, \n",
    "                                        4022, 4025, 4030, 4031, 3010, 4035, 4040, 3020, 3021, 4045, 2000, 4050, 2010, 2020, 4070, 2025, 2030, 4080, 2035, \n",
    "                                        2040, 4090, 4220, 4095]].sum(axis = 1)\n",
    "        \n",
    "        df['installation_event_code_count_mean'] = df.groupby(['installation_id'])['sum_event_code_count'].transform('mean')\n",
    "        #df['installation_event_code_count_std'] = df.groupby(['installation_id'])['sum_event_code_count'].transform('std')\n",
    "        \n",
    "    features = reduce_train.loc[(reduce_train.sum(axis=1) != 0), (reduce_train.sum(axis=0) != 0)].columns # delete useless columns\n",
    "    features = [x for x in features if x not in ['accuracy_group', 'installation_id']] + ['acc_' + title for title in assess_titles]\n",
    "   \n",
    "    return reduce_train, reduce_test, features\n",
    "# call feature engineering function\n",
    "X_train, X_test, features = preprocess(X_train, X_test)"
   ]
  },
  {
   "cell_type": "markdown",
   "metadata": {},
   "source": [
    "### Basic Data Prep"
   ]
  },
  {
   "cell_type": "code",
   "execution_count": 20,
   "metadata": {},
   "outputs": [],
   "source": [
    "# Encoding\n",
    "# train, test, le = encoder(X_train, X_test, encode_columns=features, threshold=7, nan_as_category=True)"
   ]
  },
  {
   "cell_type": "code",
   "execution_count": 23,
   "metadata": {},
   "outputs": [
    {
     "name": "stdout",
     "output_type": "stream",
     "text": [
      "train shape: (444, 855)\n",
      "train target: 444\n",
      "test shape: (50, 855)\n"
     ]
    }
   ],
   "source": [
    "print(\"train shape:\", (len(X_train_.index), len(X_train_.columns)))\n",
    "print(\"train target:\", (len(y_train_.index)))\n",
    "print(\"test shape:\", (len(X_test_.index), len(X_test_.columns)))"
   ]
  },
  {
   "cell_type": "markdown",
   "metadata": {},
   "source": [
    "## Creating a baseline fit with basic data to prep the model"
   ]
  },
  {
   "cell_type": "code",
   "execution_count": 24,
   "metadata": {},
   "outputs": [],
   "source": [
    "# # Initializing lgbm paramaters\n",
    "# params = {\n",
    "#     'num_leaves': config['num_leaves'],\n",
    "#     'max_depth': config['max_depth'],\n",
    "#     'learning_rate': config['learning_rate'],\n",
    "#     'n_estimators': config['n_estimators'],\n",
    "#     'metric': config['metric'],\n",
    "#     'verbose': config['verbose'],\n",
    "#     \"subsample\": config['subsample'],\n",
    "#     \"colsample_bytree\": config['colsample_bytree'],\n",
    "#     \"random_state\": config['random_seed'],\n",
    "#     'min_child_samples': config['min_child_samples']\n",
    "# }"
   ]
  },
  {
   "cell_type": "code",
   "execution_count": 25,
   "metadata": {},
   "outputs": [],
   "source": [
    "# # Get folds\n",
    "# num_folds = config['num_folds']\n",
    "# Kfolds = KFold(n_splits=num_folds, shuffle=True, random_state=config['random_seed'])\n",
    "# folds = []\n",
    "# for train, valid in Kfolds.split(X=X_train_):\n",
    "#     folds.append([train, valid])"
   ]
  },
  {
   "cell_type": "code",
   "execution_count": 26,
   "metadata": {},
   "outputs": [
    {
     "data": {
      "text/plain": [
       "'C:\\\\Users\\\\jakec\\\\my_projects\\\\pbs-media-and-early-chieldhood-education\\\\notebooks\\\\wandb\\\\'"
      ]
     },
     "execution_count": 26,
     "metadata": {},
     "output_type": "execute_result"
    }
   ],
   "source": [
    "wandb.core.wandb_dir()"
   ]
  },
  {
   "cell_type": "code",
   "execution_count": 27,
   "metadata": {},
   "outputs": [],
   "source": [
    "param_space = {\n",
    "    'num_folds': hp.quniform('num_folds', 3, 15, 1),\n",
    "    'num_leaves': hp.quniform('num_leaves', 28, 45, 1),\n",
    "    'max_depth': hp.quniform('max_depth', 5, 20, 1),\n",
    "    'learning_rate': hp.loguniform('learning_rate', np.log(0.0001), np.log(0.2)),\n",
    "    'num_boosting_round': hp.loguniform('num_boosting_round', np.log(10), np.log(10000)),\n",
    "    'metric': hp.choice('metric', ['cappa', 'rmse']),\n",
    "    'verbose': -1,\n",
    "    'subsample': hp.loguniform('subsample', np.log(0.5), np.log(1)),\n",
    "    'colsample_bytree': hp.loguniform('colsample_bytree', np.log(0.5), np.log(1)),\n",
    "    'random_state': 42,\n",
    "    'min_child_samples': hp.quniform('min_child_samples', 5, 20, 1)\n",
    "}"
   ]
  },
  {
   "cell_type": "code",
   "execution_count": 28,
   "metadata": {},
   "outputs": [],
   "source": [
    "# Setting up a sweep config for wandb sweeps (hyper paramater tuning)\n",
    "# sweep_config = {\n",
    "#     'method': 'bayes', #grid, random\n",
    "#     'metric': {\n",
    "#       'name': 'cappa',\n",
    "#       'goal': 'maximize'   \n",
    "#     },\n",
    "#     'parameters': {\n",
    "#         'num_folds': [10, 11],\n",
    "#         'num_leaves': [32],\n",
    "#         'max_depth': [10],\n",
    "#         'learning_rate': [0.001],\n",
    "#         'num_boosting_round': 2000,\n",
    "#         'metric': ['cappa', 'rmse'],\n",
    "#         'verbose': [-1],\n",
    "#         'subsample': [0.97],\n",
    "#         'colsample_bytree': [0.95],\n",
    "#         'random_state': [42],\n",
    "#         'min_child_samples': [11]\n",
    "#     }\n",
    "# }\n",
    "# sweep_id = wandb.sweep(sweep_config, entity=\"sweep\")"
   ]
  },
  {
   "cell_type": "code",
   "execution_count": 29,
   "metadata": {},
   "outputs": [],
   "source": [
    "def fit_lgbm(params, X_train_=X_train, X_test_=X_test, y_train_=y_train.accuracy_group):\n",
    "    wandb.init()\n",
    "    params = {\n",
    "        'num_folds': int(params['num_folds']),\n",
    "        'num_leaves': int(params['num_leaves']),\n",
    "        'max_depth': int(params['max_depth']),\n",
    "        'learning_rate': params['learning_rate'],\n",
    "        'num_boosting_round': int(params['num_boosting_round']),\n",
    "        'metric': params['metric'],\n",
    "        'verbose': params['verbose'],\n",
    "        \"subsample\": params['subsample'],\n",
    "        \"colsample_bytree\": params['colsample_bytree'],\n",
    "        \"random_state\": int(params['random_state']),\n",
    "        'min_child_samples': int(params['min_child_samples'])\n",
    "    }\n",
    "    \n",
    "    # Get folds - this should be updated to group k fold\n",
    "    num_folds = int(params['num_folds'])\n",
    "    Kfolds = KFold(n_splits=num_folds, shuffle=True, random_state=int(params['random_state']))\n",
    "    folds = []\n",
    "    for train, valid in Kfolds.split(X=X_train_):\n",
    "        folds.append([train, valid])\n",
    "    \n",
    "    # Initializing Variables\n",
    "    prd_train = pd.Series(np.zeros(y_train_.shape[0]))\n",
    "    prd_test = np.zeros(X_test_.shape[0])\n",
    "    imp = pd.DataFrame()\n",
    "    MSE = 0\n",
    "    avg_kappa = 0\n",
    "\n",
    "    for n_fld, (trn_idx, vld_idx) in enumerate(folds):\n",
    "        #trn_idx = idx_tab.iloc[trn_num].index\n",
    "        #vld_idx = idx_tab.iloc[vld_num].index\n",
    "        X_train__, y_train__ = X_train_.iloc[trn_idx], y_train_.iloc[trn_idx]\n",
    "        X_valid, y_valid = X_train_.iloc[vld_idx], y_train_.loc[vld_idx]\n",
    "\n",
    "        lgb = LGBMRegressor(**params)\n",
    "\n",
    "        # Fit the model\n",
    "        lgb.fit(X_train__, y_train__)\n",
    "\n",
    "        # applying the model to the validation data\n",
    "        prd_valid = lgb.predict(X_valid)\n",
    "        # Calculating and outputting the RMSE\n",
    "        y_valid = np.array(np.round_(y_valid, decimals=0).astype(int))\n",
    "        prd_valid = np.array(np.round_(prd_valid, decimals=0).astype(int))\n",
    "        fld_MSE = (np.square(y_valid - prd_valid)).mean()\n",
    "#         print(f\"Fold {n_fld + 1} RMSE: {fld_MSE}\")\n",
    "        fld_QWK = quadratic_weighted_kappa(y_valid, prd_valid)\n",
    "#         print(f\"Fold {n_fld + 1} cappa: {fld_QWK}\")\n",
    "        wandb.log({'fold_RMSE': fld_MSE, 'fold_kappa': fld_QWK}, step=n_fld + 1)\n",
    "        # Summing mean squared errors\n",
    "        MSE += fld_MSE/num_folds\n",
    "\n",
    "        # Applying predictions to the train set weighted by the MSE\n",
    "        prd = lgb.predict(X_valid)\n",
    "        prd = np.array(np.round_(prd, decimals=0).astype(int))\n",
    "        prd_train.iloc[vld_idx] = prd\n",
    "\n",
    "        # Applying predictions to the test set weighted by the MSE\n",
    "        prd = lgb.predict(X_test_)\n",
    "        prd_test += prd/num_folds\n",
    "\n",
    "        # Calculating the fold importance\n",
    "        imp_df = pd.DataFrame()\n",
    "        imp_df['fts'] = X_train__.columns\n",
    "        imp_df['imp'] = lgb.booster_.feature_importance(importance_type='gain')\n",
    "\n",
    "        # Summing the fold importances\n",
    "        imp_df['fld'] = n_fld+1\n",
    "        imp = pd.concat([imp, imp_df], axis=0, sort=False)\n",
    "\n",
    "    Importances = imp[[\"fts\", \"imp\"]].groupby(\"fts\").mean().sort_values(by=\"imp\", ascending=False)[:60]\n",
    "\n",
    "    wandb.log({\"Importances\": wandb.Table(data=Importances.reset_index().values.tolist(), columns=['Fetures', 'Importances'])})\n",
    "    wandb.log(config)\n",
    "    wandb.log(params)\n",
    "    wandb.log({'RMSE': np.sqrt(MSE), 'kappa': quadratic_weighted_kappa(y_train_, prd_train)})\n",
    "    \n",
    "    return {'loss': -quadratic_weighted_kappa(y_train_, prd_train), 'status': STATUS_OK, 'other_stuff': {'Importance': Importances.to_dict()}}"
   ]
  },
  {
   "cell_type": "code",
   "execution_count": 30,
   "metadata": {},
   "outputs": [
    {
     "name": "stdout",
     "output_type": "stream",
     "text": [
      "  0%|          | 0/20 [00:00<?, ?it/s, best loss: ?]"
     ]
    },
    {
     "data": {
      "text/html": [
       "\n",
       "                Logging results to <a href=\"https://wandb.com\" target=\"_blank\">Weights & Biases</a> <a href=\"https://docs.wandb.com/integrations/jupyter.html\" target=\"_blank\">(Documentation)</a>.<br/>\n",
       "                Project page: <a href=\"https://app.wandb.ai/jake_cherrie/pbs-early-learning\" target=\"_blank\">https://app.wandb.ai/jake_cherrie/pbs-early-learning</a><br/>\n",
       "                Run page: <a href=\"https://app.wandb.ai/jake_cherrie/pbs-early-learning/runs/0kkd4div\" target=\"_blank\">https://app.wandb.ai/jake_cherrie/pbs-early-learning/runs/0kkd4div</a><br/>\n",
       "            "
      ],
      "text/plain": [
       "<IPython.core.display.HTML object>"
      ]
     },
     "metadata": {},
     "output_type": "display_data"
    },
    {
     "name": "stdout",
     "output_type": "stream",
     "text": [
      "  5%|▌         | 1/20 [00:30<09:34, 30.24s/it, best loss: -0.0]"
     ]
    },
    {
     "data": {
      "text/html": [
       "\n",
       "                Logging results to <a href=\"https://wandb.com\" target=\"_blank\">Weights & Biases</a> <a href=\"https://docs.wandb.com/integrations/jupyter.html\" target=\"_blank\">(Documentation)</a>.<br/>\n",
       "                Project page: <a href=\"https://app.wandb.ai/jake_cherrie/pbs-early-learning\" target=\"_blank\">https://app.wandb.ai/jake_cherrie/pbs-early-learning</a><br/>\n",
       "                Run page: <a href=\"https://app.wandb.ai/jake_cherrie/pbs-early-learning/runs/028stu1f\" target=\"_blank\">https://app.wandb.ai/jake_cherrie/pbs-early-learning/runs/028stu1f</a><br/>\n",
       "            "
      ],
      "text/plain": [
       "<IPython.core.display.HTML object>"
      ]
     },
     "metadata": {},
     "output_type": "display_data"
    },
    {
     "name": "stdout",
     "output_type": "stream",
     "text": [
      " 10%|█         | 2/20 [00:54<08:31, 28.42s/it, best loss: -0.1976879403515973]"
     ]
    },
    {
     "data": {
      "text/html": [
       "\n",
       "                Logging results to <a href=\"https://wandb.com\" target=\"_blank\">Weights & Biases</a> <a href=\"https://docs.wandb.com/integrations/jupyter.html\" target=\"_blank\">(Documentation)</a>.<br/>\n",
       "                Project page: <a href=\"https://app.wandb.ai/jake_cherrie/pbs-early-learning\" target=\"_blank\">https://app.wandb.ai/jake_cherrie/pbs-early-learning</a><br/>\n",
       "                Run page: <a href=\"https://app.wandb.ai/jake_cherrie/pbs-early-learning/runs/e1liob2t\" target=\"_blank\">https://app.wandb.ai/jake_cherrie/pbs-early-learning/runs/e1liob2t</a><br/>\n",
       "            "
      ],
      "text/plain": [
       "<IPython.core.display.HTML object>"
      ]
     },
     "metadata": {},
     "output_type": "display_data"
    },
    {
     "name": "stdout",
     "output_type": "stream",
     "text": [
      " 15%|█▌        | 3/20 [01:13<07:16, 25.67s/it, best loss: -0.1976879403515973]"
     ]
    },
    {
     "data": {
      "text/html": [
       "\n",
       "                Logging results to <a href=\"https://wandb.com\" target=\"_blank\">Weights & Biases</a> <a href=\"https://docs.wandb.com/integrations/jupyter.html\" target=\"_blank\">(Documentation)</a>.<br/>\n",
       "                Project page: <a href=\"https://app.wandb.ai/jake_cherrie/pbs-early-learning\" target=\"_blank\">https://app.wandb.ai/jake_cherrie/pbs-early-learning</a><br/>\n",
       "                Run page: <a href=\"https://app.wandb.ai/jake_cherrie/pbs-early-learning/runs/hbwgcykj\" target=\"_blank\">https://app.wandb.ai/jake_cherrie/pbs-early-learning/runs/hbwgcykj</a><br/>\n",
       "            "
      ],
      "text/plain": [
       "<IPython.core.display.HTML object>"
      ]
     },
     "metadata": {},
     "output_type": "display_data"
    },
    {
     "name": "stdout",
     "output_type": "stream",
     "text": [
      " 20%|██        | 4/20 [01:38<06:48, 25.52s/it, best loss: -0.3139630569902827]"
     ]
    },
    {
     "data": {
      "text/html": [
       "\n",
       "                Logging results to <a href=\"https://wandb.com\" target=\"_blank\">Weights & Biases</a> <a href=\"https://docs.wandb.com/integrations/jupyter.html\" target=\"_blank\">(Documentation)</a>.<br/>\n",
       "                Project page: <a href=\"https://app.wandb.ai/jake_cherrie/pbs-early-learning\" target=\"_blank\">https://app.wandb.ai/jake_cherrie/pbs-early-learning</a><br/>\n",
       "                Run page: <a href=\"https://app.wandb.ai/jake_cherrie/pbs-early-learning/runs/7z54oqzj\" target=\"_blank\">https://app.wandb.ai/jake_cherrie/pbs-early-learning/runs/7z54oqzj</a><br/>\n",
       "            "
      ],
      "text/plain": [
       "<IPython.core.display.HTML object>"
      ]
     },
     "metadata": {},
     "output_type": "display_data"
    },
    {
     "name": "stdout",
     "output_type": "stream",
     "text": [
      " 25%|██▌       | 5/20 [01:51<05:24, 21.67s/it, best loss: -0.3139630569902827]"
     ]
    },
    {
     "data": {
      "text/html": [
       "\n",
       "                Logging results to <a href=\"https://wandb.com\" target=\"_blank\">Weights & Biases</a> <a href=\"https://docs.wandb.com/integrations/jupyter.html\" target=\"_blank\">(Documentation)</a>.<br/>\n",
       "                Project page: <a href=\"https://app.wandb.ai/jake_cherrie/pbs-early-learning\" target=\"_blank\">https://app.wandb.ai/jake_cherrie/pbs-early-learning</a><br/>\n",
       "                Run page: <a href=\"https://app.wandb.ai/jake_cherrie/pbs-early-learning/runs/h8ri3rv4\" target=\"_blank\">https://app.wandb.ai/jake_cherrie/pbs-early-learning/runs/h8ri3rv4</a><br/>\n",
       "            "
      ],
      "text/plain": [
       "<IPython.core.display.HTML object>"
      ]
     },
     "metadata": {},
     "output_type": "display_data"
    },
    {
     "name": "stdout",
     "output_type": "stream",
     "text": [
      " 30%|███       | 6/20 [02:01<04:12, 18.06s/it, best loss: -0.3139630569902827]"
     ]
    },
    {
     "data": {
      "text/html": [
       "\n",
       "                Logging results to <a href=\"https://wandb.com\" target=\"_blank\">Weights & Biases</a> <a href=\"https://docs.wandb.com/integrations/jupyter.html\" target=\"_blank\">(Documentation)</a>.<br/>\n",
       "                Project page: <a href=\"https://app.wandb.ai/jake_cherrie/pbs-early-learning\" target=\"_blank\">https://app.wandb.ai/jake_cherrie/pbs-early-learning</a><br/>\n",
       "                Run page: <a href=\"https://app.wandb.ai/jake_cherrie/pbs-early-learning/runs/dbbpjpg7\" target=\"_blank\">https://app.wandb.ai/jake_cherrie/pbs-early-learning/runs/dbbpjpg7</a><br/>\n",
       "            "
      ],
      "text/plain": [
       "<IPython.core.display.HTML object>"
      ]
     },
     "metadata": {},
     "output_type": "display_data"
    },
    {
     "name": "stdout",
     "output_type": "stream",
     "text": [
      " 35%|███▌      | 7/20 [02:11<03:23, 15.62s/it, best loss: -0.3139630569902827]"
     ]
    },
    {
     "data": {
      "text/html": [
       "\n",
       "                Logging results to <a href=\"https://wandb.com\" target=\"_blank\">Weights & Biases</a> <a href=\"https://docs.wandb.com/integrations/jupyter.html\" target=\"_blank\">(Documentation)</a>.<br/>\n",
       "                Project page: <a href=\"https://app.wandb.ai/jake_cherrie/pbs-early-learning\" target=\"_blank\">https://app.wandb.ai/jake_cherrie/pbs-early-learning</a><br/>\n",
       "                Run page: <a href=\"https://app.wandb.ai/jake_cherrie/pbs-early-learning/runs/gkez57zw\" target=\"_blank\">https://app.wandb.ai/jake_cherrie/pbs-early-learning/runs/gkez57zw</a><br/>\n",
       "            "
      ],
      "text/plain": [
       "<IPython.core.display.HTML object>"
      ]
     },
     "metadata": {},
     "output_type": "display_data"
    },
    {
     "name": "stdout",
     "output_type": "stream",
     "text": [
      " 40%|████      | 8/20 [02:32<03:27, 17.26s/it, best loss: -0.3139630569902827]"
     ]
    },
    {
     "data": {
      "text/html": [
       "\n",
       "                Logging results to <a href=\"https://wandb.com\" target=\"_blank\">Weights & Biases</a> <a href=\"https://docs.wandb.com/integrations/jupyter.html\" target=\"_blank\">(Documentation)</a>.<br/>\n",
       "                Project page: <a href=\"https://app.wandb.ai/jake_cherrie/pbs-early-learning\" target=\"_blank\">https://app.wandb.ai/jake_cherrie/pbs-early-learning</a><br/>\n",
       "                Run page: <a href=\"https://app.wandb.ai/jake_cherrie/pbs-early-learning/runs/3i4t4qj2\" target=\"_blank\">https://app.wandb.ai/jake_cherrie/pbs-early-learning/runs/3i4t4qj2</a><br/>\n",
       "            "
      ],
      "text/plain": [
       "<IPython.core.display.HTML object>"
      ]
     },
     "metadata": {},
     "output_type": "display_data"
    },
    {
     "name": "stdout",
     "output_type": "stream",
     "text": [
      " 45%|████▌     | 9/20 [02:52<03:20, 18.20s/it, best loss: -0.3139630569902827]"
     ]
    },
    {
     "data": {
      "text/html": [
       "\n",
       "                Logging results to <a href=\"https://wandb.com\" target=\"_blank\">Weights & Biases</a> <a href=\"https://docs.wandb.com/integrations/jupyter.html\" target=\"_blank\">(Documentation)</a>.<br/>\n",
       "                Project page: <a href=\"https://app.wandb.ai/jake_cherrie/pbs-early-learning\" target=\"_blank\">https://app.wandb.ai/jake_cherrie/pbs-early-learning</a><br/>\n",
       "                Run page: <a href=\"https://app.wandb.ai/jake_cherrie/pbs-early-learning/runs/myfmwtwk\" target=\"_blank\">https://app.wandb.ai/jake_cherrie/pbs-early-learning/runs/myfmwtwk</a><br/>\n",
       "            "
      ],
      "text/plain": [
       "<IPython.core.display.HTML object>"
      ]
     },
     "metadata": {},
     "output_type": "display_data"
    },
    {
     "name": "stdout",
     "output_type": "stream",
     "text": [
      " 50%|█████     | 10/20 [03:18<03:23, 20.39s/it, best loss: -0.3139630569902827]"
     ]
    },
    {
     "data": {
      "text/html": [
       "\n",
       "                Logging results to <a href=\"https://wandb.com\" target=\"_blank\">Weights & Biases</a> <a href=\"https://docs.wandb.com/integrations/jupyter.html\" target=\"_blank\">(Documentation)</a>.<br/>\n",
       "                Project page: <a href=\"https://app.wandb.ai/jake_cherrie/pbs-early-learning\" target=\"_blank\">https://app.wandb.ai/jake_cherrie/pbs-early-learning</a><br/>\n",
       "                Run page: <a href=\"https://app.wandb.ai/jake_cherrie/pbs-early-learning/runs/lb59xgt5\" target=\"_blank\">https://app.wandb.ai/jake_cherrie/pbs-early-learning/runs/lb59xgt5</a><br/>\n",
       "            "
      ],
      "text/plain": [
       "<IPython.core.display.HTML object>"
      ]
     },
     "metadata": {},
     "output_type": "display_data"
    },
    {
     "name": "stdout",
     "output_type": "stream",
     "text": [
      " 55%|█████▌    | 11/20 [03:39<03:05, 20.58s/it, best loss: -0.3139630569902827]"
     ]
    },
    {
     "data": {
      "text/html": [
       "\n",
       "                Logging results to <a href=\"https://wandb.com\" target=\"_blank\">Weights & Biases</a> <a href=\"https://docs.wandb.com/integrations/jupyter.html\" target=\"_blank\">(Documentation)</a>.<br/>\n",
       "                Project page: <a href=\"https://app.wandb.ai/jake_cherrie/pbs-early-learning\" target=\"_blank\">https://app.wandb.ai/jake_cherrie/pbs-early-learning</a><br/>\n",
       "                Run page: <a href=\"https://app.wandb.ai/jake_cherrie/pbs-early-learning/runs/h128bxwy\" target=\"_blank\">https://app.wandb.ai/jake_cherrie/pbs-early-learning/runs/h128bxwy</a><br/>\n",
       "            "
      ],
      "text/plain": [
       "<IPython.core.display.HTML object>"
      ]
     },
     "metadata": {},
     "output_type": "display_data"
    },
    {
     "name": "stdout",
     "output_type": "stream",
     "text": [
      " 60%|██████    | 12/20 [04:01<02:48, 21.08s/it, best loss: -0.3139630569902827]"
     ]
    },
    {
     "data": {
      "text/html": [
       "\n",
       "                Logging results to <a href=\"https://wandb.com\" target=\"_blank\">Weights & Biases</a> <a href=\"https://docs.wandb.com/integrations/jupyter.html\" target=\"_blank\">(Documentation)</a>.<br/>\n",
       "                Project page: <a href=\"https://app.wandb.ai/jake_cherrie/pbs-early-learning\" target=\"_blank\">https://app.wandb.ai/jake_cherrie/pbs-early-learning</a><br/>\n",
       "                Run page: <a href=\"https://app.wandb.ai/jake_cherrie/pbs-early-learning/runs/eq6dlxk4\" target=\"_blank\">https://app.wandb.ai/jake_cherrie/pbs-early-learning/runs/eq6dlxk4</a><br/>\n",
       "            "
      ],
      "text/plain": [
       "<IPython.core.display.HTML object>"
      ]
     },
     "metadata": {},
     "output_type": "display_data"
    },
    {
     "name": "stdout",
     "output_type": "stream",
     "text": [
      " 65%|██████▌   | 13/20 [04:25<02:34, 22.00s/it, best loss: -0.3139630569902827]"
     ]
    },
    {
     "data": {
      "text/html": [
       "\n",
       "                Logging results to <a href=\"https://wandb.com\" target=\"_blank\">Weights & Biases</a> <a href=\"https://docs.wandb.com/integrations/jupyter.html\" target=\"_blank\">(Documentation)</a>.<br/>\n",
       "                Project page: <a href=\"https://app.wandb.ai/jake_cherrie/pbs-early-learning\" target=\"_blank\">https://app.wandb.ai/jake_cherrie/pbs-early-learning</a><br/>\n",
       "                Run page: <a href=\"https://app.wandb.ai/jake_cherrie/pbs-early-learning/runs/ufsja1pr\" target=\"_blank\">https://app.wandb.ai/jake_cherrie/pbs-early-learning/runs/ufsja1pr</a><br/>\n",
       "            "
      ],
      "text/plain": [
       "<IPython.core.display.HTML object>"
      ]
     },
     "metadata": {},
     "output_type": "display_data"
    },
    {
     "name": "stdout",
     "output_type": "stream",
     "text": [
      " 70%|███████   | 14/20 [04:35<01:51, 18.52s/it, best loss: -0.3139630569902827]"
     ]
    },
    {
     "data": {
      "text/html": [
       "\n",
       "                Logging results to <a href=\"https://wandb.com\" target=\"_blank\">Weights & Biases</a> <a href=\"https://docs.wandb.com/integrations/jupyter.html\" target=\"_blank\">(Documentation)</a>.<br/>\n",
       "                Project page: <a href=\"https://app.wandb.ai/jake_cherrie/pbs-early-learning\" target=\"_blank\">https://app.wandb.ai/jake_cherrie/pbs-early-learning</a><br/>\n",
       "                Run page: <a href=\"https://app.wandb.ai/jake_cherrie/pbs-early-learning/runs/jhttkayj\" target=\"_blank\">https://app.wandb.ai/jake_cherrie/pbs-early-learning/runs/jhttkayj</a><br/>\n",
       "            "
      ],
      "text/plain": [
       "<IPython.core.display.HTML object>"
      ]
     },
     "metadata": {},
     "output_type": "display_data"
    },
    {
     "name": "stdout",
     "output_type": "stream",
     "text": [
      " 75%|███████▌  | 15/20 [04:46<01:21, 16.22s/it, best loss: -0.3139630569902827]"
     ]
    },
    {
     "data": {
      "text/html": [
       "\n",
       "                Logging results to <a href=\"https://wandb.com\" target=\"_blank\">Weights & Biases</a> <a href=\"https://docs.wandb.com/integrations/jupyter.html\" target=\"_blank\">(Documentation)</a>.<br/>\n",
       "                Project page: <a href=\"https://app.wandb.ai/jake_cherrie/pbs-early-learning\" target=\"_blank\">https://app.wandb.ai/jake_cherrie/pbs-early-learning</a><br/>\n",
       "                Run page: <a href=\"https://app.wandb.ai/jake_cherrie/pbs-early-learning/runs/dlduq92s\" target=\"_blank\">https://app.wandb.ai/jake_cherrie/pbs-early-learning/runs/dlduq92s</a><br/>\n",
       "            "
      ],
      "text/plain": [
       "<IPython.core.display.HTML object>"
      ]
     },
     "metadata": {},
     "output_type": "display_data"
    },
    {
     "name": "stdout",
     "output_type": "stream",
     "text": [
      " 80%|████████  | 16/20 [04:59<01:00, 15.05s/it, best loss: -0.3139630569902827]"
     ]
    },
    {
     "data": {
      "text/html": [
       "\n",
       "                Logging results to <a href=\"https://wandb.com\" target=\"_blank\">Weights & Biases</a> <a href=\"https://docs.wandb.com/integrations/jupyter.html\" target=\"_blank\">(Documentation)</a>.<br/>\n",
       "                Project page: <a href=\"https://app.wandb.ai/jake_cherrie/pbs-early-learning\" target=\"_blank\">https://app.wandb.ai/jake_cherrie/pbs-early-learning</a><br/>\n",
       "                Run page: <a href=\"https://app.wandb.ai/jake_cherrie/pbs-early-learning/runs/syl54fmk\" target=\"_blank\">https://app.wandb.ai/jake_cherrie/pbs-early-learning/runs/syl54fmk</a><br/>\n",
       "            "
      ],
      "text/plain": [
       "<IPython.core.display.HTML object>"
      ]
     },
     "metadata": {},
     "output_type": "display_data"
    },
    {
     "name": "stdout",
     "output_type": "stream",
     "text": [
      " 85%|████████▌ | 17/20 [05:07<00:39, 13.12s/it, best loss: -0.3139630569902827]"
     ]
    },
    {
     "data": {
      "text/html": [
       "\n",
       "                Logging results to <a href=\"https://wandb.com\" target=\"_blank\">Weights & Biases</a> <a href=\"https://docs.wandb.com/integrations/jupyter.html\" target=\"_blank\">(Documentation)</a>.<br/>\n",
       "                Project page: <a href=\"https://app.wandb.ai/jake_cherrie/pbs-early-learning\" target=\"_blank\">https://app.wandb.ai/jake_cherrie/pbs-early-learning</a><br/>\n",
       "                Run page: <a href=\"https://app.wandb.ai/jake_cherrie/pbs-early-learning/runs/zjdnli0k\" target=\"_blank\">https://app.wandb.ai/jake_cherrie/pbs-early-learning/runs/zjdnli0k</a><br/>\n",
       "            "
      ],
      "text/plain": [
       "<IPython.core.display.HTML object>"
      ]
     },
     "metadata": {},
     "output_type": "display_data"
    },
    {
     "name": "stdout",
     "output_type": "stream",
     "text": [
      " 90%|█████████ | 18/20 [05:21<00:26, 13.43s/it, best loss: -0.3366302030545556]"
     ]
    },
    {
     "data": {
      "text/html": [
       "\n",
       "                Logging results to <a href=\"https://wandb.com\" target=\"_blank\">Weights & Biases</a> <a href=\"https://docs.wandb.com/integrations/jupyter.html\" target=\"_blank\">(Documentation)</a>.<br/>\n",
       "                Project page: <a href=\"https://app.wandb.ai/jake_cherrie/pbs-early-learning\" target=\"_blank\">https://app.wandb.ai/jake_cherrie/pbs-early-learning</a><br/>\n",
       "                Run page: <a href=\"https://app.wandb.ai/jake_cherrie/pbs-early-learning/runs/r0usb2ak\" target=\"_blank\">https://app.wandb.ai/jake_cherrie/pbs-early-learning/runs/r0usb2ak</a><br/>\n",
       "            "
      ],
      "text/plain": [
       "<IPython.core.display.HTML object>"
      ]
     },
     "metadata": {},
     "output_type": "display_data"
    },
    {
     "name": "stdout",
     "output_type": "stream",
     "text": [
      " 95%|█████████▌| 19/20 [05:42<00:15, 15.55s/it, best loss: -0.3366302030545556]"
     ]
    },
    {
     "data": {
      "text/html": [
       "\n",
       "                Logging results to <a href=\"https://wandb.com\" target=\"_blank\">Weights & Biases</a> <a href=\"https://docs.wandb.com/integrations/jupyter.html\" target=\"_blank\">(Documentation)</a>.<br/>\n",
       "                Project page: <a href=\"https://app.wandb.ai/jake_cherrie/pbs-early-learning\" target=\"_blank\">https://app.wandb.ai/jake_cherrie/pbs-early-learning</a><br/>\n",
       "                Run page: <a href=\"https://app.wandb.ai/jake_cherrie/pbs-early-learning/runs/cyg6oxji\" target=\"_blank\">https://app.wandb.ai/jake_cherrie/pbs-early-learning/runs/cyg6oxji</a><br/>\n",
       "            "
      ],
      "text/plain": [
       "<IPython.core.display.HTML object>"
      ]
     },
     "metadata": {},
     "output_type": "display_data"
    },
    {
     "name": "stdout",
     "output_type": "stream",
     "text": [
      "100%|██████████| 20/20 [05:54<00:00, 17.74s/it, best loss: -0.3366302030545556]\n"
     ]
    }
   ],
   "source": [
    "# wandb.agent(sweep_id, function=train)\n",
    "trials = Trials()\n",
    "best = fmin(fn=fit_lgbm, space=param_space, algo=tpe.suggest, max_evals=config['num_trials'], trials=trials, verbose=1)"
   ]
  },
  {
   "cell_type": "code",
   "execution_count": 55,
   "metadata": {},
   "outputs": [],
   "source": [
    "best_kappa = 0\n",
    "best_trial = None\n",
    "for trial in trials.results:\n",
    "    if best_kappa < -trial['loss']:\n",
    "        best_trial = trial"
   ]
  },
  {
   "cell_type": "code",
   "execution_count": 65,
   "metadata": {},
   "outputs": [],
   "source": [
    "Importances = pd.DataFrame(list(best_trial['other_stuff']['Importance']['imp'].items()), columns=['Feature', 'Importance'])"
   ]
  },
  {
   "cell_type": "code",
   "execution_count": 70,
   "metadata": {},
   "outputs": [
    {
     "data": {
      "text/plain": [
       "Text(0.5, 1.0, 'Features (avg over folds)')"
      ]
     },
     "execution_count": 70,
     "metadata": {},
     "output_type": "execute_result"
    },
    {
     "data": {
      "image/png": "[encoded data removed]",
      "text/plain": [
       "<Figure size 576x864 with 1 Axes>"
      ]
     },
     "metadata": {
      "needs_background": "light"
     },
     "output_type": "display_data"
    }
   ],
   "source": [
    "# Ploting feature importances\n",
    "Importances['Log Importance'] = np.log1p(Importances['Importance'])\n",
    "plt.figure(figsize=(8, 12))\n",
    "sns.barplot(x=\"Log Importance\", y=\"Feature\", data=Importances.sort_values(by=\"Importance\", ascending=False))\n",
    "plt.title('Features (avg over folds)')"
   ]
  },
  {
   "cell_type": "code",
   "execution_count": null,
   "metadata": {},
   "outputs": [],
   "source": []
  }
 ],
 "metadata": {
  "kernelspec": {
   "display_name": "Python 3",
   "language": "python",
   "name": "python3"
  },
  "language_info": {
   "codemirror_mode": {
    "name": "ipython",
    "version": 3
   },
   "file_extension": ".py",
   "mimetype": "text/x-python",
   "name": "python",
   "nbconvert_exporter": "python",
   "pygments_lexer": "ipython3",
   "version": "3.7.5"
  }
 },
 "nbformat": 4,
 "nbformat_minor": 4
}
